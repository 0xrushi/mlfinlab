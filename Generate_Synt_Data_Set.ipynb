{
 "cells": [
  {
   "cell_type": "code",
   "execution_count": 1,
   "metadata": {},
   "outputs": [],
   "source": [
    "import os\n",
    "import unittest\n",
    "\n",
    "import numpy as np\n",
    "import pandas as pd\n",
    "\n",
    "from sklearn.metrics import precision_score, recall_score, roc_auc_score, accuracy_score, mean_absolute_error, \\\n",
    "    mean_squared_error\n",
    "from sklearn.ensemble import BaggingClassifier, BaggingRegressor, RandomForestClassifier, RandomForestRegressor\n",
    "from sklearn.neighbors import KNeighborsClassifier\n",
    "from sklearn.svm import LinearSVC\n",
    "from sklearn.utils import indices_to_mask\n",
    "\n",
    "from mlfinlab.util.utils import get_daily_vol\n",
    "from mlfinlab.filters.filters import cusum_filter\n",
    "from mlfinlab.ensemble.sb_bagging import SequentiallyBootstrappedBaggingClassifier, \\\n",
    "    SequentiallyBootstrappedBaggingRegressor\n",
    "from mlfinlab.labeling.labeling import get_events, add_vertical_barrier, get_bins\n",
    "from mlfinlab.sampling.bootstrapping import seq_bootstrap, get_ind_matrix, get_ind_mat_average_uniqueness, get_ind_mat_label_uniqueness"
   ]
  },
  {
   "cell_type": "code",
   "execution_count": 2,
   "metadata": {},
   "outputs": [],
   "source": [
    "data = pd.read_csv('mlfinlab/tests/test_data/dollar_bar_sample.csv', index_col = 'date_time', parse_dates = [0])"
   ]
  },
  {
   "cell_type": "code",
   "execution_count": 3,
   "metadata": {},
   "outputs": [],
   "source": [
    "fast_window = 20\n",
    "slow_window = 50"
   ]
  },
  {
   "cell_type": "code",
   "execution_count": 4,
   "metadata": {},
   "outputs": [],
   "source": [
    "data['fast_mavg'] = data['close'].rolling(window=fast_window, min_periods=fast_window,\n",
    "                                                            center=False).mean()\n",
    "data['slow_mavg'] = data['close'].rolling(window=slow_window, min_periods=slow_window,\n",
    "                                                    center=False).mean()"
   ]
  },
  {
   "cell_type": "code",
   "execution_count": 5,
   "metadata": {},
   "outputs": [
    {
     "name": "stderr",
     "output_type": "stream",
     "text": [
      "/home/alex/workspace/mlfinlab/mlfinlab/labeling/labeling.py:122: FutureWarning: \n",
      "Passing list-likes to .loc or [] with any missing label will raise\n",
      "KeyError in the future, you can use .reindex() as an alternative.\n",
      "\n",
      "See the documentation here:\n",
      "https://pandas.pydata.org/pandas-docs/stable/indexing.html#deprecate-loc-reindex-listlike\n",
      "  target = target.loc[t_events]\n",
      "2019-08-28 20:53:42.901578 100.0% apply_pt_sl_on_t1 done after 0.01 minutes. Remaining 0.0 minutes..\n"
     ]
    }
   ],
   "source": [
    "# Compute sides\n",
    "data['side'] = np.nan\n",
    "\n",
    "long_signals = data['fast_mavg'] >= data['slow_mavg']\n",
    "short_signals = data['fast_mavg'] < data['slow_mavg']\n",
    "data.loc[long_signals, 'side'] = 1\n",
    "data.loc[short_signals, 'side'] = -1\n",
    "\n",
    "# Remove Look ahead bias by lagging the signal\n",
    "data['side'] = data['side'].shift(1)\n",
    "\n",
    "daily_vol = get_daily_vol(close=data['close'], lookback=50) * 0.5\n",
    "cusum_events = cusum_filter(data['close'], threshold=0.001)\n",
    "vertical_barriers = add_vertical_barrier(t_events=cusum_events, close=data['close'],\n",
    "                                         num_hours=2)\n",
    "meta_labeled_events = get_events(close=data['close'],\n",
    "                                      t_events=cusum_events,\n",
    "                                      pt_sl=[1, 4],\n",
    "                                      target=daily_vol,\n",
    "                                      min_ret=0.0000005,\n",
    "                                      num_threads=3,\n",
    "                                      vertical_barrier_times=vertical_barriers,\n",
    "                                      side_prediction=data['side'])\n",
    "\n",
    "meta_labeled_events.dropna(inplace=True)\n",
    "labels = get_bins(meta_labeled_events, data['close'])"
   ]
  },
  {
   "cell_type": "code",
   "execution_count": 6,
   "metadata": {},
   "outputs": [],
   "source": [
    "ind_mat = get_ind_matrix(meta_labeled_events.t1, data.close)"
   ]
  },
  {
   "cell_type": "code",
   "execution_count": 7,
   "metadata": {},
   "outputs": [],
   "source": [
    "i = 0\n",
    "unique_samples = []\n",
    "uniqueness_thresh = 0.4\n",
    "bad_unq = 0.1\n",
    "for label in get_ind_mat_label_uniqueness(ind_mat):\n",
    "    if np.mean(label[label >0]) > uniqueness_thresh or np.mean(label[label >0]) <  bad_unq:\n",
    "        unique_samples.append(i)\n",
    "    i += 1"
   ]
  },
  {
   "cell_type": "code",
   "execution_count": 8,
   "metadata": {},
   "outputs": [
    {
     "data": {
      "text/plain": [
       "119"
      ]
     },
     "execution_count": 8,
     "metadata": {},
     "output_type": "execute_result"
    }
   ],
   "source": [
    "len(unique_samples)"
   ]
  },
  {
   "cell_type": "code",
   "execution_count": 9,
   "metadata": {},
   "outputs": [
    {
     "name": "stderr",
     "output_type": "stream",
     "text": [
      "/home/alex/workspace/mlfinlab/mlfinlab/sampling/bootstrapping.py:62: RuntimeWarning: divide by zero encountered in true_divide\n",
      "  uniqueness = ind_mat.T / concurrency\n",
      "/home/alex/workspace/mlfinlab/mlfinlab/sampling/bootstrapping.py:62: RuntimeWarning: invalid value encountered in true_divide\n",
      "  uniqueness = ind_mat.T / concurrency\n",
      "/home/alex/workspace/mlfinlab/mlfinlab/sampling/bootstrapping.py:64: RuntimeWarning: invalid value encountered in greater\n",
      "  avg_uniqueness = uniqueness[uniqueness > 0].mean()\n"
     ]
    },
    {
     "data": {
      "text/plain": [
       "0.3161925601750547"
      ]
     },
     "execution_count": 9,
     "metadata": {},
     "output_type": "execute_result"
    }
   ],
   "source": [
    "get_ind_mat_average_uniqueness(ind_mat[:, unique_samples])"
   ]
  },
  {
   "cell_type": "code",
   "execution_count": 10,
   "metadata": {},
   "outputs": [],
   "source": [
    "X = data.loc[labels.index, ].iloc[unique_samples].dropna()\n",
    "labels = labels.loc[X.index, :]"
   ]
  },
  {
   "cell_type": "code",
   "execution_count": 11,
   "metadata": {},
   "outputs": [
    {
     "data": {
      "text/plain": [
       "((119, 10), (119, 4))"
      ]
     },
     "execution_count": 11,
     "metadata": {},
     "output_type": "execute_result"
    }
   ],
   "source": [
    "X.shape, labels.shape"
   ]
  },
  {
   "cell_type": "code",
   "execution_count": 12,
   "metadata": {},
   "outputs": [],
   "source": [
    "X.loc[labels.index, 'y'] = labels.bin"
   ]
  },
  {
   "cell_type": "code",
   "execution_count": 13,
   "metadata": {},
   "outputs": [
    {
     "data": {
      "text/plain": [
       "0    72\n",
       "1    47\n",
       "Name: bin, dtype: int64"
      ]
     },
     "execution_count": 13,
     "metadata": {},
     "output_type": "execute_result"
    }
   ],
   "source": [
    "labels.bin.value_counts()"
   ]
  },
  {
   "cell_type": "code",
   "execution_count": 14,
   "metadata": {},
   "outputs": [
    {
     "data": {
      "text/plain": [
       "(119, 11)"
      ]
     },
     "execution_count": 14,
     "metadata": {},
     "output_type": "execute_result"
    }
   ],
   "source": [
    "X.shape"
   ]
  },
  {
   "cell_type": "code",
   "execution_count": 15,
   "metadata": {},
   "outputs": [],
   "source": [
    "# generate superfeatures\n",
    "def _generate_label_with_prob(x, prob):\n",
    "    rs = np.random.RandomState(1)\n",
    "    random_labels = []   \n",
    "    choice = np.random.choice([0, 1],  p = [1-prob, prob])\n",
    "    if choice == 1:\n",
    "        return x\n",
    "    else:\n",
    "        return int(not x)"
   ]
  },
  {
   "cell_type": "code",
   "execution_count": 16,
   "metadata": {},
   "outputs": [],
   "source": [
    "for index, value in X.y.iteritems():\n",
    "    X.loc[index, 'label_prob_0.5'] = _generate_label_with_prob(value, 0.5)\n",
    "    X.loc[index, 'label_prob_0.3'] = _generate_label_with_prob(value, 0.3)\n",
    "    X.loc[index, 'label_prob_0.2'] = _generate_label_with_prob(value, 0.2)\n",
    "    X.loc[index, 'label_prob_0.1'] = _generate_label_with_prob(value, 0.1)"
   ]
  },
  {
   "cell_type": "code",
   "execution_count": 17,
   "metadata": {},
   "outputs": [
    {
     "data": {
      "text/plain": [
       "0.0    60\n",
       "1.0    59\n",
       "Name: label_prob_0.5, dtype: int64"
      ]
     },
     "execution_count": 17,
     "metadata": {},
     "output_type": "execute_result"
    }
   ],
   "source": [
    "X['label_prob_0.5'].value_counts()"
   ]
  },
  {
   "cell_type": "code",
   "execution_count": 18,
   "metadata": {},
   "outputs": [
    {
     "data": {
      "text/plain": [
       "0    72\n",
       "1    47\n",
       "Name: y, dtype: int64"
      ]
     },
     "execution_count": 18,
     "metadata": {},
     "output_type": "execute_result"
    }
   ],
   "source": [
    "X.y.value_counts()"
   ]
  },
  {
   "cell_type": "code",
   "execution_count": 19,
   "metadata": {},
   "outputs": [],
   "source": [
    "features = ['label_prob_0.3', 'label_prob_0.2']\n",
    "features = []\n",
    "for prob in [0.5, 0.3, 0.2]:\n",
    "    for window in [2,5,10]: \n",
    "        X['label_prob_{}_sma_{}'.format(prob, window)] = X['label_prob_{}'.format(prob)].rolling(window=window).mean()\n",
    "        features.append('label_prob_{}_sma_{}'.format(prob, window))"
   ]
  },
  {
   "cell_type": "code",
   "execution_count": 20,
   "metadata": {},
   "outputs": [],
   "source": [
    "X.dropna(inplace=True)"
   ]
  },
  {
   "cell_type": "code",
   "execution_count": 21,
   "metadata": {},
   "outputs": [],
   "source": [
    "y = X.pop('y')"
   ]
  },
  {
   "cell_type": "code",
   "execution_count": 22,
   "metadata": {},
   "outputs": [
    {
     "data": {
      "text/plain": [
       "110"
      ]
     },
     "execution_count": 22,
     "metadata": {},
     "output_type": "execute_result"
    }
   ],
   "source": [
    "X.shape[0]"
   ]
  },
  {
   "cell_type": "code",
   "execution_count": 23,
   "metadata": {},
   "outputs": [],
   "source": [
    "X_train, y_train = X.iloc[:70][features], y.iloc[:70]\n",
    "X_test, y_test = X.iloc[70:][features], y.iloc[70:]"
   ]
  },
  {
   "cell_type": "code",
   "execution_count": 24,
   "metadata": {},
   "outputs": [
    {
     "data": {
      "text/plain": [
       "SequentiallyBootstrappedBaggingClassifier(base_estimator=RandomForestClassifier(bootstrap=False,\n",
       "                                                                                class_weight='balanced_subsample',\n",
       "                                                                                criterion='entropy',\n",
       "                                                                                max_depth=None,\n",
       "                                                                                max_features='auto',\n",
       "                                                                                max_leaf_nodes=None,\n",
       "                                                                                min_impurity_decrease=0.0,\n",
       "                                                                                min_impurity_split=None,\n",
       "                                                                                min_samples_leaf=1,\n",
       "                                                                                min_samples_split=2,\n",
       "                                                                                min_weight_fraction_leaf=0.0,\n",
       "                                                                                n_estimators=1,\n",
       "                                                                                n_jobs=None,...\n",
       "2015-01-16 14:36:45.079    1991.75\n",
       "2015-01-16 14:39:45.256    1992.50\n",
       "2015-01-16 14:44:21.870    1992.50\n",
       "2015-01-16 14:49:13.403    1990.00\n",
       "2015-01-16 14:55:20.984    1987.50\n",
       "2015-01-16 15:00:46.337    1991.25\n",
       "2015-01-16 15:04:04.554    1984.00\n",
       "2015-01-16 15:08:30.756    1987.00\n",
       "2015-01-16 15:13:53.432    1983.25\n",
       "2015-01-16 15:19:50.269    1987.00\n",
       "Name: close, Length: 492, dtype: float64,\n",
       "                                          random_state=None, verbose=0,\n",
       "                                          warm_start=False)"
      ]
     },
     "execution_count": 24,
     "metadata": {},
     "output_type": "execute_result"
    }
   ],
   "source": [
    "end_times = meta_labeled_events.loc[X_train.index, 't1']\n",
    "price_bars_trim = data[(data.index >= X_train.index.min()) & (data.index <= X_train.index.max())].close\n",
    "\n",
    "clf = RandomForestClassifier(n_estimators=100, oob_score=True, class_weight='balanced_subsample')\n",
    "\n",
    "clf_base = RandomForestClassifier(n_estimators=1, criterion='entropy', bootstrap=False,\n",
    "                                     class_weight='balanced_subsample')\n",
    "\n",
    "clf_2 = SequentiallyBootstrappedBaggingClassifier(n_estimators=100, oob_score=True, events_end_times=end_times, price_bars=price_bars_trim, base_estimator=clf_base)\n",
    "\n",
    "\n",
    "\n",
    "clf.fit(X_train, y_train)\n",
    "clf_2.fit(X_train, y_train)"
   ]
  },
  {
   "cell_type": "code",
   "execution_count": 25,
   "metadata": {},
   "outputs": [
    {
     "data": {
      "text/plain": [
       "0.6"
      ]
     },
     "execution_count": 25,
     "metadata": {},
     "output_type": "execute_result"
    }
   ],
   "source": [
    "clf.oob_score_"
   ]
  },
  {
   "cell_type": "code",
   "execution_count": 26,
   "metadata": {},
   "outputs": [
    {
     "data": {
      "text/plain": [
       "0.9857142857142858"
      ]
     },
     "execution_count": 26,
     "metadata": {},
     "output_type": "execute_result"
    }
   ],
   "source": [
    "clf_2.oob_score_"
   ]
  },
  {
   "cell_type": "code",
   "execution_count": 27,
   "metadata": {},
   "outputs": [],
   "source": [
    "from sklearn.metrics import accuracy_score, f1_score"
   ]
  },
  {
   "cell_type": "code",
   "execution_count": 28,
   "metadata": {},
   "outputs": [
    {
     "data": {
      "text/plain": [
       "(0.575, 0.41379310344827586)"
      ]
     },
     "execution_count": 28,
     "metadata": {},
     "output_type": "execute_result"
    }
   ],
   "source": [
    "accuracy_score(y_test, clf.predict(X_test)), f1_score(y_test, clf.predict(X_test))"
   ]
  },
  {
   "cell_type": "code",
   "execution_count": 29,
   "metadata": {},
   "outputs": [
    {
     "data": {
      "text/plain": [
       "(0.675, 0.6060606060606061)"
      ]
     },
     "execution_count": 29,
     "metadata": {},
     "output_type": "execute_result"
    }
   ],
   "source": [
    "accuracy_score(y_test, clf_2.predict(X_test)), f1_score(y_test, clf_2.predict(X_test))"
   ]
  },
  {
   "cell_type": "code",
   "execution_count": null,
   "metadata": {},
   "outputs": [],
   "source": []
  }
 ],
 "metadata": {
  "kernelspec": {
   "display_name": "Python 3",
   "language": "python",
   "name": "python3"
  },
  "language_info": {
   "codemirror_mode": {
    "name": "ipython",
    "version": 3
   },
   "file_extension": ".py",
   "mimetype": "text/x-python",
   "name": "python",
   "nbconvert_exporter": "python",
   "pygments_lexer": "ipython3",
   "version": "3.7.3"
  }
 },
 "nbformat": 4,
 "nbformat_minor": 2
}
