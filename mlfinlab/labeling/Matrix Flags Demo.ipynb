{
 "cells": [
  {
   "cell_type": "code",
   "execution_count": 1,
   "metadata": {},
   "outputs": [],
   "source": [
    "import pandas as pd\n",
    "import numpy as np\n",
    "from scipy import stats\n",
    "import yfinance as yf\n",
    "\n",
    "from mlfinlab.labeling.matrix_flags import MatrixFlagLabels"
   ]
  },
  {
   "cell_type": "code",
   "execution_count": 2,
   "metadata": {},
   "outputs": [
    {
     "data": {
      "text/plain": [
       "Date\n",
       "2020-01-02    159.74\n",
       "2020-01-03    157.75\n",
       "2020-01-06    158.16\n",
       "2020-01-07    156.71\n",
       "2020-01-08    159.21\n",
       "Name: Close, dtype: float64"
      ]
     },
     "execution_count": 2,
     "metadata": {},
     "output_type": "execute_result"
    }
   ],
   "source": [
    "msft = yf.Ticker(\"MSFT\")\n",
    "hist = msft.history(start='2020-1-1', end='2020-2-20')\n",
    "data1 = hist['Close']\n",
    "data1.head()"
   ]
  },
  {
   "cell_type": "code",
   "execution_count": 3,
   "metadata": {},
   "outputs": [
    {
     "data": {
      "text/plain": [
       "(33,)"
      ]
     },
     "execution_count": 3,
     "metadata": {},
     "output_type": "execute_result"
    }
   ],
   "source": [
    "data1.shape"
   ]
  },
  {
   "cell_type": "markdown",
   "metadata": {},
   "source": [
    "The papers use a 60 or 120 day window. I use a 30 day window here for easier readability. The default template it the one in the paper, though user may define their own template with the set_template() method. "
   ]
  },
  {
   "cell_type": "code",
   "execution_count": 4,
   "metadata": {},
   "outputs": [
    {
     "data": {
      "text/plain": [
       "Date\n",
       "2020-02-14   -5.0\n",
       "2020-02-18   -3.5\n",
       "2020-02-19   -5.5\n",
       "dtype: float64"
      ]
     },
     "execution_count": 4,
     "metadata": {},
     "output_type": "execute_result"
    }
   ],
   "source": [
    "# How a user would use it.\n",
    "Flags = MatrixFlagLabels(data1, window=30)\n",
    "labels = Flags.apply_labeling_matrix()\n",
    "labels"
   ]
  },
  {
   "cell_type": "markdown",
   "metadata": {},
   "source": [
    "Now let's look at this step by step."
   ]
  },
  {
   "cell_type": "code",
   "execution_count": 5,
   "metadata": {},
   "outputs": [
    {
     "name": "stdout",
     "output_type": "stream",
     "text": [
      "   0  1  2  3  4  5  6  7  8  9\n",
      "0  0  0  0  0  0  0  0  0  1  2\n",
      "1  0  0  0  0  0  0  0  0  2  1\n",
      "2  0  0  0  0  0  0  0  3  0  0\n",
      "3  0  0  0  0  0  0  3  0  0  0\n",
      "4  0  0  0  1  2  0  0  0  0  0\n",
      "5  0  0  0  1  1  1  0  0  0  0\n",
      "6  0  0  1  1  0  1  0  0  0  0\n",
      "7  0  1  1  0  0  1  0  0  0  0\n",
      "8  1  1  1  0  0  0  0  0  0  0\n",
      "9  2  1  0  0  0  0  0  0  0  0\n",
      "\n",
      "\n",
      "   0  1  2  3  4  5  6  7  8  9\n",
      "0  0  0  0  0  0  0  0  0  1  2\n",
      "1  0  0  0  0  0  0  0  0  2  1\n",
      "2  0  0  0  0  0  0  0  3  0  0\n",
      "3  0  0  0  0  0  0  3  0  0  0\n",
      "4  0  0  0  1  1  1  0  0  0  0\n",
      "5  0  0  0  2  1  0  0  0  0  0\n",
      "6  0  0  1  0  1  1  0  0  0  0\n",
      "7  0  0  2  0  0  1  0  0  0  0\n",
      "8  0  3  0  0  0  0  0  0  0  0\n",
      "9  3  0  0  0  0  0  0  0  0  0\n"
     ]
    }
   ],
   "source": [
    "Flags = MatrixFlagLabels(data1, window=30)\n",
    "\n",
    "# Computes the weights matrix for 1 day, using the current day and the preceding window number of days. \n",
    "matrix_day30 = Flags.transform_data(row_num=30)\n",
    "matrix_day31 = Flags.transform_data(row_num=31)\n",
    "print(matrix_day30)\n",
    "print('\\n')\n",
    "print(matrix_day31)\n",
    "\n",
    "# You can see that each column sums to 3, as there are 3 days in each tenth of 30 days."
   ]
  },
  {
   "cell_type": "code",
   "execution_count": 6,
   "metadata": {},
   "outputs": [
    {
     "data": {
      "text/plain": [
       "-5.0"
      ]
     },
     "execution_count": 6,
     "metadata": {},
     "output_type": "execute_result"
    }
   ],
   "source": [
    "# Multiply element wise the matrix with the template. Then sum the columns. Then sum the sum of columns to finally get \n",
    "# the overall weight for the day. More positive means better match with the bull flag template.\n",
    "\n",
    "Flags.apply_template_to_matrix(matrix_day30, Flags.template)"
   ]
  },
  {
   "cell_type": "markdown",
   "metadata": {},
   "source": [
    "Finally, the apply_labeling_matrix method, which is what the user would actually use, combines the 2 above steps and iterates\n",
    "down the entire series, starting from the first possible point, the self.window-th index."
   ]
  }
 ],
 "metadata": {
  "kernelspec": {
   "display_name": "Python 3",
   "language": "python",
   "name": "python3"
  },
  "language_info": {
   "codemirror_mode": {
    "name": "ipython",
    "version": 3
   },
   "file_extension": ".py",
   "mimetype": "text/x-python",
   "name": "python",
   "nbconvert_exporter": "python",
   "pygments_lexer": "ipython3",
   "version": "3.7.4"
  }
 },
 "nbformat": 4,
 "nbformat_minor": 2
}
