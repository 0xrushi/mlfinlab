{
 "cells": [
  {
   "cell_type": "code",
   "execution_count": 1,
   "metadata": {},
   "outputs": [],
   "source": [
    "import pandas as pd\n",
    "import numpy as np\n",
    "from scipy import stats\n",
    "import yfinance as yf\n",
    "\n",
    "from mlfinlab.labeling.matrix_flags import MatrixFlagLabels"
   ]
  },
  {
   "cell_type": "code",
   "execution_count": 2,
   "metadata": {},
   "outputs": [
    {
     "data": {
      "text/plain": [
       "Date\n",
       "2020-01-02    159.74\n",
       "2020-01-03    157.75\n",
       "2020-01-06    158.16\n",
       "2020-01-07    156.71\n",
       "2020-01-08    159.21\n",
       "Name: Close, dtype: float64"
      ]
     },
     "execution_count": 2,
     "metadata": {},
     "output_type": "execute_result"
    }
   ],
   "source": [
    "msft = yf.Ticker(\"MSFT\")\n",
    "hist = msft.history(start='2020-1-1', end='2020-2-20')\n",
    "data1 = hist['Close']\n",
    "data1.head()"
   ]
  },
  {
   "cell_type": "code",
   "execution_count": 3,
   "metadata": {},
   "outputs": [
    {
     "data": {
      "text/plain": [
       "(33,)"
      ]
     },
     "execution_count": 3,
     "metadata": {},
     "output_type": "execute_result"
    }
   ],
   "source": [
    "data1.shape"
   ]
  },
  {
   "cell_type": "markdown",
   "metadata": {},
   "source": [
    "The papers use a 60 or 120 day window. I use a 30 day window here for easier readability. The default template it the one in the paper, though user may define their own template with the set_template() method. "
   ]
  },
  {
   "cell_type": "code",
   "execution_count": 4,
   "metadata": {},
   "outputs": [
    {
     "data": {
      "text/plain": [
       "Date\n",
       "2020-02-14   -1.666667\n",
       "2020-02-18   -1.166667\n",
       "2020-02-19   -1.833333\n",
       "dtype: float64"
      ]
     },
     "execution_count": 4,
     "metadata": {},
     "output_type": "execute_result"
    }
   ],
   "source": [
    "# How a user would use it.\n",
    "Flags = MatrixFlagLabels(data1, window=30)\n",
    "labels = Flags.apply_labeling_matrix()\n",
    "labels"
   ]
  },
  {
   "cell_type": "markdown",
   "metadata": {},
   "source": [
    "Now let's look at this step by step."
   ]
  },
  {
   "cell_type": "code",
   "execution_count": 5,
   "metadata": {},
   "outputs": [
    {
     "name": "stdout",
     "output_type": "stream",
     "text": [
      "          0         1         2         3         4         5    6    7  \\\n",
      "0  0.000000  0.000000  0.000000  0.000000  0.000000  0.000000  0.0  0.0   \n",
      "1  0.000000  0.000000  0.000000  0.000000  0.000000  0.000000  0.0  0.0   \n",
      "2  0.000000  0.000000  0.000000  0.000000  0.000000  0.000000  0.0  1.0   \n",
      "3  0.000000  0.000000  0.000000  0.000000  0.000000  0.000000  1.0  0.0   \n",
      "4  0.000000  0.000000  0.000000  0.333333  0.666667  0.000000  0.0  0.0   \n",
      "5  0.000000  0.000000  0.000000  0.333333  0.333333  0.333333  0.0  0.0   \n",
      "6  0.000000  0.000000  0.333333  0.333333  0.000000  0.333333  0.0  0.0   \n",
      "7  0.000000  0.333333  0.333333  0.000000  0.000000  0.333333  0.0  0.0   \n",
      "8  0.333333  0.333333  0.333333  0.000000  0.000000  0.000000  0.0  0.0   \n",
      "9  0.666667  0.333333  0.000000  0.000000  0.000000  0.000000  0.0  0.0   \n",
      "\n",
      "          8         9  \n",
      "0  0.333333  0.666667  \n",
      "1  0.666667  0.333333  \n",
      "2  0.000000  0.000000  \n",
      "3  0.000000  0.000000  \n",
      "4  0.000000  0.000000  \n",
      "5  0.000000  0.000000  \n",
      "6  0.000000  0.000000  \n",
      "7  0.000000  0.000000  \n",
      "8  0.000000  0.000000  \n",
      "9  0.000000  0.000000  \n",
      "\n",
      "\n",
      "     0    1         2         3         4         5    6    7         8  \\\n",
      "0  0.0  0.0  0.000000  0.000000  0.000000  0.000000  0.0  0.0  0.333333   \n",
      "1  0.0  0.0  0.000000  0.000000  0.000000  0.000000  0.0  0.0  0.666667   \n",
      "2  0.0  0.0  0.000000  0.000000  0.000000  0.000000  0.0  1.0  0.000000   \n",
      "3  0.0  0.0  0.000000  0.000000  0.000000  0.000000  1.0  0.0  0.000000   \n",
      "4  0.0  0.0  0.000000  0.333333  0.333333  0.333333  0.0  0.0  0.000000   \n",
      "5  0.0  0.0  0.000000  0.666667  0.333333  0.000000  0.0  0.0  0.000000   \n",
      "6  0.0  0.0  0.333333  0.000000  0.333333  0.333333  0.0  0.0  0.000000   \n",
      "7  0.0  0.0  0.666667  0.000000  0.000000  0.333333  0.0  0.0  0.000000   \n",
      "8  0.0  1.0  0.000000  0.000000  0.000000  0.000000  0.0  0.0  0.000000   \n",
      "9  1.0  0.0  0.000000  0.000000  0.000000  0.000000  0.0  0.0  0.000000   \n",
      "\n",
      "          9  \n",
      "0  0.666667  \n",
      "1  0.333333  \n",
      "2  0.000000  \n",
      "3  0.000000  \n",
      "4  0.000000  \n",
      "5  0.000000  \n",
      "6  0.000000  \n",
      "7  0.000000  \n",
      "8  0.000000  \n",
      "9  0.000000  \n"
     ]
    }
   ],
   "source": [
    "Flags = MatrixFlagLabels(data1, window=30)\n",
    "\n",
    "# Computes the weights matrix for 1 day, using the current day and the preceding window number of days. \n",
    "matrix_day30 = Flags._transform_data(row_num=30)\n",
    "matrix_day31 = Flags._transform_data(row_num=31)\n",
    "print(matrix_day30)\n",
    "print('\\n')\n",
    "print(matrix_day31)\n",
    "\n",
    "# You can see that each column sums to 3, as there are 3 days in each tenth of 30 days."
   ]
  },
  {
   "cell_type": "code",
   "execution_count": 6,
   "metadata": {},
   "outputs": [
    {
     "data": {
      "text/plain": [
       "-1.666666666666667"
      ]
     },
     "execution_count": 6,
     "metadata": {},
     "output_type": "execute_result"
    }
   ],
   "source": [
    "# Multiply element wise the matrix with the template. Then sum the columns. Then sum the sum of columns to finally get \n",
    "# the overall weight for the day. More positive means better match with the bull flag template.\n",
    "\n",
    "Flags._apply_template_to_matrix(matrix_day30, Flags.template)"
   ]
  },
  {
   "cell_type": "markdown",
   "metadata": {},
   "source": [
    "Finally, the apply_labeling_matrix method, which is what the user would actually use, combines the 2 above steps and iterates\n",
    "down the entire series, starting from the first possible point, the self.window-th index."
   ]
  },
  {
   "cell_type": "code",
   "execution_count": 7,
   "metadata": {},
   "outputs": [
    {
     "ename": "AssertionError",
     "evalue": "Window cannot be greater than length of data.",
     "output_type": "error",
     "traceback": [
      "\u001b[1;31m---------------------------------------------------------------------------\u001b[0m",
      "\u001b[1;31mAssertionError\u001b[0m                            Traceback (most recent call last)",
      "\u001b[1;32m<ipython-input-7-64a58a7d3a7e>\u001b[0m in \u001b[0;36m<module>\u001b[1;34m\u001b[0m\n\u001b[1;32m----> 1\u001b[1;33m \u001b[0mtest\u001b[0m \u001b[1;33m=\u001b[0m \u001b[0mMatrixFlagLabels\u001b[0m\u001b[1;33m(\u001b[0m\u001b[0mdata1\u001b[0m\u001b[1;33m[\u001b[0m\u001b[1;36m0\u001b[0m\u001b[1;33m:\u001b[0m\u001b[1;36m20\u001b[0m\u001b[1;33m]\u001b[0m\u001b[1;33m,\u001b[0m \u001b[0mwindow\u001b[0m\u001b[1;33m=\u001b[0m\u001b[1;36m77\u001b[0m\u001b[1;33m)\u001b[0m\u001b[1;33m\u001b[0m\u001b[1;33m\u001b[0m\u001b[0m\n\u001b[0m\u001b[0;32m      2\u001b[0m \u001b[0mtest\u001b[0m\u001b[1;33m.\u001b[0m\u001b[0mapply_labeling_matrix\u001b[0m\u001b[1;33m(\u001b[0m\u001b[1;33m)\u001b[0m\u001b[1;33m\u001b[0m\u001b[1;33m\u001b[0m\u001b[0m\n",
      "\u001b[1;32mc:\\users\\ruifan\\mlfinlab\\mlfinlab\\labeling\\matrix_flags.py\u001b[0m in \u001b[0;36m__init__\u001b[1;34m(self, data, window)\u001b[0m\n\u001b[0;32m     36\u001b[0m         \u001b[1;32massert\u001b[0m \u001b[1;33m(\u001b[0m\u001b[0mlen\u001b[0m\u001b[1;33m(\u001b[0m\u001b[0mdata\u001b[0m\u001b[1;33m)\u001b[0m \u001b[1;33m>=\u001b[0m \u001b[1;36m10\u001b[0m\u001b[1;33m)\u001b[0m\u001b[1;33m,\u001b[0m \u001b[1;34m\"Length of data must be at least 10.\"\u001b[0m\u001b[1;33m\u001b[0m\u001b[1;33m\u001b[0m\u001b[0m\n\u001b[0;32m     37\u001b[0m         \u001b[1;32massert\u001b[0m \u001b[1;33m(\u001b[0m\u001b[0mwindow\u001b[0m \u001b[1;33m>=\u001b[0m \u001b[1;36m10\u001b[0m\u001b[1;33m)\u001b[0m\u001b[1;33m,\u001b[0m \u001b[1;34m\"Window must be at least 10.\"\u001b[0m\u001b[1;33m\u001b[0m\u001b[1;33m\u001b[0m\u001b[0m\n\u001b[1;32m---> 38\u001b[1;33m         \u001b[1;32massert\u001b[0m \u001b[1;33m(\u001b[0m\u001b[0mlen\u001b[0m\u001b[1;33m(\u001b[0m\u001b[0mdata\u001b[0m\u001b[1;33m)\u001b[0m \u001b[1;33m>=\u001b[0m \u001b[0mwindow\u001b[0m\u001b[1;33m)\u001b[0m\u001b[1;33m,\u001b[0m \u001b[1;34m\"Window cannot be greater than length of data.\"\u001b[0m\u001b[1;33m\u001b[0m\u001b[1;33m\u001b[0m\u001b[0m\n\u001b[0m\u001b[0;32m     39\u001b[0m         \u001b[0mself\u001b[0m\u001b[1;33m.\u001b[0m\u001b[0mdata\u001b[0m \u001b[1;33m=\u001b[0m \u001b[0mdata\u001b[0m\u001b[1;33m\u001b[0m\u001b[1;33m\u001b[0m\u001b[0m\n\u001b[0;32m     40\u001b[0m         \u001b[0mself\u001b[0m\u001b[1;33m.\u001b[0m\u001b[0mwindow\u001b[0m \u001b[1;33m=\u001b[0m \u001b[0mwindow\u001b[0m\u001b[1;33m\u001b[0m\u001b[1;33m\u001b[0m\u001b[0m\n",
      "\u001b[1;31mAssertionError\u001b[0m: Window cannot be greater than length of data."
     ]
    }
   ],
   "source": [
    "test = MatrixFlagLabels(data1[0:20], window=77)\n",
    "test.apply_labeling_matrix()"
   ]
  },
  {
   "cell_type": "code",
   "execution_count": null,
   "metadata": {},
   "outputs": [],
   "source": []
  },
  {
   "cell_type": "code",
   "execution_count": null,
   "metadata": {},
   "outputs": [],
   "source": []
  },
  {
   "cell_type": "code",
   "execution_count": null,
   "metadata": {},
   "outputs": [],
   "source": []
  }
 ],
 "metadata": {
  "kernelspec": {
   "display_name": "Python 3",
   "language": "python",
   "name": "python3"
  },
  "language_info": {
   "codemirror_mode": {
    "name": "ipython",
    "version": 3
   },
   "file_extension": ".py",
   "mimetype": "text/x-python",
   "name": "python",
   "nbconvert_exporter": "python",
   "pygments_lexer": "ipython3",
   "version": "3.7.4"
  }
 },
 "nbformat": 4,
 "nbformat_minor": 2
}
