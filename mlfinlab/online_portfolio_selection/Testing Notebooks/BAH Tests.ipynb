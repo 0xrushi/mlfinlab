{
 "cells": [
  {
   "cell_type": "markdown",
   "source": [
    "Testing jupyter notebook for BAH class"
   ],
   "metadata": {
    "collapsed": false,
    "pycharm": {
     "name": "#%% md\n"
    }
   }
  },
  {
   "cell_type": "code",
   "execution_count": 1,
   "metadata": {
    "collapsed": true
   },
   "outputs": [
    {
     "name": "stderr",
     "output_type": "stream",
     "text": [
      "/Users/alexkwon/opt/anaconda3/envs/ht/lib/python3.6/site-packages/sklearn/utils/deprecation.py:144: FutureWarning: The sklearn.ensemble.bagging module is  deprecated in version 0.22 and will be removed in version 0.24. The corresponding classes / functions should instead be imported from sklearn.ensemble. Anything that cannot be imported from sklearn.ensemble is now part of the private API.\n",
      "  warnings.warn(message, FutureWarning)\n",
      "/Users/alexkwon/opt/anaconda3/envs/ht/lib/python3.6/site-packages/sklearn/utils/deprecation.py:144: FutureWarning: The sklearn.ensemble.base module is  deprecated in version 0.22 and will be removed in version 0.24. The corresponding classes / functions should instead be imported from sklearn.ensemble. Anything that cannot be imported from sklearn.ensemble is now part of the private API.\n",
      "  warnings.warn(message, FutureWarning)\n"
     ]
    },
    {
     "name": "stdout",
     "output_type": "stream",
     "text": [
      "\n",
      "\n",
      "Support us on Patreon: https://www.patreon.com/HudsonThames\n",
      "\n",
      "MlFinLab needs you! We need your help for us to keep on maintaining and implementing academic research based on \n",
      "financial machine learning (for open-source). In order for us to continue we need to raise $4000 of monthly donations\n",
      "via Patreon - by December 2020. If we can't reach our goal, we will need to adopt more of a paid for service. We thought\n",
      "that the best and least impactful course of action (should we not reach our goal) is to leave the package as open-source\n",
      "but to make the documentation (ReadTheDocs) a paid for service. This is the ultimate litmus test, if the package is a \n",
      "value add, then we need the community to help us keep it going.\n",
      "\n",
      "Our road map for 2020 is to implement the text book: Machine Learning for Asset Managers by Marcos Lopez de Prado, \n",
      "as well as a few papers from the Journal of Financial Data Science. We are hiring a full time developer for 3 months \n",
      "to help us reach our goals. The money that you, our sponsors, contribute will go directly to paying salaries and other \n",
      "expenses such as journal subscriptions and data. \n",
      "\n",
      "We need your help to continue maintaining and developing this community. Thank you for using our package and we \n",
      "invite you to join our slack channel using the following link:\n",
      "https://join.slack.com/t/mlfinlab/shared_invite/zt-c62u9gpz-VFc13j6da~UVg3DkV7~RjQ\n",
      "\n",
      "\n",
      "\n"
     ]
    }
   ],
   "source": [
    "import numpy as np\n",
    "import pandas as pd\n",
    "from mlfinlab.online_portfolio_selection import *\n",
    "\n"
   ]
  },
  {
   "cell_type": "code",
   "execution_count": 2,
   "outputs": [],
   "source": [
    "stock_prices = pd.read_csv('../../tests/test_data/stock_prices.csv', parse_dates=True, index_col='Date')\n",
    "stock_prices = stock_prices.dropna(axis=1)\n",
    "asset_name = list(stock_prices.columns)"
   ],
   "metadata": {
    "collapsed": false,
    "pycharm": {
     "name": "#%%\n"
    }
   }
  },
  {
   "cell_type": "code",
   "execution_count": 3,
   "outputs": [],
   "source": [
    "idx = stock_prices.index\n",
    "name = stock_prices.columns"
   ],
   "metadata": {
    "collapsed": false,
    "pycharm": {
     "name": "#%%\n"
    }
   }
  },
  {
   "cell_type": "code",
   "execution_count": 4,
   "outputs": [],
   "source": [
    "bah = BAH()\n",
    "bah.allocate(name,stock_prices)"
   ],
   "metadata": {
    "collapsed": false,
    "pycharm": {
     "name": "#%%\n"
    }
   }
  },
  {
   "cell_type": "code",
   "execution_count": 5,
   "outputs": [
    {
     "data": {
      "text/plain": "                 EEM       EWG       TIP       EWJ       EFA       IEF  \\\nDate                                                                     \n2008-01-02  0.043478  0.043478  0.043478  0.043478  0.043478  0.043478   \n2008-01-03  0.043478  0.043478  0.043478  0.043478  0.043478  0.043478   \n2008-01-04  0.043781  0.043268  0.043537  0.043554  0.043462  0.043479   \n2008-01-07  0.043220  0.043175  0.044298  0.043193  0.043230  0.044368   \n2008-01-08  0.043437  0.043114  0.044188  0.042828  0.043176  0.044347   \n...              ...       ...       ...       ...       ...       ...   \n2016-06-27  0.029938  0.029988  0.049053  0.038726  0.030994  0.057853   \n2016-06-28  0.029835  0.029540  0.049666  0.038889  0.030689  0.058910   \n2016-06-29  0.030271  0.029711  0.049119  0.038906  0.031040  0.058051   \n2016-06-30  0.030720  0.029810  0.048588  0.039013  0.031286  0.057224   \n2016-07-01  0.030727  0.029944  0.048208  0.038302  0.031445  0.056796   \n\n                 EWQ       EWU       XLB       XLE  ...       XLU       EPP  \\\nDate                                                ...                       \n2008-01-02  0.043478  0.043478  0.043478  0.043478  ...  0.043478  0.043478   \n2008-01-03  0.043478  0.043478  0.043478  0.043478  ...  0.043478  0.043478   \n2008-01-04  0.043367  0.043663  0.044178  0.043903  ...  0.043328  0.043492   \n2008-01-07  0.043055  0.043384  0.043605  0.043050  ...  0.044434  0.043019   \n2008-01-08  0.043271  0.043415  0.042908  0.042786  ...  0.045254  0.043409   \n...              ...       ...       ...       ...  ...       ...       ...   \n2016-06-27  0.026079  0.027566  0.050344  0.037951  ...  0.054111  0.033364   \n2016-06-28  0.025715  0.026721  0.049112  0.037086  ...  0.055299  0.032979   \n2016-06-29  0.026115  0.027466  0.048818  0.037569  ...  0.054705  0.033338   \n2016-06-30  0.026305  0.027893  0.049138  0.037890  ...  0.054294  0.033510   \n2016-07-01  0.026561  0.028361  0.049441  0.037823  ...  0.054931  0.033754   \n\n                 FXI       VGK       VPL       SPY       TLT       BND  \\\nDate                                                                     \n2008-01-02  0.043478  0.043478  0.043478  0.043478  0.043478  0.043478   \n2008-01-03  0.043478  0.043478  0.043478  0.043478  0.043478  0.043478   \n2008-01-04  0.043093  0.043547  0.043513  0.043369  0.043331  0.043446   \n2008-01-07  0.043020  0.043243  0.043151  0.043058  0.044110  0.044270   \n2008-01-08  0.044165  0.043126  0.042974  0.042923  0.044200  0.044180   \n...              ...       ...       ...       ...       ...       ...   \n2016-06-27  0.026220  0.026964  0.036475  0.063358  0.064999  0.048883   \n2016-06-28  0.026381  0.026511  0.036470  0.062817  0.067257  0.049597   \n2016-06-29  0.026627  0.026986  0.036686  0.063028  0.066426  0.048940   \n2016-06-30  0.026832  0.027253  0.036800  0.063446  0.065243  0.048423   \n2016-07-01  0.026934  0.027586  0.036483  0.063689  0.064849  0.048017   \n\n                 CSJ       DIA  \nDate                            \n2008-01-02  0.043478  0.043478  \n2008-01-03  0.043478  0.043478  \n2008-01-04  0.043442  0.043427  \n2008-01-07  0.044270  0.043330  \n2008-01-08  0.044199  0.043194  \n...              ...       ...  \n2016-06-27  0.047168  0.060049  \n2016-06-28  0.047586  0.059777  \n2016-06-29  0.046945  0.059817  \n2016-06-30  0.046487  0.060166  \n2016-07-01  0.046102  0.060380  \n\n[2141 rows x 23 columns]",
      "text/html": "<div>\n<style scoped>\n    .dataframe tbody tr th:only-of-type {\n        vertical-align: middle;\n    }\n\n    .dataframe tbody tr th {\n        vertical-align: top;\n    }\n\n    .dataframe thead th {\n        text-align: right;\n    }\n</style>\n<table border=\"1\" class=\"dataframe\">\n  <thead>\n    <tr style=\"text-align: right;\">\n      <th></th>\n      <th>EEM</th>\n      <th>EWG</th>\n      <th>TIP</th>\n      <th>EWJ</th>\n      <th>EFA</th>\n      <th>IEF</th>\n      <th>EWQ</th>\n      <th>EWU</th>\n      <th>XLB</th>\n      <th>XLE</th>\n      <th>...</th>\n      <th>XLU</th>\n      <th>EPP</th>\n      <th>FXI</th>\n      <th>VGK</th>\n      <th>VPL</th>\n      <th>SPY</th>\n      <th>TLT</th>\n      <th>BND</th>\n      <th>CSJ</th>\n      <th>DIA</th>\n    </tr>\n    <tr>\n      <th>Date</th>\n      <th></th>\n      <th></th>\n      <th></th>\n      <th></th>\n      <th></th>\n      <th></th>\n      <th></th>\n      <th></th>\n      <th></th>\n      <th></th>\n      <th></th>\n      <th></th>\n      <th></th>\n      <th></th>\n      <th></th>\n      <th></th>\n      <th></th>\n      <th></th>\n      <th></th>\n      <th></th>\n      <th></th>\n    </tr>\n  </thead>\n  <tbody>\n    <tr>\n      <th>2008-01-02</th>\n      <td>0.043478</td>\n      <td>0.043478</td>\n      <td>0.043478</td>\n      <td>0.043478</td>\n      <td>0.043478</td>\n      <td>0.043478</td>\n      <td>0.043478</td>\n      <td>0.043478</td>\n      <td>0.043478</td>\n      <td>0.043478</td>\n      <td>...</td>\n      <td>0.043478</td>\n      <td>0.043478</td>\n      <td>0.043478</td>\n      <td>0.043478</td>\n      <td>0.043478</td>\n      <td>0.043478</td>\n      <td>0.043478</td>\n      <td>0.043478</td>\n      <td>0.043478</td>\n      <td>0.043478</td>\n    </tr>\n    <tr>\n      <th>2008-01-03</th>\n      <td>0.043478</td>\n      <td>0.043478</td>\n      <td>0.043478</td>\n      <td>0.043478</td>\n      <td>0.043478</td>\n      <td>0.043478</td>\n      <td>0.043478</td>\n      <td>0.043478</td>\n      <td>0.043478</td>\n      <td>0.043478</td>\n      <td>...</td>\n      <td>0.043478</td>\n      <td>0.043478</td>\n      <td>0.043478</td>\n      <td>0.043478</td>\n      <td>0.043478</td>\n      <td>0.043478</td>\n      <td>0.043478</td>\n      <td>0.043478</td>\n      <td>0.043478</td>\n      <td>0.043478</td>\n    </tr>\n    <tr>\n      <th>2008-01-04</th>\n      <td>0.043781</td>\n      <td>0.043268</td>\n      <td>0.043537</td>\n      <td>0.043554</td>\n      <td>0.043462</td>\n      <td>0.043479</td>\n      <td>0.043367</td>\n      <td>0.043663</td>\n      <td>0.044178</td>\n      <td>0.043903</td>\n      <td>...</td>\n      <td>0.043328</td>\n      <td>0.043492</td>\n      <td>0.043093</td>\n      <td>0.043547</td>\n      <td>0.043513</td>\n      <td>0.043369</td>\n      <td>0.043331</td>\n      <td>0.043446</td>\n      <td>0.043442</td>\n      <td>0.043427</td>\n    </tr>\n    <tr>\n      <th>2008-01-07</th>\n      <td>0.043220</td>\n      <td>0.043175</td>\n      <td>0.044298</td>\n      <td>0.043193</td>\n      <td>0.043230</td>\n      <td>0.044368</td>\n      <td>0.043055</td>\n      <td>0.043384</td>\n      <td>0.043605</td>\n      <td>0.043050</td>\n      <td>...</td>\n      <td>0.044434</td>\n      <td>0.043019</td>\n      <td>0.043020</td>\n      <td>0.043243</td>\n      <td>0.043151</td>\n      <td>0.043058</td>\n      <td>0.044110</td>\n      <td>0.044270</td>\n      <td>0.044270</td>\n      <td>0.043330</td>\n    </tr>\n    <tr>\n      <th>2008-01-08</th>\n      <td>0.043437</td>\n      <td>0.043114</td>\n      <td>0.044188</td>\n      <td>0.042828</td>\n      <td>0.043176</td>\n      <td>0.044347</td>\n      <td>0.043271</td>\n      <td>0.043415</td>\n      <td>0.042908</td>\n      <td>0.042786</td>\n      <td>...</td>\n      <td>0.045254</td>\n      <td>0.043409</td>\n      <td>0.044165</td>\n      <td>0.043126</td>\n      <td>0.042974</td>\n      <td>0.042923</td>\n      <td>0.044200</td>\n      <td>0.044180</td>\n      <td>0.044199</td>\n      <td>0.043194</td>\n    </tr>\n    <tr>\n      <th>...</th>\n      <td>...</td>\n      <td>...</td>\n      <td>...</td>\n      <td>...</td>\n      <td>...</td>\n      <td>...</td>\n      <td>...</td>\n      <td>...</td>\n      <td>...</td>\n      <td>...</td>\n      <td>...</td>\n      <td>...</td>\n      <td>...</td>\n      <td>...</td>\n      <td>...</td>\n      <td>...</td>\n      <td>...</td>\n      <td>...</td>\n      <td>...</td>\n      <td>...</td>\n      <td>...</td>\n    </tr>\n    <tr>\n      <th>2016-06-27</th>\n      <td>0.029938</td>\n      <td>0.029988</td>\n      <td>0.049053</td>\n      <td>0.038726</td>\n      <td>0.030994</td>\n      <td>0.057853</td>\n      <td>0.026079</td>\n      <td>0.027566</td>\n      <td>0.050344</td>\n      <td>0.037951</td>\n      <td>...</td>\n      <td>0.054111</td>\n      <td>0.033364</td>\n      <td>0.026220</td>\n      <td>0.026964</td>\n      <td>0.036475</td>\n      <td>0.063358</td>\n      <td>0.064999</td>\n      <td>0.048883</td>\n      <td>0.047168</td>\n      <td>0.060049</td>\n    </tr>\n    <tr>\n      <th>2016-06-28</th>\n      <td>0.029835</td>\n      <td>0.029540</td>\n      <td>0.049666</td>\n      <td>0.038889</td>\n      <td>0.030689</td>\n      <td>0.058910</td>\n      <td>0.025715</td>\n      <td>0.026721</td>\n      <td>0.049112</td>\n      <td>0.037086</td>\n      <td>...</td>\n      <td>0.055299</td>\n      <td>0.032979</td>\n      <td>0.026381</td>\n      <td>0.026511</td>\n      <td>0.036470</td>\n      <td>0.062817</td>\n      <td>0.067257</td>\n      <td>0.049597</td>\n      <td>0.047586</td>\n      <td>0.059777</td>\n    </tr>\n    <tr>\n      <th>2016-06-29</th>\n      <td>0.030271</td>\n      <td>0.029711</td>\n      <td>0.049119</td>\n      <td>0.038906</td>\n      <td>0.031040</td>\n      <td>0.058051</td>\n      <td>0.026115</td>\n      <td>0.027466</td>\n      <td>0.048818</td>\n      <td>0.037569</td>\n      <td>...</td>\n      <td>0.054705</td>\n      <td>0.033338</td>\n      <td>0.026627</td>\n      <td>0.026986</td>\n      <td>0.036686</td>\n      <td>0.063028</td>\n      <td>0.066426</td>\n      <td>0.048940</td>\n      <td>0.046945</td>\n      <td>0.059817</td>\n    </tr>\n    <tr>\n      <th>2016-06-30</th>\n      <td>0.030720</td>\n      <td>0.029810</td>\n      <td>0.048588</td>\n      <td>0.039013</td>\n      <td>0.031286</td>\n      <td>0.057224</td>\n      <td>0.026305</td>\n      <td>0.027893</td>\n      <td>0.049138</td>\n      <td>0.037890</td>\n      <td>...</td>\n      <td>0.054294</td>\n      <td>0.033510</td>\n      <td>0.026832</td>\n      <td>0.027253</td>\n      <td>0.036800</td>\n      <td>0.063446</td>\n      <td>0.065243</td>\n      <td>0.048423</td>\n      <td>0.046487</td>\n      <td>0.060166</td>\n    </tr>\n    <tr>\n      <th>2016-07-01</th>\n      <td>0.030727</td>\n      <td>0.029944</td>\n      <td>0.048208</td>\n      <td>0.038302</td>\n      <td>0.031445</td>\n      <td>0.056796</td>\n      <td>0.026561</td>\n      <td>0.028361</td>\n      <td>0.049441</td>\n      <td>0.037823</td>\n      <td>...</td>\n      <td>0.054931</td>\n      <td>0.033754</td>\n      <td>0.026934</td>\n      <td>0.027586</td>\n      <td>0.036483</td>\n      <td>0.063689</td>\n      <td>0.064849</td>\n      <td>0.048017</td>\n      <td>0.046102</td>\n      <td>0.060380</td>\n    </tr>\n  </tbody>\n</table>\n<p>2141 rows × 23 columns</p>\n</div>"
     },
     "execution_count": 5,
     "metadata": {},
     "output_type": "execute_result"
    }
   ],
   "source": [
    "bah.all_weights"
   ],
   "metadata": {
    "collapsed": false,
    "pycharm": {
     "name": "#%%\n"
    }
   }
  },
  {
   "cell_type": "code",
   "source": [
    "bah.portfolio_return"
   ],
   "metadata": {
    "collapsed": false,
    "pycharm": {
     "name": "#%%\n"
    }
   },
   "execution_count": 6,
   "outputs": [
    {
     "data": {
      "text/plain": "            Relative Returns\nDate                        \n2008-01-02          1.000000\n2008-01-03          1.002028\n2008-01-04          0.984536\n2008-01-07          0.986788\n2008-01-08          0.977662\n...                      ...\n2016-06-27          0.953233\n2016-06-28          0.967172\n2016-06-29          0.977161\n2016-06-30          0.986712\n2016-07-01          0.988987\n\n[2141 rows x 1 columns]",
      "text/html": "<div>\n<style scoped>\n    .dataframe tbody tr th:only-of-type {\n        vertical-align: middle;\n    }\n\n    .dataframe tbody tr th {\n        vertical-align: top;\n    }\n\n    .dataframe thead th {\n        text-align: right;\n    }\n</style>\n<table border=\"1\" class=\"dataframe\">\n  <thead>\n    <tr style=\"text-align: right;\">\n      <th></th>\n      <th>Relative Returns</th>\n    </tr>\n    <tr>\n      <th>Date</th>\n      <th></th>\n    </tr>\n  </thead>\n  <tbody>\n    <tr>\n      <th>2008-01-02</th>\n      <td>1.000000</td>\n    </tr>\n    <tr>\n      <th>2008-01-03</th>\n      <td>1.002028</td>\n    </tr>\n    <tr>\n      <th>2008-01-04</th>\n      <td>0.984536</td>\n    </tr>\n    <tr>\n      <th>2008-01-07</th>\n      <td>0.986788</td>\n    </tr>\n    <tr>\n      <th>2008-01-08</th>\n      <td>0.977662</td>\n    </tr>\n    <tr>\n      <th>...</th>\n      <td>...</td>\n    </tr>\n    <tr>\n      <th>2016-06-27</th>\n      <td>0.953233</td>\n    </tr>\n    <tr>\n      <th>2016-06-28</th>\n      <td>0.967172</td>\n    </tr>\n    <tr>\n      <th>2016-06-29</th>\n      <td>0.977161</td>\n    </tr>\n    <tr>\n      <th>2016-06-30</th>\n      <td>0.986712</td>\n    </tr>\n    <tr>\n      <th>2016-07-01</th>\n      <td>0.988987</td>\n    </tr>\n  </tbody>\n</table>\n<p>2141 rows × 1 columns</p>\n</div>"
     },
     "execution_count": 6,
     "metadata": {},
     "output_type": "execute_result"
    }
   ]
  },
  {
   "cell_type": "code",
   "execution_count": 6,
   "outputs": [],
   "source": [
    "\n"
   ],
   "metadata": {
    "collapsed": false,
    "pycharm": {
     "name": "#%%\n"
    }
   }
  }
 ],
 "metadata": {
  "kernelspec": {
   "display_name": "Python 3",
   "language": "python",
   "name": "python3"
  },
  "language_info": {
   "codemirror_mode": {
    "name": "ipython",
    "version": 2
   },
   "file_extension": ".py",
   "mimetype": "text/x-python",
   "name": "python",
   "nbconvert_exporter": "python",
   "pygments_lexer": "ipython2",
   "version": "2.7.6"
  }
 },
 "nbformat": 4,
 "nbformat_minor": 0
}