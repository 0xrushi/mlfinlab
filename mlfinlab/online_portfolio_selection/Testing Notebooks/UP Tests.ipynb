{
 "cells": [
  {
   "cell_type": "markdown",
   "source": [
    "testing jupyter notebook for UP class"
   ],
   "metadata": {
    "collapsed": false,
    "pycharm": {
     "name": "#%% md\n"
    }
   }
  },
  {
   "cell_type": "code",
   "execution_count": 1,
   "metadata": {
    "collapsed": true
   },
   "outputs": [
    {
     "name": "stderr",
     "output_type": "stream",
     "text": [
      "/Users/alexkwon/opt/anaconda3/envs/ht/lib/python3.6/site-packages/sklearn/utils/deprecation.py:144: FutureWarning: The sklearn.ensemble.bagging module is  deprecated in version 0.22 and will be removed in version 0.24. The corresponding classes / functions should instead be imported from sklearn.ensemble. Anything that cannot be imported from sklearn.ensemble is now part of the private API.\n",
      "  warnings.warn(message, FutureWarning)\n",
      "/Users/alexkwon/opt/anaconda3/envs/ht/lib/python3.6/site-packages/sklearn/utils/deprecation.py:144: FutureWarning: The sklearn.ensemble.base module is  deprecated in version 0.22 and will be removed in version 0.24. The corresponding classes / functions should instead be imported from sklearn.ensemble. Anything that cannot be imported from sklearn.ensemble is now part of the private API.\n",
      "  warnings.warn(message, FutureWarning)\n"
     ]
    },
    {
     "name": "stdout",
     "output_type": "stream",
     "text": [
      "\n",
      "\n",
      "Support us on Patreon: https://www.patreon.com/HudsonThames\n",
      "\n",
      "MlFinLab needs you! We need your help for us to keep on maintaining and implementing academic research based on \n",
      "financial machine learning (for open-source). In order for us to continue we need to raise $4000 of monthly donations\n",
      "via Patreon - by December 2020. If we can't reach our goal, we will need to adopt more of a paid for service. We thought\n",
      "that the best and least impactful course of action (should we not reach our goal) is to leave the package as open-source\n",
      "but to make the documentation (ReadTheDocs) a paid for service. This is the ultimate litmus test, if the package is a \n",
      "value add, then we need the community to help us keep it going.\n",
      "\n",
      "Our road map for 2020 is to implement the text book: Machine Learning for Asset Managers by Marcos Lopez de Prado, \n",
      "as well as a few papers from the Journal of Financial Data Science. We are hiring a full time developer for 3 months \n",
      "to help us reach our goals. The money that you, our sponsors, contribute will go directly to paying salaries and other \n",
      "expenses such as journal subscriptions and data. \n",
      "\n",
      "We need your help to continue maintaining and developing this community. Thank you for using our package and we \n",
      "invite you to join our slack channel using the following link:\n",
      "https://join.slack.com/t/mlfinlab/shared_invite/zt-c62u9gpz-VFc13j6da~UVg3DkV7~RjQ\n",
      "\n",
      "\n",
      "\n"
     ]
    }
   ],
   "source": [
    "import numpy as np\n",
    "import pandas as pd\n",
    "from mlfinlab.online_portfolio_selection import *\n",
    "\n"
   ]
  },
  {
   "cell_type": "code",
   "execution_count": 2,
   "outputs": [],
   "source": [
    "stock_prices = pd.read_csv('../../tests/test_data/stock_prices.csv', parse_dates=True, index_col='Date')\n",
    "stock_prices = stock_prices.dropna(axis=1)\n",
    "asset_name = list(stock_prices.columns)"
   ],
   "metadata": {
    "collapsed": false,
    "pycharm": {
     "name": "#%%\n"
    }
   }
  },
  {
   "cell_type": "code",
   "execution_count": 3,
   "outputs": [],
   "source": [
    "idx = stock_prices.index\n",
    "name = stock_prices.columns"
   ],
   "metadata": {
    "collapsed": false,
    "pycharm": {
     "name": "#%%\n"
    }
   }
  },
  {
   "cell_type": "code",
   "execution_count": 4,
   "outputs": [],
   "source": [
    "up = UP(1000)\n",
    "up.allocate(name,stock_prices)"
   ],
   "metadata": {
    "collapsed": false,
    "pycharm": {
     "name": "#%%\n"
    }
   }
  },
  {
   "cell_type": "code",
   "execution_count": 5,
   "outputs": [
    {
     "data": {
      "text/plain": "                 EEM       EWG       TIP       EWJ       EFA       IEF  \\\nDate                                                                     \n2008-01-02  0.044023  0.044533  0.043514  0.043713  0.044410  0.042895   \n2008-01-03  0.044023  0.044533  0.043514  0.043713  0.044410  0.042895   \n2008-01-04  0.044030  0.044530  0.043515  0.043714  0.044410  0.042895   \n2008-01-07  0.044019  0.044527  0.043526  0.043708  0.044405  0.042908   \n2008-01-08  0.044021  0.044526  0.043523  0.043702  0.044405  0.042907   \n...              ...       ...       ...       ...       ...       ...   \n2016-06-27  0.043820  0.044307  0.043665  0.043624  0.044180  0.043181   \n2016-06-28  0.043817  0.044299  0.043674  0.043627  0.044174  0.043194   \n2016-06-29  0.043825  0.044302  0.043665  0.043627  0.044180  0.043183   \n2016-06-30  0.043835  0.044303  0.043657  0.043628  0.044184  0.043173   \n2016-07-01  0.043834  0.044305  0.043652  0.043617  0.044188  0.043167   \n\n                 EWQ       EWU       XLB       XLE  ...       XLU       EPP  \\\nDate                                                ...                       \n2008-01-02  0.041744  0.043393  0.042775  0.043778  ...  0.044777  0.042248   \n2008-01-03  0.041744  0.043393  0.042775  0.043778  ...  0.044777  0.042248   \n2008-01-04  0.041742  0.043396  0.042786  0.043785  ...  0.044775  0.042248   \n2008-01-07  0.041739  0.043392  0.042777  0.043770  ...  0.044794  0.042241   \n2008-01-08  0.041743  0.043393  0.042767  0.043766  ...  0.044806  0.042247   \n...              ...       ...       ...       ...  ...       ...       ...   \n2016-06-27  0.041392  0.043086  0.042885  0.043740  ...  0.044898  0.042091   \n2016-06-28  0.041386  0.043069  0.042870  0.043726  ...  0.044915  0.042084   \n2016-06-29  0.041394  0.043085  0.042865  0.043733  ...  0.044906  0.042090   \n2016-06-30  0.041397  0.043094  0.042868  0.043738  ...  0.044899  0.042093   \n2016-07-01  0.041403  0.043104  0.042872  0.043735  ...  0.044906  0.042098   \n\n                 FXI       VGK       VPL       SPY       TLT       BND  \\\nDate                                                                     \n2008-01-02  0.043601  0.044469  0.042788  0.043675  0.042796  0.042585   \n2008-01-03  0.043601  0.044469  0.042788  0.043675  0.042796  0.042585   \n2008-01-04  0.043595  0.044471  0.042788  0.043673  0.042794  0.042584   \n2008-01-07  0.043592  0.044467  0.042785  0.043667  0.042806  0.042595   \n2008-01-08  0.043609  0.044465  0.042784  0.043666  0.042807  0.042594   \n...              ...       ...       ...       ...       ...       ...   \n2016-06-27  0.043365  0.044119  0.042613  0.043871  0.043266  0.042686   \n2016-06-28  0.043368  0.044110  0.042616  0.043866  0.043291  0.042695   \n2016-06-29  0.043374  0.044120  0.042617  0.043868  0.043280  0.042686   \n2016-06-30  0.043379  0.044125  0.042617  0.043871  0.043267  0.042678   \n2016-07-01  0.043382  0.044132  0.042611  0.043874  0.043261  0.042673   \n\n                 CSJ       DIA  \nDate                            \n2008-01-02  0.044462  0.044348  \n2008-01-03  0.044462  0.044348  \n2008-01-04  0.044461  0.044346  \n2008-01-07  0.044475  0.044347  \n2008-01-08  0.044475  0.044345  \n...              ...       ...  \n2016-06-27  0.044632  0.044565  \n2016-06-28  0.044644  0.044566  \n2016-06-29  0.044631  0.044563  \n2016-06-30  0.044622  0.044564  \n2016-07-01  0.044615  0.044565  \n\n[2141 rows x 23 columns]",
      "text/html": "<div>\n<style scoped>\n    .dataframe tbody tr th:only-of-type {\n        vertical-align: middle;\n    }\n\n    .dataframe tbody tr th {\n        vertical-align: top;\n    }\n\n    .dataframe thead th {\n        text-align: right;\n    }\n</style>\n<table border=\"1\" class=\"dataframe\">\n  <thead>\n    <tr style=\"text-align: right;\">\n      <th></th>\n      <th>EEM</th>\n      <th>EWG</th>\n      <th>TIP</th>\n      <th>EWJ</th>\n      <th>EFA</th>\n      <th>IEF</th>\n      <th>EWQ</th>\n      <th>EWU</th>\n      <th>XLB</th>\n      <th>XLE</th>\n      <th>...</th>\n      <th>XLU</th>\n      <th>EPP</th>\n      <th>FXI</th>\n      <th>VGK</th>\n      <th>VPL</th>\n      <th>SPY</th>\n      <th>TLT</th>\n      <th>BND</th>\n      <th>CSJ</th>\n      <th>DIA</th>\n    </tr>\n    <tr>\n      <th>Date</th>\n      <th></th>\n      <th></th>\n      <th></th>\n      <th></th>\n      <th></th>\n      <th></th>\n      <th></th>\n      <th></th>\n      <th></th>\n      <th></th>\n      <th></th>\n      <th></th>\n      <th></th>\n      <th></th>\n      <th></th>\n      <th></th>\n      <th></th>\n      <th></th>\n      <th></th>\n      <th></th>\n      <th></th>\n    </tr>\n  </thead>\n  <tbody>\n    <tr>\n      <th>2008-01-02</th>\n      <td>0.044023</td>\n      <td>0.044533</td>\n      <td>0.043514</td>\n      <td>0.043713</td>\n      <td>0.044410</td>\n      <td>0.042895</td>\n      <td>0.041744</td>\n      <td>0.043393</td>\n      <td>0.042775</td>\n      <td>0.043778</td>\n      <td>...</td>\n      <td>0.044777</td>\n      <td>0.042248</td>\n      <td>0.043601</td>\n      <td>0.044469</td>\n      <td>0.042788</td>\n      <td>0.043675</td>\n      <td>0.042796</td>\n      <td>0.042585</td>\n      <td>0.044462</td>\n      <td>0.044348</td>\n    </tr>\n    <tr>\n      <th>2008-01-03</th>\n      <td>0.044023</td>\n      <td>0.044533</td>\n      <td>0.043514</td>\n      <td>0.043713</td>\n      <td>0.044410</td>\n      <td>0.042895</td>\n      <td>0.041744</td>\n      <td>0.043393</td>\n      <td>0.042775</td>\n      <td>0.043778</td>\n      <td>...</td>\n      <td>0.044777</td>\n      <td>0.042248</td>\n      <td>0.043601</td>\n      <td>0.044469</td>\n      <td>0.042788</td>\n      <td>0.043675</td>\n      <td>0.042796</td>\n      <td>0.042585</td>\n      <td>0.044462</td>\n      <td>0.044348</td>\n    </tr>\n    <tr>\n      <th>2008-01-04</th>\n      <td>0.044030</td>\n      <td>0.044530</td>\n      <td>0.043515</td>\n      <td>0.043714</td>\n      <td>0.044410</td>\n      <td>0.042895</td>\n      <td>0.041742</td>\n      <td>0.043396</td>\n      <td>0.042786</td>\n      <td>0.043785</td>\n      <td>...</td>\n      <td>0.044775</td>\n      <td>0.042248</td>\n      <td>0.043595</td>\n      <td>0.044471</td>\n      <td>0.042788</td>\n      <td>0.043673</td>\n      <td>0.042794</td>\n      <td>0.042584</td>\n      <td>0.044461</td>\n      <td>0.044346</td>\n    </tr>\n    <tr>\n      <th>2008-01-07</th>\n      <td>0.044019</td>\n      <td>0.044527</td>\n      <td>0.043526</td>\n      <td>0.043708</td>\n      <td>0.044405</td>\n      <td>0.042908</td>\n      <td>0.041739</td>\n      <td>0.043392</td>\n      <td>0.042777</td>\n      <td>0.043770</td>\n      <td>...</td>\n      <td>0.044794</td>\n      <td>0.042241</td>\n      <td>0.043592</td>\n      <td>0.044467</td>\n      <td>0.042785</td>\n      <td>0.043667</td>\n      <td>0.042806</td>\n      <td>0.042595</td>\n      <td>0.044475</td>\n      <td>0.044347</td>\n    </tr>\n    <tr>\n      <th>2008-01-08</th>\n      <td>0.044021</td>\n      <td>0.044526</td>\n      <td>0.043523</td>\n      <td>0.043702</td>\n      <td>0.044405</td>\n      <td>0.042907</td>\n      <td>0.041743</td>\n      <td>0.043393</td>\n      <td>0.042767</td>\n      <td>0.043766</td>\n      <td>...</td>\n      <td>0.044806</td>\n      <td>0.042247</td>\n      <td>0.043609</td>\n      <td>0.044465</td>\n      <td>0.042784</td>\n      <td>0.043666</td>\n      <td>0.042807</td>\n      <td>0.042594</td>\n      <td>0.044475</td>\n      <td>0.044345</td>\n    </tr>\n    <tr>\n      <th>...</th>\n      <td>...</td>\n      <td>...</td>\n      <td>...</td>\n      <td>...</td>\n      <td>...</td>\n      <td>...</td>\n      <td>...</td>\n      <td>...</td>\n      <td>...</td>\n      <td>...</td>\n      <td>...</td>\n      <td>...</td>\n      <td>...</td>\n      <td>...</td>\n      <td>...</td>\n      <td>...</td>\n      <td>...</td>\n      <td>...</td>\n      <td>...</td>\n      <td>...</td>\n      <td>...</td>\n    </tr>\n    <tr>\n      <th>2016-06-27</th>\n      <td>0.043820</td>\n      <td>0.044307</td>\n      <td>0.043665</td>\n      <td>0.043624</td>\n      <td>0.044180</td>\n      <td>0.043181</td>\n      <td>0.041392</td>\n      <td>0.043086</td>\n      <td>0.042885</td>\n      <td>0.043740</td>\n      <td>...</td>\n      <td>0.044898</td>\n      <td>0.042091</td>\n      <td>0.043365</td>\n      <td>0.044119</td>\n      <td>0.042613</td>\n      <td>0.043871</td>\n      <td>0.043266</td>\n      <td>0.042686</td>\n      <td>0.044632</td>\n      <td>0.044565</td>\n    </tr>\n    <tr>\n      <th>2016-06-28</th>\n      <td>0.043817</td>\n      <td>0.044299</td>\n      <td>0.043674</td>\n      <td>0.043627</td>\n      <td>0.044174</td>\n      <td>0.043194</td>\n      <td>0.041386</td>\n      <td>0.043069</td>\n      <td>0.042870</td>\n      <td>0.043726</td>\n      <td>...</td>\n      <td>0.044915</td>\n      <td>0.042084</td>\n      <td>0.043368</td>\n      <td>0.044110</td>\n      <td>0.042616</td>\n      <td>0.043866</td>\n      <td>0.043291</td>\n      <td>0.042695</td>\n      <td>0.044644</td>\n      <td>0.044566</td>\n    </tr>\n    <tr>\n      <th>2016-06-29</th>\n      <td>0.043825</td>\n      <td>0.044302</td>\n      <td>0.043665</td>\n      <td>0.043627</td>\n      <td>0.044180</td>\n      <td>0.043183</td>\n      <td>0.041394</td>\n      <td>0.043085</td>\n      <td>0.042865</td>\n      <td>0.043733</td>\n      <td>...</td>\n      <td>0.044906</td>\n      <td>0.042090</td>\n      <td>0.043374</td>\n      <td>0.044120</td>\n      <td>0.042617</td>\n      <td>0.043868</td>\n      <td>0.043280</td>\n      <td>0.042686</td>\n      <td>0.044631</td>\n      <td>0.044563</td>\n    </tr>\n    <tr>\n      <th>2016-06-30</th>\n      <td>0.043835</td>\n      <td>0.044303</td>\n      <td>0.043657</td>\n      <td>0.043628</td>\n      <td>0.044184</td>\n      <td>0.043173</td>\n      <td>0.041397</td>\n      <td>0.043094</td>\n      <td>0.042868</td>\n      <td>0.043738</td>\n      <td>...</td>\n      <td>0.044899</td>\n      <td>0.042093</td>\n      <td>0.043379</td>\n      <td>0.044125</td>\n      <td>0.042617</td>\n      <td>0.043871</td>\n      <td>0.043267</td>\n      <td>0.042678</td>\n      <td>0.044622</td>\n      <td>0.044564</td>\n    </tr>\n    <tr>\n      <th>2016-07-01</th>\n      <td>0.043834</td>\n      <td>0.044305</td>\n      <td>0.043652</td>\n      <td>0.043617</td>\n      <td>0.044188</td>\n      <td>0.043167</td>\n      <td>0.041403</td>\n      <td>0.043104</td>\n      <td>0.042872</td>\n      <td>0.043735</td>\n      <td>...</td>\n      <td>0.044906</td>\n      <td>0.042098</td>\n      <td>0.043382</td>\n      <td>0.044132</td>\n      <td>0.042611</td>\n      <td>0.043874</td>\n      <td>0.043261</td>\n      <td>0.042673</td>\n      <td>0.044615</td>\n      <td>0.044565</td>\n    </tr>\n  </tbody>\n</table>\n<p>2141 rows × 23 columns</p>\n</div>"
     },
     "execution_count": 5,
     "metadata": {},
     "output_type": "execute_result"
    }
   ],
   "source": [
    "up.all_weights"
   ],
   "metadata": {
    "collapsed": false,
    "pycharm": {
     "name": "#%%\n"
    }
   }
  },
  {
   "cell_type": "code",
   "source": [
    "up.portfolio_return"
   ],
   "metadata": {
    "collapsed": false,
    "pycharm": {
     "name": "#%%\n"
    }
   },
   "execution_count": 6,
   "outputs": [
    {
     "data": {
      "text/plain": "            Relative Returns\nDate                        \n2008-01-02          1.000000\n2008-01-03          1.002026\n2008-01-04          0.984526\n2008-01-07          0.986779\n2008-01-08          0.977530\n...                      ...\n2016-06-27          1.019420\n2016-06-28          1.037105\n2016-06-29          1.049698\n2016-06-30          1.060867\n2016-07-01          1.063186\n\n[2141 rows x 1 columns]",
      "text/html": "<div>\n<style scoped>\n    .dataframe tbody tr th:only-of-type {\n        vertical-align: middle;\n    }\n\n    .dataframe tbody tr th {\n        vertical-align: top;\n    }\n\n    .dataframe thead th {\n        text-align: right;\n    }\n</style>\n<table border=\"1\" class=\"dataframe\">\n  <thead>\n    <tr style=\"text-align: right;\">\n      <th></th>\n      <th>Relative Returns</th>\n    </tr>\n    <tr>\n      <th>Date</th>\n      <th></th>\n    </tr>\n  </thead>\n  <tbody>\n    <tr>\n      <th>2008-01-02</th>\n      <td>1.000000</td>\n    </tr>\n    <tr>\n      <th>2008-01-03</th>\n      <td>1.002026</td>\n    </tr>\n    <tr>\n      <th>2008-01-04</th>\n      <td>0.984526</td>\n    </tr>\n    <tr>\n      <th>2008-01-07</th>\n      <td>0.986779</td>\n    </tr>\n    <tr>\n      <th>2008-01-08</th>\n      <td>0.977530</td>\n    </tr>\n    <tr>\n      <th>...</th>\n      <td>...</td>\n    </tr>\n    <tr>\n      <th>2016-06-27</th>\n      <td>1.019420</td>\n    </tr>\n    <tr>\n      <th>2016-06-28</th>\n      <td>1.037105</td>\n    </tr>\n    <tr>\n      <th>2016-06-29</th>\n      <td>1.049698</td>\n    </tr>\n    <tr>\n      <th>2016-06-30</th>\n      <td>1.060867</td>\n    </tr>\n    <tr>\n      <th>2016-07-01</th>\n      <td>1.063186</td>\n    </tr>\n  </tbody>\n</table>\n<p>2141 rows × 1 columns</p>\n</div>"
     },
     "execution_count": 6,
     "metadata": {},
     "output_type": "execute_result"
    }
   ]
  }
 ],
 "metadata": {
  "kernelspec": {
   "display_name": "Python 3",
   "language": "python",
   "name": "python3"
  },
  "language_info": {
   "codemirror_mode": {
    "name": "ipython",
    "version": 2
   },
   "file_extension": ".py",
   "mimetype": "text/x-python",
   "name": "python",
   "nbconvert_exporter": "python",
   "pygments_lexer": "ipython2",
   "version": "2.7.6"
  }
 },
 "nbformat": 4,
 "nbformat_minor": 0
}