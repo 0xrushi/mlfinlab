{
 "cells": [
  {
   "cell_type": "markdown",
   "source": [
    "testing jupyter notebook for EG class"
   ],
   "metadata": {
    "collapsed": false,
    "pycharm": {
     "name": "#%% md\n"
    }
   }
  },
  {
   "cell_type": "code",
   "execution_count": 1,
   "metadata": {
    "collapsed": true
   },
   "outputs": [
    {
     "name": "stderr",
     "output_type": "stream",
     "text": [
      "/Users/alexkwon/opt/anaconda3/envs/ht/lib/python3.6/site-packages/sklearn/utils/deprecation.py:144: FutureWarning: The sklearn.ensemble.bagging module is  deprecated in version 0.22 and will be removed in version 0.24. The corresponding classes / functions should instead be imported from sklearn.ensemble. Anything that cannot be imported from sklearn.ensemble is now part of the private API.\n",
      "  warnings.warn(message, FutureWarning)\n",
      "/Users/alexkwon/opt/anaconda3/envs/ht/lib/python3.6/site-packages/sklearn/utils/deprecation.py:144: FutureWarning: The sklearn.ensemble.base module is  deprecated in version 0.22 and will be removed in version 0.24. The corresponding classes / functions should instead be imported from sklearn.ensemble. Anything that cannot be imported from sklearn.ensemble is now part of the private API.\n",
      "  warnings.warn(message, FutureWarning)\n"
     ]
    },
    {
     "name": "stdout",
     "output_type": "stream",
     "text": [
      "\n",
      "\n",
      "Support us on Patreon: https://www.patreon.com/HudsonThames\n",
      "\n",
      "MlFinLab needs you! We need your help for us to keep on maintaining and implementing academic research based on \n",
      "financial machine learning (for open-source). In order for us to continue we need to raise $4000 of monthly donations\n",
      "via Patreon - by December 2020. If we can't reach our goal, we will need to adopt more of a paid for service. We thought\n",
      "that the best and least impactful course of action (should we not reach our goal) is to leave the package as open-source\n",
      "but to make the documentation (ReadTheDocs) a paid for service. This is the ultimate litmus test, if the package is a \n",
      "value add, then we need the community to help us keep it going.\n",
      "\n",
      "Our road map for 2020 is to implement the text book: Machine Learning for Asset Managers by Marcos Lopez de Prado, \n",
      "as well as a few papers from the Journal of Financial Data Science. We are hiring a full time developer for 3 months \n",
      "to help us reach our goals. The money that you, our sponsors, contribute will go directly to paying salaries and other \n",
      "expenses such as journal subscriptions and data. \n",
      "\n",
      "We need your help to continue maintaining and developing this community. Thank you for using our package and we \n",
      "invite you to join our slack channel using the following link:\n",
      "https://join.slack.com/t/mlfinlab/shared_invite/zt-c62u9gpz-VFc13j6da~UVg3DkV7~RjQ\n",
      "\n",
      "\n",
      "\n"
     ]
    }
   ],
   "source": [
    "import numpy as np\n",
    "import pandas as pd\n",
    "from mlfinlab.online_portfolio_selection import *\n",
    "\n"
   ]
  },
  {
   "cell_type": "code",
   "execution_count": 2,
   "outputs": [],
   "source": [
    "stock_prices = pd.read_csv('../../tests/test_data/stock_prices.csv', parse_dates=True, index_col='Date')\n",
    "stock_prices = stock_prices.dropna(axis=1)\n",
    "asset_name = list(stock_prices.columns)"
   ],
   "metadata": {
    "collapsed": false,
    "pycharm": {
     "name": "#%%\n"
    }
   }
  },
  {
   "cell_type": "code",
   "execution_count": 3,
   "outputs": [],
   "source": [
    "idx = stock_prices.index\n",
    "name = stock_prices.columns"
   ],
   "metadata": {
    "collapsed": false,
    "pycharm": {
     "name": "#%%\n"
    }
   }
  },
  {
   "cell_type": "code",
   "execution_count": 7,
   "outputs": [],
   "source": [
    "eg = EG(update_rule='EG')\n",
    "gp = EG(update_rule='GP')\n",
    "em = EG(update_rule='EM')\n",
    "eg.allocate(name,stock_prices)\n",
    "gp.allocate(name,stock_prices)\n",
    "em.allocate(name,stock_prices)"
   ],
   "metadata": {
    "collapsed": false,
    "pycharm": {
     "name": "#%%\n"
    }
   }
  },
  {
   "cell_type": "code",
   "execution_count": 8,
   "outputs": [
    {
     "name": "stdout",
     "output_type": "stream",
     "text": [
      "                 EEM       EWG       TIP       EWJ       EFA       IEF  \\\n",
      "Date                                                                     \n",
      "2008-01-02  0.043478  0.043478  0.043478  0.043478  0.043478  0.043478   \n",
      "2008-01-03  0.043478  0.043478  0.043478  0.043478  0.043478  0.043478   \n",
      "2008-01-04  0.043493  0.043468  0.043481  0.043482  0.043477  0.043478   \n",
      "2008-01-07  0.043465  0.043463  0.043519  0.043464  0.043466  0.043523   \n",
      "2008-01-08  0.043476  0.043460  0.043514  0.043446  0.043463  0.043522   \n",
      "...              ...       ...       ...       ...       ...       ...   \n",
      "2016-06-27  0.042814  0.042746  0.043957  0.043222  0.042676  0.044389   \n",
      "2016-06-28  0.042812  0.042719  0.043989  0.043236  0.042660  0.044435   \n",
      "2016-06-29  0.042837  0.042726  0.043959  0.043231  0.042679  0.044397   \n",
      "2016-06-30  0.042865  0.042729  0.043932  0.043234  0.042692  0.044362   \n",
      "2016-07-01  0.042864  0.042737  0.043913  0.043193  0.042702  0.044344   \n",
      "\n",
      "                 EWQ       EWU       XLB       XLE  ...       XLU       EPP  \\\n",
      "Date                                                ...                       \n",
      "2008-01-02  0.043478  0.043478  0.043478  0.043478  ...  0.043478  0.043478   \n",
      "2008-01-03  0.043478  0.043478  0.043478  0.043478  ...  0.043478  0.043478   \n",
      "2008-01-04  0.043473  0.043487  0.043513  0.043500  ...  0.043471  0.043479   \n",
      "2008-01-07  0.043457  0.043474  0.043485  0.043457  ...  0.043526  0.043455   \n",
      "2008-01-08  0.043468  0.043475  0.043450  0.043444  ...  0.043566  0.043475   \n",
      "...              ...       ...       ...       ...  ...       ...       ...   \n",
      "2016-06-27  0.042448  0.042490  0.043818  0.043336  ...  0.043963  0.042945   \n",
      "2016-06-28  0.042424  0.042430  0.043770  0.043292  ...  0.044017  0.042925   \n",
      "2016-06-29  0.042451  0.042483  0.043751  0.043314  ...  0.043988  0.042943   \n",
      "2016-06-30  0.042463  0.042513  0.043762  0.043329  ...  0.043967  0.042951   \n",
      "2016-07-01  0.042482  0.042547  0.043773  0.043324  ...  0.043991  0.042965   \n",
      "\n",
      "                 FXI       VGK       VPL       SPY       TLT       BND  \\\n",
      "Date                                                                     \n",
      "2008-01-02  0.043478  0.043478  0.043478  0.043478  0.043478  0.043478   \n",
      "2008-01-03  0.043478  0.043478  0.043478  0.043478  0.043478  0.043478   \n",
      "2008-01-04  0.043459  0.043482  0.043480  0.043473  0.043471  0.043477   \n",
      "2008-01-07  0.043455  0.043466  0.043462  0.043457  0.043510  0.043518   \n",
      "2008-01-08  0.043513  0.043461  0.043453  0.043450  0.043514  0.043513   \n",
      "...              ...       ...       ...       ...       ...       ...   \n",
      "2016-06-27  0.042781  0.042458  0.043022  0.044186  0.044950  0.043912   \n",
      "2016-06-28  0.042799  0.042427  0.043026  0.044173  0.045034  0.043949   \n",
      "2016-06-29  0.042813  0.042459  0.043034  0.044174  0.045000  0.043914   \n",
      "2016-06-30  0.042826  0.042477  0.043037  0.044185  0.044957  0.043887   \n",
      "2016-07-01  0.042832  0.042501  0.043017  0.044192  0.044941  0.043867   \n",
      "\n",
      "                 CSJ       DIA  \n",
      "Date                            \n",
      "2008-01-02  0.043478  0.043478  \n",
      "2008-01-03  0.043478  0.043478  \n",
      "2008-01-04  0.043476  0.043476  \n",
      "2008-01-07  0.043518  0.043471  \n",
      "2008-01-08  0.043514  0.043464  \n",
      "...              ...       ...  \n",
      "2016-06-27  0.043797  0.044069  \n",
      "2016-06-28  0.043821  0.044064  \n",
      "2016-06-29  0.043786  0.044060  \n",
      "2016-06-30  0.043761  0.044069  \n",
      "2016-07-01  0.043742  0.044075  \n",
      "\n",
      "[2141 rows x 23 columns]\n",
      "            Relative Returns\n",
      "Date                        \n",
      "2008-01-02          1.000000\n",
      "2008-01-03          1.002028\n",
      "2008-01-04          0.984563\n",
      "2008-01-07          0.986808\n",
      "2008-01-08          0.977579\n",
      "...                      ...\n",
      "2016-06-27          1.017576\n",
      "2016-06-28          1.035090\n",
      "2016-06-29          1.047533\n",
      "2016-06-30          1.058607\n",
      "2016-07-01          1.060933\n",
      "\n",
      "[2141 rows x 1 columns]\n"
     ]
    }
   ],
   "source": [
    "print(eg.all_weights)\n",
    "print(eg.portfolio_return)"
   ],
   "metadata": {
    "collapsed": false,
    "pycharm": {
     "name": "#%%\n"
    }
   }
  },
  {
   "cell_type": "code",
   "source": [
    "print(gp.all_weights)\n",
    "print(gp.portfolio_return)"
   ],
   "metadata": {
    "collapsed": false,
    "pycharm": {
     "name": "#%%\n"
    }
   },
   "execution_count": 9,
   "outputs": [
    {
     "name": "stdout",
     "output_type": "stream",
     "text": [
      "                 EEM       EWG       TIP       EWJ       EFA       IEF  \\\n",
      "Date                                                                     \n",
      "2008-01-02  0.043478  0.043478  0.043478  0.043478  0.043478  0.043478   \n",
      "2008-01-03  0.043478  0.043478  0.043478  0.043478  0.043478  0.043478   \n",
      "2008-01-04  0.043826  0.043236  0.043546  0.043566  0.043460  0.043480   \n",
      "2008-01-07  0.043184  0.043128  0.044418  0.043150  0.043191  0.044500   \n",
      "2008-01-08  0.043436  0.043058  0.044295  0.042728  0.043129  0.044477   \n",
      "...              ...       ...       ...       ...       ...       ...   \n",
      "2016-06-27  0.029972  0.028062  0.052064  0.037936  0.026014  0.061624   \n",
      "2016-06-28  0.029923  0.027438  0.052812  0.038269  0.025646  0.062659   \n",
      "2016-06-29  0.030519  0.027592  0.052125  0.038155  0.026082  0.061794   \n",
      "2016-06-30  0.031172  0.027669  0.051494  0.038203  0.026389  0.060992   \n",
      "2016-07-01  0.031141  0.027852  0.051061  0.037249  0.026601  0.060575   \n",
      "\n",
      "                 EWQ       EWU       XLB       XLE  ...       XLU       EPP  \\\n",
      "Date                                                ...                       \n",
      "2008-01-02  0.043478  0.043478  0.043478  0.043478  ...  0.043478  0.043478   \n",
      "2008-01-03  0.043478  0.043478  0.043478  0.043478  ...  0.043478  0.043478   \n",
      "2008-01-04  0.043351  0.043691  0.044283  0.043967  ...  0.043306  0.043494   \n",
      "2008-01-07  0.042990  0.043370  0.043633  0.042994  ...  0.044580  0.042949   \n",
      "2008-01-08  0.043240  0.043405  0.042834  0.042687  ...  0.045503  0.043402   \n",
      "...              ...       ...       ...       ...  ...       ...       ...   \n",
      "2016-06-27  0.021095  0.021681  0.052034  0.041427  ...  0.054104  0.032483   \n",
      "2016-06-28  0.020520  0.020273  0.050935  0.040411  ...  0.055324  0.032028   \n",
      "2016-06-29  0.021162  0.021531  0.050500  0.040927  ...  0.054651  0.032437   \n",
      "2016-06-30  0.021437  0.022220  0.050738  0.041265  ...  0.054185  0.032606   \n",
      "2016-07-01  0.021883  0.023017  0.051004  0.041134  ...  0.054729  0.032928   \n",
      "\n",
      "                 FXI       VGK       VPL       SPY       TLT       BND  \\\n",
      "Date                                                                     \n",
      "2008-01-02  0.043478  0.043478  0.043478  0.043478  0.043478  0.043478   \n",
      "2008-01-03  0.043478  0.043478  0.043478  0.043478  0.043478  0.043478   \n",
      "2008-01-04  0.043035  0.043558  0.043518  0.043353  0.043308  0.043442   \n",
      "2008-01-07  0.042949  0.043207  0.043101  0.042993  0.044206  0.044388   \n",
      "2008-01-08  0.044281  0.043072  0.042896  0.042837  0.044309  0.044287   \n",
      "...              ...       ...       ...       ...       ...       ...   \n",
      "2016-06-27  0.029249  0.021119  0.033532  0.060122  0.073522  0.051139   \n",
      "2016-06-28  0.029678  0.020403  0.033649  0.059819  0.075381  0.051992   \n",
      "2016-06-29  0.030009  0.021163  0.033810  0.059851  0.074627  0.051194   \n",
      "2016-06-30  0.030304  0.021569  0.033876  0.060093  0.073647  0.050576   \n",
      "2016-07-01  0.030453  0.022139  0.033403  0.060243  0.073303  0.050114   \n",
      "\n",
      "                 CSJ       DIA  \n",
      "Date                            \n",
      "2008-01-02  0.043478  0.043478  \n",
      "2008-01-03  0.043478  0.043478  \n",
      "2008-01-04  0.043436  0.043419  \n",
      "2008-01-07  0.044388  0.043306  \n",
      "2008-01-08  0.044309  0.043149  \n",
      "...              ...       ...  \n",
      "2016-06-27  0.048706  0.057248  \n",
      "2016-06-28  0.049272  0.057144  \n",
      "2016-06-29  0.048462  0.057042  \n",
      "2016-06-30  0.047885  0.057245  \n",
      "2016-07-01  0.047428  0.057380  \n",
      "\n",
      "[2141 rows x 23 columns]\n",
      "            Relative Returns\n",
      "Date                        \n",
      "2008-01-02          1.000000\n",
      "2008-01-03          1.002028\n",
      "2008-01-04          0.984532\n",
      "2008-01-07          0.986785\n",
      "2008-01-08          0.977676\n",
      "...                      ...\n",
      "2016-06-27          0.944005\n",
      "2016-06-28          0.957238\n",
      "2016-06-29          0.966727\n",
      "2016-06-30          0.975873\n",
      "2016-07-01          0.978195\n",
      "\n",
      "[2141 rows x 1 columns]\n"
     ]
    }
   ]
  },
  {
   "cell_type": "code",
   "execution_count": 10,
   "outputs": [
    {
     "name": "stdout",
     "output_type": "stream",
     "text": [
      "                 EEM       EWG       TIP       EWJ       EFA       IEF  \\\n",
      "Date                                                                     \n",
      "2008-01-02  0.043478  0.043478  0.043478  0.043478  0.043478  0.043478   \n",
      "2008-01-03  0.043478  0.043478  0.043478  0.043478  0.043478  0.043478   \n",
      "2008-01-04  0.043493  0.043468  0.043481  0.043482  0.043477  0.043478   \n",
      "2008-01-07  0.043465  0.043463  0.043519  0.043464  0.043466  0.043523   \n",
      "2008-01-08  0.043476  0.043460  0.043514  0.043446  0.043463  0.043522   \n",
      "...              ...       ...       ...       ...       ...       ...   \n",
      "2016-06-27  0.042812  0.042748  0.043951  0.043227  0.042685  0.044380   \n",
      "2016-06-28  0.042810  0.042721  0.043984  0.043242  0.042669  0.044426   \n",
      "2016-06-29  0.042836  0.042728  0.043954  0.043237  0.042688  0.044388   \n",
      "2016-06-30  0.042864  0.042731  0.043927  0.043239  0.042701  0.044353   \n",
      "2016-07-01  0.042862  0.042739  0.043908  0.043198  0.042710  0.044335   \n",
      "\n",
      "                 EWQ       EWU       XLB       XLE  ...       XLU       EPP  \\\n",
      "Date                                                ...                       \n",
      "2008-01-02  0.043478  0.043478  0.043478  0.043478  ...  0.043478  0.043478   \n",
      "2008-01-03  0.043478  0.043478  0.043478  0.043478  ...  0.043478  0.043478   \n",
      "2008-01-04  0.043473  0.043487  0.043513  0.043500  ...  0.043471  0.043479   \n",
      "2008-01-07  0.043457  0.043474  0.043485  0.043457  ...  0.043526  0.043455   \n",
      "2008-01-08  0.043468  0.043475  0.043450  0.043444  ...  0.043566  0.043475   \n",
      "...              ...       ...       ...       ...  ...       ...       ...   \n",
      "2016-06-27  0.042450  0.042496  0.043823  0.043334  ...  0.043968  0.042949   \n",
      "2016-06-28  0.042425  0.042435  0.043774  0.043289  ...  0.044022  0.042929   \n",
      "2016-06-29  0.042453  0.042489  0.043755  0.043312  ...  0.043993  0.042947   \n",
      "2016-06-30  0.042465  0.042518  0.043766  0.043327  ...  0.043972  0.042954   \n",
      "2016-07-01  0.042484  0.042552  0.043778  0.043321  ...  0.043996  0.042968   \n",
      "\n",
      "                 FXI       VGK       VPL       SPY       TLT       BND  \\\n",
      "Date                                                                     \n",
      "2008-01-02  0.043478  0.043478  0.043478  0.043478  0.043478  0.043478   \n",
      "2008-01-03  0.043478  0.043478  0.043478  0.043478  0.043478  0.043478   \n",
      "2008-01-04  0.043459  0.043482  0.043480  0.043473  0.043471  0.043477   \n",
      "2008-01-07  0.043455  0.043466  0.043462  0.043457  0.043510  0.043518   \n",
      "2008-01-08  0.043513  0.043461  0.043453  0.043450  0.043514  0.043513   \n",
      "...              ...       ...       ...       ...       ...       ...   \n",
      "2016-06-27  0.042766  0.042463  0.043031  0.044198  0.044926  0.043908   \n",
      "2016-06-28  0.042784  0.042432  0.043036  0.044184  0.045010  0.043945   \n",
      "2016-06-29  0.042799  0.042464  0.043043  0.044186  0.044976  0.043911   \n",
      "2016-06-30  0.042811  0.042482  0.043046  0.044197  0.044932  0.043884   \n",
      "2016-07-01  0.042818  0.042506  0.043026  0.044203  0.044917  0.043864   \n",
      "\n",
      "                 CSJ       DIA  \n",
      "Date                            \n",
      "2008-01-02  0.043478  0.043478  \n",
      "2008-01-03  0.043478  0.043478  \n",
      "2008-01-04  0.043476  0.043476  \n",
      "2008-01-07  0.043518  0.043471  \n",
      "2008-01-08  0.043514  0.043464  \n",
      "...              ...       ...  \n",
      "2016-06-27  0.043795  0.044080  \n",
      "2016-06-28  0.043820  0.044075  \n",
      "2016-06-29  0.043785  0.044071  \n",
      "2016-06-30  0.043760  0.044080  \n",
      "2016-07-01  0.043740  0.044086  \n",
      "\n",
      "[2141 rows x 23 columns]\n",
      "            Relative Returns\n",
      "Date                        \n",
      "2008-01-02          1.000000\n",
      "2008-01-03          1.002028\n",
      "2008-01-04          0.984563\n",
      "2008-01-07          0.986808\n",
      "2008-01-08          0.977579\n",
      "...                      ...\n",
      "2016-06-27          1.017574\n",
      "2016-06-28          1.035088\n",
      "2016-06-29          1.047533\n",
      "2016-06-30          1.058607\n",
      "2016-07-01          1.060933\n",
      "\n",
      "[2141 rows x 1 columns]\n"
     ]
    }
   ],
   "source": [
    "print(em.all_weights)\n",
    "print(em.portfolio_return)"
   ],
   "metadata": {
    "collapsed": false,
    "pycharm": {
     "name": "#%%\n"
    }
   }
  },
  {
   "cell_type": "code",
   "execution_count": null,
   "outputs": [],
   "source": [
    "\n"
   ],
   "metadata": {
    "collapsed": false,
    "pycharm": {
     "name": "#%%\n"
    }
   }
  }
 ],
 "metadata": {
  "kernelspec": {
   "display_name": "Python 3",
   "language": "python",
   "name": "python3"
  },
  "language_info": {
   "codemirror_mode": {
    "name": "ipython",
    "version": 2
   },
   "file_extension": ".py",
   "mimetype": "text/x-python",
   "name": "python",
   "nbconvert_exporter": "python",
   "pygments_lexer": "ipython2",
   "version": "2.7.6"
  }
 },
 "nbformat": 4,
 "nbformat_minor": 0
}