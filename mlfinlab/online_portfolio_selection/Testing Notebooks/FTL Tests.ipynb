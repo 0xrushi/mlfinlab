{
 "cells": [
  {
   "cell_type": "markdown",
   "source": [
    "testing jupyter notebook for FTL class"
   ],
   "metadata": {
    "collapsed": false,
    "pycharm": {
     "name": "#%% md\n"
    }
   }
  },
  {
   "cell_type": "code",
   "execution_count": 1,
   "metadata": {
    "collapsed": true
   },
   "outputs": [
    {
     "name": "stderr",
     "output_type": "stream",
     "text": [
      "/Users/alexkwon/opt/anaconda3/envs/ht/lib/python3.6/site-packages/sklearn/utils/deprecation.py:144: FutureWarning: The sklearn.ensemble.bagging module is  deprecated in version 0.22 and will be removed in version 0.24. The corresponding classes / functions should instead be imported from sklearn.ensemble. Anything that cannot be imported from sklearn.ensemble is now part of the private API.\n",
      "  warnings.warn(message, FutureWarning)\n",
      "/Users/alexkwon/opt/anaconda3/envs/ht/lib/python3.6/site-packages/sklearn/utils/deprecation.py:144: FutureWarning: The sklearn.ensemble.base module is  deprecated in version 0.22 and will be removed in version 0.24. The corresponding classes / functions should instead be imported from sklearn.ensemble. Anything that cannot be imported from sklearn.ensemble is now part of the private API.\n",
      "  warnings.warn(message, FutureWarning)\n"
     ]
    },
    {
     "name": "stdout",
     "output_type": "stream",
     "text": [
      "\n",
      "\n",
      "Support us on Patreon: https://www.patreon.com/HudsonThames\n",
      "\n",
      "MlFinLab needs you! We need your help for us to keep on maintaining and implementing academic research based on \n",
      "financial machine learning (for open-source). In order for us to continue we need to raise $4000 of monthly donations\n",
      "via Patreon - by December 2020. If we can't reach our goal, we will need to adopt more of a paid for service. We thought\n",
      "that the best and least impactful course of action (should we not reach our goal) is to leave the package as open-source\n",
      "but to make the documentation (ReadTheDocs) a paid for service. This is the ultimate litmus test, if the package is a \n",
      "value add, then we need the community to help us keep it going.\n",
      "\n",
      "Our road map for 2020 is to implement the text book: Machine Learning for Asset Managers by Marcos Lopez de Prado, \n",
      "as well as a few papers from the Journal of Financial Data Science. We are hiring a full time developer for 3 months \n",
      "to help us reach our goals. The money that you, our sponsors, contribute will go directly to paying salaries and other \n",
      "expenses such as journal subscriptions and data. \n",
      "\n",
      "We need your help to continue maintaining and developing this community. Thank you for using our package and we \n",
      "invite you to join our slack channel using the following link:\n",
      "https://join.slack.com/t/mlfinlab/shared_invite/zt-c62u9gpz-VFc13j6da~UVg3DkV7~RjQ\n",
      "\n",
      "\n",
      "\n"
     ]
    }
   ],
   "source": [
    "import numpy as np\n",
    "import pandas as pd\n",
    "from mlfinlab.online_portfolio_selection import *"
   ]
  },
  {
   "cell_type": "code",
   "execution_count": 2,
   "outputs": [],
   "source": [
    "stock_prices = pd.read_csv('../../tests/test_data/stock_prices.csv', parse_dates=True, index_col='Date')\n",
    "stock_prices = stock_prices.dropna(axis=1)\n",
    "asset_name = list(stock_prices.columns)"
   ],
   "metadata": {
    "collapsed": false,
    "pycharm": {
     "name": "#%%\n"
    }
   }
  },
  {
   "cell_type": "code",
   "execution_count": 3,
   "outputs": [],
   "source": [
    "idx = stock_prices.index\n",
    "name = stock_prices.columns"
   ],
   "metadata": {
    "collapsed": false,
    "pycharm": {
     "name": "#%%\n"
    }
   }
  },
  {
   "cell_type": "code",
   "execution_count": 4,
   "outputs": [],
   "source": [
    "ftl = FTL()\n",
    "ftl.allocate(name,stock_prices)"
   ],
   "metadata": {
    "collapsed": false,
    "pycharm": {
     "name": "#%%\n"
    }
   }
  },
  {
   "cell_type": "code",
   "execution_count": 5,
   "outputs": [
    {
     "name": "stdout",
     "output_type": "stream",
     "text": [
      "                     EEM           EWG           TIP           EWJ  \\\n",
      "Date                                                                 \n",
      "2008-01-02  4.347826e-02  4.347826e-02  4.347826e-02  4.347826e-02   \n",
      "2008-01-03  4.347826e-02  4.347826e-02  4.347826e-02  4.347826e-02   \n",
      "2008-01-04  6.168053e-09  2.117335e-09  3.213642e-09  3.327307e-09   \n",
      "2008-01-07  1.672351e-09  1.579399e-09  1.433659e-08  1.617843e-09   \n",
      "2008-01-08  1.100174e-09  9.268242e-10  1.802388e-09  8.237740e-10   \n",
      "...                  ...           ...           ...           ...   \n",
      "2016-06-27  1.624275e-12  1.437852e-12  3.912918e-12  2.187973e-12   \n",
      "2016-06-28  1.869136e-12  1.590642e-12  4.506541e-12  2.537864e-12   \n",
      "2016-06-29  1.603408e-12  1.323119e-12  3.459421e-12  2.071832e-12   \n",
      "2016-06-30  1.691802e-12  1.387190e-12  3.707343e-12  2.177785e-12   \n",
      "2016-07-01  1.719864e-12  1.424732e-12  3.720665e-12  2.120440e-12   \n",
      "\n",
      "                     EFA           IEF           EWQ           EWU  \\\n",
      "Date                                                                 \n",
      "2008-01-02  4.347826e-02  4.347826e-02  4.347826e-02  4.347826e-02   \n",
      "2008-01-03  4.347826e-02  4.347826e-02  4.347826e-02  4.347826e-02   \n",
      "2008-01-04  2.808176e-09  2.891389e-09  2.421273e-09  4.269894e-09   \n",
      "2008-01-07  1.665971e-09  4.190809e-08  1.434701e-09  1.950720e-09   \n",
      "2008-01-08  9.569176e-10  2.096857e-09  1.000797e-09  1.081066e-09   \n",
      "...                  ...           ...           ...           ...   \n",
      "2016-06-27  1.277226e-12  7.454751e-12  1.023843e-12  1.030633e-12   \n",
      "2016-06-28  1.429985e-12  7.984710e-12  1.126158e-12  1.081865e-12   \n",
      "2016-06-29  1.189381e-12  6.976943e-12  9.588363e-13  9.426040e-13   \n",
      "2016-06-30  1.280421e-12  6.891204e-12  1.026893e-12  1.043517e-12   \n",
      "2016-07-01  1.316551e-12  6.927533e-12  1.066630e-12  1.103891e-12   \n",
      "\n",
      "                     XLB           XLE  ...           XLU           EPP  \\\n",
      "Date                                    ...                               \n",
      "2008-01-02  4.347826e-02  4.347826e-02  ...  4.347826e-02  4.347826e-02   \n",
      "2008-01-03  4.347826e-02  4.347826e-02  ...  4.347826e-02  4.347826e-02   \n",
      "2008-01-04  9.999999e-01  1.094306e-08  ...  2.292391e-09  2.956485e-09   \n",
      "2008-01-07  2.610057e-09  1.458265e-09  ...  9.999998e-01  1.400336e-09   \n",
      "2008-01-08  8.637088e-10  8.171274e-10  ...  1.000000e+00  1.077545e-09   \n",
      "...                  ...           ...  ...           ...           ...   \n",
      "2016-06-27  5.212811e-12  2.895952e-12  ...  5.296566e-12  1.775901e-12   \n",
      "2016-06-28  5.935551e-12  3.289794e-12  ...  6.704945e-12  2.000916e-12   \n",
      "2016-06-29  4.925326e-12  2.786660e-12  ...  5.567541e-12  1.683232e-12   \n",
      "2016-06-30  4.668845e-12  2.827249e-12  ...  5.240521e-12  1.756699e-12   \n",
      "2016-07-01  4.859540e-12  2.858474e-12  ...  5.622197e-12  1.818456e-12   \n",
      "\n",
      "                     FXI           VGK           VPL           SPY  \\\n",
      "Date                                                                 \n",
      "2008-01-02  4.347826e-02  4.347826e-02  4.347826e-02  4.347826e-02   \n",
      "2008-01-03  4.347826e-02  4.347826e-02  4.347826e-02  4.347826e-02   \n",
      "2008-01-04  1.738135e-09  3.282236e-09  3.070203e-09  2.428003e-09   \n",
      "2008-01-07  1.387149e-09  1.690887e-09  1.557621e-09  1.437862e-09   \n",
      "2008-01-08  1.771080e-09  9.367926e-10  8.750987e-10  8.544468e-10   \n",
      "...                  ...           ...           ...           ...   \n",
      "2016-06-27  1.594044e-12  1.009555e-12  1.784167e-12  9.158381e-12   \n",
      "2016-06-28  1.888079e-12  1.098053e-12  2.050837e-12  1.408650e-11   \n",
      "2016-06-29  1.596753e-12  9.380069e-13  1.683331e-12  1.175066e-11   \n",
      "2016-06-30  1.650462e-12  1.017972e-12  1.783169e-12  9.277322e-12   \n",
      "2016-07-01  1.691426e-12  1.064448e-12  1.777295e-12  9.571895e-12   \n",
      "\n",
      "                     TLT           BND           CSJ           DIA  \n",
      "Date                                                                \n",
      "2008-01-02  4.347826e-02  4.347826e-02  4.347826e-02  4.347826e-02  \n",
      "2008-01-03  4.347826e-02  4.347826e-02  4.347826e-02  4.347826e-02  \n",
      "2008-01-04  2.298943e-09  2.734195e-09  2.713072e-09  2.649196e-09  \n",
      "2008-01-07  6.563562e-09  1.185706e-08  1.188152e-08  1.828926e-09  \n",
      "2008-01-08  1.810031e-09  1.784469e-09  1.815058e-09  9.636420e-10  \n",
      "...                  ...           ...           ...           ...  \n",
      "2016-06-27  3.664947e-01  3.723404e-12  3.306963e-12  6.555688e-12  \n",
      "2016-06-28  4.175143e-01  4.322115e-12  3.804772e-12  8.025451e-12  \n",
      "2016-06-29  3.977898e-01  3.300837e-12  2.894250e-12  7.420123e-12  \n",
      "2016-06-30  3.719689e-01  3.531333e-12  3.096110e-12  6.474278e-12  \n",
      "2016-07-01  3.638449e-01  3.537609e-12  3.101324e-12  6.722804e-12  \n",
      "\n",
      "[2141 rows x 23 columns]\n",
      "            Relative Returns\n",
      "Date                        \n",
      "2008-01-02          1.000000\n",
      "2008-01-03          1.002028\n",
      "2008-01-04          0.971765\n",
      "2008-01-07          0.991957\n",
      "2008-01-08          0.992187\n",
      "...                      ...\n",
      "2016-06-27          0.701720\n",
      "2016-06-28          0.710421\n",
      "2016-06-29          0.714834\n",
      "2016-06-30          0.720732\n",
      "2016-07-01          0.724943\n",
      "\n",
      "[2141 rows x 1 columns]\n"
     ]
    }
   ],
   "source": [
    "print(ftl.all_weights)\n",
    "print(ftl.portfolio_return)"
   ],
   "metadata": {
    "collapsed": false,
    "pycharm": {
     "name": "#%%\n"
    }
   }
  }
 ],
 "metadata": {
  "kernelspec": {
   "display_name": "Python 3",
   "language": "python",
   "name": "python3"
  },
  "language_info": {
   "codemirror_mode": {
    "name": "ipython",
    "version": 2
   },
   "file_extension": ".py",
   "mimetype": "text/x-python",
   "name": "python",
   "nbconvert_exporter": "python",
   "pygments_lexer": "ipython2",
   "version": "2.7.6"
  }
 },
 "nbformat": 4,
 "nbformat_minor": 0
}