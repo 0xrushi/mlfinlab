{
 "cells": [
  {
   "cell_type": "code",
   "execution_count": 3,
   "metadata": {
    "collapsed": true
   },
   "outputs": [
    {
     "name": "stdout",
     "output_type": "stream",
     "text": [
      "\n",
      "\n",
      "Support us on Patreon: https://www.patreon.com/HudsonThames\n",
      "\n",
      "MlFinLab needs you! We need your help for us to keep on maintaining and implementing academic research based on \n",
      "financial machine learning (for open-source). In order for us to continue we need to raise $4000 of monthly donations\n",
      "via Patreon - by December 2020. If we can't reach our goal, we will need to adopt more of a paid for service. We thought\n",
      "that the best and least impactful course of action (should we not reach our goal) is to leave the package as open-source\n",
      "but to make the documentation (ReadTheDocs) a paid for service. This is the ultimate litmus test, if the package is a \n",
      "value add, then we need the community to help us keep it going.\n",
      "\n",
      "Our road map for 2020 is to implement the text book: Machine Learning for Asset Managers by Marcos Lopez de Prado, \n",
      "as well as a few papers from the Journal of Financial Data Science. We are hiring a full time developer for 3 months \n",
      "to help us reach our goals. The money that you, our sponsors, contribute will go directly to paying salaries and other \n",
      "expenses such as journal subscriptions and data. \n",
      "\n",
      "We need your help to continue maintaining and developing this community. Thank you for using our package and we \n",
      "invite you to join our slack channel using the following link:\n",
      "https://join.slack.com/t/mlfinlab/shared_invite/zt-c62u9gpz-VFc13j6da~UVg3DkV7~RjQ\n",
      "\n",
      "\n",
      "\n"
     ]
    },
    {
     "name": "stderr",
     "output_type": "stream",
     "text": [
      "/Users/alexkwon/opt/anaconda3/envs/ht/lib/python3.6/site-packages/sklearn/utils/deprecation.py:144: FutureWarning: The sklearn.ensemble.bagging module is  deprecated in version 0.22 and will be removed in version 0.24. The corresponding classes / functions should instead be imported from sklearn.ensemble. Anything that cannot be imported from sklearn.ensemble is now part of the private API.\n",
      "  warnings.warn(message, FutureWarning)\n",
      "/Users/alexkwon/opt/anaconda3/envs/ht/lib/python3.6/site-packages/sklearn/utils/deprecation.py:144: FutureWarning: The sklearn.ensemble.base module is  deprecated in version 0.22 and will be removed in version 0.24. The corresponding classes / functions should instead be imported from sklearn.ensemble. Anything that cannot be imported from sklearn.ensemble is now part of the private API.\n",
      "  warnings.warn(message, FutureWarning)\n"
     ]
    }
   ],
   "source": [
    "import numpy as np\n",
    "import pandas as pd\n",
    "from mlfinlab.online_portfolio_selection import *\n",
    "#from mlfinlab.online_portfolio_selection.BAH import BAH\n"
   ]
  },
  {
   "cell_type": "code",
   "execution_count": 4,
   "outputs": [],
   "source": [
    "stock_prices = pd.read_csv('../tests/test_data/stock_prices.csv', parse_dates=True, index_col='Date')\n",
    "stock_prices = stock_prices.dropna(axis=1)\n",
    "asset_name = list(stock_prices.columns)"
   ],
   "metadata": {
    "collapsed": false,
    "pycharm": {
     "name": "#%%\n"
    }
   }
  },
  {
   "cell_type": "code",
   "execution_count": 5,
   "outputs": [
    {
     "data": {
      "text/plain": "array([[ 49.2733345 ,  35.38999939, 106.63999939, ...,  77.36000061,\n        101.40000153, 130.63000488],\n       [ 49.71666718,  35.29000092, 107.        , ...,  77.45999908,\n        101.51999664, 130.74000549],\n       [ 48.22333145,  34.59999847, 106.97000122, ...,  77.55000305,\n        101.65000153, 128.16999817],\n       ...,\n       [ 34.02000046,  23.70999908, 116.44999695, ...,  84.19000244,\n        105.94000244, 176.63999939],\n       [ 34.36000061,  24.04999924, 116.66999817, ...,  84.30000305,\n        106.08999634, 179.        ],\n       [ 34.68999863,  24.12000084, 117.05999756, ...,  84.37000275,\n        106.        , 179.30999756]])"
     },
     "execution_count": 5,
     "metadata": {},
     "output_type": "execute_result"
    }
   ],
   "source": [
    "idx = stock_prices.index\n",
    "make_array = np.array(stock_prices)\n",
    "make_array"
   ],
   "metadata": {
    "collapsed": false,
    "pycharm": {
     "name": "#%%\n"
    }
   }
  },
  {
   "cell_type": "code",
   "execution_count": 8,
   "outputs": [
    {
     "data": {
      "text/plain": "array([[ 0.        ,  0.        ,  0.        , ...,  0.        ,\n         0.        ,  0.        ],\n       [ 0.00899742, -0.00282561,  0.00337585, ...,  0.00129264,\n         0.00118338,  0.00084208],\n       [-0.03003692, -0.01955235, -0.00028036, ...,  0.00116194,\n         0.00128058, -0.01965739],\n       ...,\n       [ 0.02531646,  0.01368105, -0.00060075, ..., -0.0003562 ,\n         0.00047222,  0.01622363],\n       [ 0.00999413,  0.01433995,  0.00188923, ...,  0.00130658,\n         0.00141584,  0.01336051],\n       [ 0.00960413,  0.00291067,  0.00334276, ...,  0.00083036,\n        -0.0008483 ,  0.00173183]])"
     },
     "execution_count": 8,
     "metadata": {},
     "output_type": "execute_result"
    }
   ],
   "source": [
    "diff = np.array(stock_prices.pct_change().fillna(0))\n",
    "diff"
   ],
   "metadata": {
    "collapsed": false,
    "pycharm": {
     "name": "#%%\n"
    }
   }
  },
  {
   "cell_type": "code",
   "execution_count": 12,
   "outputs": [
    {
     "data": {
      "text/plain": "array([0.04347826, 0.04347826, 0.04347826, 0.04347826, 0.04347826,\n       0.04347826, 0.04347826, 0.04347826, 0.04347826, 0.04347826,\n       0.04347826, 0.04347826, 0.04347826, 0.04347826, 0.04347826,\n       0.04347826, 0.04347826, 0.04347826, 0.04347826, 0.04347826,\n       0.04347826, 0.04347826, 0.04347826])"
     },
     "execution_count": 12,
     "metadata": {},
     "output_type": "execute_result"
    }
   ],
   "source": [
    "weight = np.ones(23)/23\n",
    "weight"
   ],
   "metadata": {
    "collapsed": false,
    "pycharm": {
     "name": "#%%\n"
    }
   }
  },
  {
   "cell_type": "code",
   "execution_count": 20,
   "outputs": [
    {
     "data": {
      "text/plain": "1.064689810916037"
     },
     "execution_count": 20,
     "metadata": {},
     "output_type": "execute_result"
    }
   ],
   "source": [
    "changed = np.prod(np.dot(diff[1:], weight) + np.ones(2140))\n",
    "changed += np.ones(2140).reshape((2140,1))\n",
    "np.prod(changed)"
   ],
   "metadata": {
    "collapsed": false,
    "pycharm": {
     "name": "#%%\n"
    }
   }
  },
  {
   "cell_type": "code",
   "execution_count": 31,
   "outputs": [
    {
     "data": {
      "text/plain": "(2140, 1)"
     },
     "execution_count": 31,
     "metadata": {},
     "output_type": "execute_result"
    }
   ],
   "source": [
    "np.ones((2140,1)).shape"
   ],
   "metadata": {
    "collapsed": false,
    "pycharm": {
     "name": "#%%\n"
    }
   }
  },
  {
   "cell_type": "code",
   "execution_count": 74,
   "outputs": [
    {
     "name": "stdout",
     "output_type": "stream",
     "text": [
      "status: optimal\n",
      "optimal value 1.0\n",
      "optimal var 1.0 1.570086213240983e-22\n"
     ]
    }
   ],
   "source": [
    "import cvxpy as cp\n",
    "\n",
    "# Create two scalar optimization variables.\n",
    "x = cp.Variable()\n",
    "y = cp.Variable()\n",
    "\n",
    "# Create two constraints.\n",
    "constraints = [x + y == 1,\n",
    "               x - y >= 1]\n",
    "\n",
    "# Form objective.\n",
    "obj = cp.Minimize((x - y)**2)\n",
    "\n",
    "# Form and solve problem.\n",
    "prob = cp.Problem(obj, constraints)\n",
    "prob.solve()  # Returns the optimal value.\n",
    "print(\"status:\", prob.status)\n",
    "print(\"optimal value\", prob.value)\n",
    "print(\"optimal var\", x.value, y.value)"
   ],
   "metadata": {
    "collapsed": false,
    "pycharm": {
     "name": "#%%\n"
    }
   }
  },
  {
   "cell_type": "code",
   "execution_count": 54,
   "outputs": [
    {
     "ename": "DCPError",
     "evalue": "Problem does not follow DCP rules. Specifically:\nThe objective is not DCP. Its following subexpressions are not:\nProd([[ 0.00899742 -0.00282561  0.00337585 ...  0.00129264  0.00118338\n   0.00084208]\n [-0.03003692 -0.01955235 -0.00028036 ...  0.00116194  0.00128058\n  -0.01965739]\n [ 0.00732708  0.00086713 -0.00018701 ...  0.00025785  0.00068863\n  -0.00085824]\n ...\n [ 0.02531646  0.01368105 -0.00060075 ... -0.0003562   0.00047222\n   0.01622363]\n [ 0.00999413  0.01433995  0.00188923 ...  0.00130658  0.00141584\n   0.01336051]\n [ 0.00960413  0.00291067  0.00334276 ...  0.00083036 -0.0008483\n   0.00173183]] * var1969555 + [1. 1. 1. ... 1. 1. 1.], None, False)",
     "output_type": "error",
     "traceback": [
      "\u001B[0;31m---------------------------------------------------------------------------\u001B[0m",
      "\u001B[0;31mDCPError\u001B[0m                                  Traceback (most recent call last)",
      "\u001B[0;32m<ipython-input-54-d11bdb2d6d63>\u001B[0m in \u001B[0;36m<module>\u001B[0;34m\u001B[0m\n\u001B[1;32m     15\u001B[0m     \u001B[0mconstraints\u001B[0m\u001B[0;34m=\u001B[0m\u001B[0mallocation_constraints\u001B[0m\u001B[0;34m\u001B[0m\u001B[0;34m\u001B[0m\u001B[0m\n\u001B[1;32m     16\u001B[0m )\n\u001B[0;32m---> 17\u001B[0;31m \u001B[0mproblem\u001B[0m\u001B[0;34m.\u001B[0m\u001B[0msolve\u001B[0m\u001B[0;34m(\u001B[0m\u001B[0;34m)\u001B[0m\u001B[0;34m\u001B[0m\u001B[0;34m\u001B[0m\u001B[0m\n\u001B[0m\u001B[1;32m     18\u001B[0m \u001B[0mproblem\u001B[0m\u001B[0;34m.\u001B[0m\u001B[0mvalue\u001B[0m\u001B[0;34m\u001B[0m\u001B[0;34m\u001B[0m\u001B[0m\n\u001B[1;32m     19\u001B[0m \u001B[0;34m\u001B[0m\u001B[0m\n",
      "\u001B[0;32m~/opt/anaconda3/envs/ht/lib/python3.6/site-packages/cvxpy/problems/problem.py\u001B[0m in \u001B[0;36msolve\u001B[0;34m(self, *args, **kwargs)\u001B[0m\n\u001B[1;32m    287\u001B[0m         \u001B[0;32melse\u001B[0m\u001B[0;34m:\u001B[0m\u001B[0;34m\u001B[0m\u001B[0;34m\u001B[0m\u001B[0m\n\u001B[1;32m    288\u001B[0m             \u001B[0msolve_func\u001B[0m \u001B[0;34m=\u001B[0m \u001B[0mProblem\u001B[0m\u001B[0;34m.\u001B[0m\u001B[0m_solve\u001B[0m\u001B[0;34m\u001B[0m\u001B[0;34m\u001B[0m\u001B[0m\n\u001B[0;32m--> 289\u001B[0;31m         \u001B[0;32mreturn\u001B[0m \u001B[0msolve_func\u001B[0m\u001B[0;34m(\u001B[0m\u001B[0mself\u001B[0m\u001B[0;34m,\u001B[0m \u001B[0;34m*\u001B[0m\u001B[0margs\u001B[0m\u001B[0;34m,\u001B[0m \u001B[0;34m**\u001B[0m\u001B[0mkwargs\u001B[0m\u001B[0;34m)\u001B[0m\u001B[0;34m\u001B[0m\u001B[0;34m\u001B[0m\u001B[0m\n\u001B[0m\u001B[1;32m    290\u001B[0m \u001B[0;34m\u001B[0m\u001B[0m\n\u001B[1;32m    291\u001B[0m     \u001B[0;34m@\u001B[0m\u001B[0mclassmethod\u001B[0m\u001B[0;34m\u001B[0m\u001B[0;34m\u001B[0m\u001B[0m\n",
      "\u001B[0;32m~/opt/anaconda3/envs/ht/lib/python3.6/site-packages/cvxpy/problems/problem.py\u001B[0m in \u001B[0;36m_solve\u001B[0;34m(self, solver, warm_start, verbose, parallel, gp, qcp, **kwargs)\u001B[0m\n\u001B[1;32m    565\u001B[0m                     solver, warm_start, verbose, **kwargs)\n\u001B[1;32m    566\u001B[0m \u001B[0;34m\u001B[0m\u001B[0m\n\u001B[0;32m--> 567\u001B[0;31m         \u001B[0mself\u001B[0m\u001B[0;34m.\u001B[0m\u001B[0m_construct_chains\u001B[0m\u001B[0;34m(\u001B[0m\u001B[0msolver\u001B[0m\u001B[0;34m=\u001B[0m\u001B[0msolver\u001B[0m\u001B[0;34m,\u001B[0m \u001B[0mgp\u001B[0m\u001B[0;34m=\u001B[0m\u001B[0mgp\u001B[0m\u001B[0;34m)\u001B[0m\u001B[0;34m\u001B[0m\u001B[0;34m\u001B[0m\u001B[0m\n\u001B[0m\u001B[1;32m    568\u001B[0m         data, solving_inverse_data = self._solving_chain.apply(\n\u001B[1;32m    569\u001B[0m             self._intermediate_problem)\n",
      "\u001B[0;32m~/opt/anaconda3/envs/ht/lib/python3.6/site-packages/cvxpy/problems/problem.py\u001B[0m in \u001B[0;36m_construct_chains\u001B[0;34m(self, solver, gp)\u001B[0m\n\u001B[1;32m    508\u001B[0m \u001B[0;34m\u001B[0m\u001B[0m\n\u001B[1;32m    509\u001B[0m             \u001B[0;32mexcept\u001B[0m \u001B[0mException\u001B[0m \u001B[0;32mas\u001B[0m \u001B[0me\u001B[0m\u001B[0;34m:\u001B[0m\u001B[0;34m\u001B[0m\u001B[0;34m\u001B[0m\u001B[0m\n\u001B[0;32m--> 510\u001B[0;31m                 \u001B[0;32mraise\u001B[0m \u001B[0me\u001B[0m\u001B[0;34m\u001B[0m\u001B[0;34m\u001B[0m\u001B[0m\n\u001B[0m\u001B[1;32m    511\u001B[0m \u001B[0;34m\u001B[0m\u001B[0m\n\u001B[1;32m    512\u001B[0m     def _solve(self,\n",
      "\u001B[0;32m~/opt/anaconda3/envs/ht/lib/python3.6/site-packages/cvxpy/problems/problem.py\u001B[0m in \u001B[0;36m_construct_chains\u001B[0;34m(self, solver, gp)\u001B[0m\n\u001B[1;32m    497\u001B[0m \u001B[0;34m\u001B[0m\u001B[0m\n\u001B[1;32m    498\u001B[0m                 \u001B[0mself\u001B[0m\u001B[0;34m.\u001B[0m\u001B[0m_intermediate_chain\u001B[0m \u001B[0;34m=\u001B[0m\u001B[0;31m \u001B[0m\u001B[0;31m\\\u001B[0m\u001B[0;34m\u001B[0m\u001B[0;34m\u001B[0m\u001B[0m\n\u001B[0;32m--> 499\u001B[0;31m                     \u001B[0mconstruct_intermediate_chain\u001B[0m\u001B[0;34m(\u001B[0m\u001B[0mself\u001B[0m\u001B[0;34m,\u001B[0m \u001B[0mcandidate_solvers\u001B[0m\u001B[0;34m,\u001B[0m \u001B[0mgp\u001B[0m\u001B[0;34m=\u001B[0m\u001B[0mgp\u001B[0m\u001B[0;34m)\u001B[0m\u001B[0;34m\u001B[0m\u001B[0;34m\u001B[0m\u001B[0m\n\u001B[0m\u001B[1;32m    500\u001B[0m                 \u001B[0mself\u001B[0m\u001B[0;34m.\u001B[0m\u001B[0m_intermediate_problem\u001B[0m\u001B[0;34m,\u001B[0m \u001B[0mself\u001B[0m\u001B[0;34m.\u001B[0m\u001B[0m_intermediate_inverse_data\u001B[0m \u001B[0;34m=\u001B[0m\u001B[0;31m \u001B[0m\u001B[0;31m\\\u001B[0m\u001B[0;34m\u001B[0m\u001B[0;34m\u001B[0m\u001B[0m\n\u001B[1;32m    501\u001B[0m                     \u001B[0mself\u001B[0m\u001B[0;34m.\u001B[0m\u001B[0m_intermediate_chain\u001B[0m\u001B[0;34m.\u001B[0m\u001B[0mapply\u001B[0m\u001B[0;34m(\u001B[0m\u001B[0mself\u001B[0m\u001B[0;34m)\u001B[0m\u001B[0;34m\u001B[0m\u001B[0;34m\u001B[0m\u001B[0m\n",
      "\u001B[0;32m~/opt/anaconda3/envs/ht/lib/python3.6/site-packages/cvxpy/reductions/solvers/intermediate_chain.py\u001B[0m in \u001B[0;36mconstruct_intermediate_chain\u001B[0;34m(problem, candidates, gp)\u001B[0m\n\u001B[1;32m     68\u001B[0m             append += (\"\\nHowever, the problem does follow DQCP rules. \"\n\u001B[1;32m     69\u001B[0m                        \"Consider calling solve() with `qcp=True`.\")\n\u001B[0;32m---> 70\u001B[0;31m         \u001B[0;32mraise\u001B[0m \u001B[0mDCPError\u001B[0m\u001B[0;34m(\u001B[0m\u001B[0;34m\"Problem does not follow DCP rules. Specifically:\\n\"\u001B[0m \u001B[0;34m+\u001B[0m \u001B[0mappend\u001B[0m\u001B[0;34m)\u001B[0m\u001B[0;34m\u001B[0m\u001B[0;34m\u001B[0m\u001B[0m\n\u001B[0m\u001B[1;32m     71\u001B[0m \u001B[0;34m\u001B[0m\u001B[0m\n\u001B[1;32m     72\u001B[0m     \u001B[0;32melif\u001B[0m \u001B[0mgp\u001B[0m \u001B[0;32mand\u001B[0m \u001B[0;32mnot\u001B[0m \u001B[0mproblem\u001B[0m\u001B[0;34m.\u001B[0m\u001B[0mis_dgp\u001B[0m\u001B[0;34m(\u001B[0m\u001B[0;34m)\u001B[0m\u001B[0;34m:\u001B[0m\u001B[0;34m\u001B[0m\u001B[0;34m\u001B[0m\u001B[0m\n",
      "\u001B[0;31mDCPError\u001B[0m: Problem does not follow DCP rules. Specifically:\nThe objective is not DCP. Its following subexpressions are not:\nProd([[ 0.00899742 -0.00282561  0.00337585 ...  0.00129264  0.00118338\n   0.00084208]\n [-0.03003692 -0.01955235 -0.00028036 ...  0.00116194  0.00128058\n  -0.01965739]\n [ 0.00732708  0.00086713 -0.00018701 ...  0.00025785  0.00068863\n  -0.00085824]\n ...\n [ 0.02531646  0.01368105 -0.00060075 ... -0.0003562   0.00047222\n   0.01622363]\n [ 0.00999413  0.01433995  0.00188923 ...  0.00130658  0.00141584\n   0.01336051]\n [ 0.00960413  0.00291067  0.00334276 ...  0.00083036 -0.0008483\n   0.00173183]] * var1969555 + [1. 1. 1. ... 1. 1. 1.], None, False)"
     ]
    }
   ],
   "source": [
    "weights = cp.Variable(23)\n",
    "weights.value = np.ones(23)/23\n",
    "cost = cp.prod(diff[1:]@weights + np.ones(2140))\n",
    "\n",
    "# Optimisation objective and constraints\n",
    "allocation_objective = cp.Maximize(cost)\n",
    "allocation_constraints = [\n",
    "    cp.sum(weights) == 1,\n",
    "    weights <= 1,\n",
    "    weights >= 0\n",
    "]\n",
    "# Define and solve the problem\n",
    "problem = cp.Problem(\n",
    "    objective=allocation_objective,\n",
    "    constraints=allocation_constraints\n",
    ")\n",
    "problem.solve()\n",
    "problem.value"
   ],
   "metadata": {
    "collapsed": false,
    "pycharm": {
     "name": "#%%\n"
    }
   }
  },
  {
   "cell_type": "code",
   "execution_count": 77,
   "outputs": [
    {
     "data": {
      "text/plain": "0.5717584766291327"
     },
     "execution_count": 77,
     "metadata": {},
     "output_type": "execute_result"
    }
   ],
   "source": [
    "weights = cp.Variable(23)\n",
    "# weights.value = np.ones(23)/23\n",
    "cost = cp.sum(cp.log(diff[1:] * weights + np.ones(2140)))\n",
    "\n",
    "# Optimisation objective and constraints\n",
    "allocation_objective = cp.Maximize(cost)\n",
    "allocation_constraints = [\n",
    "    cp.sum(weights) == 1,\n",
    "    weights <= 1,\n",
    "    weights >= 0\n",
    "]\n",
    "# Define and solve the problem\n",
    "problem = cp.Problem(\n",
    "    objective=allocation_objective,\n",
    "    constraints=allocation_constraints\n",
    ")\n",
    "problem.solve()\n",
    "problem.value\n"
   ],
   "metadata": {
    "collapsed": false,
    "pycharm": {
     "name": "#%%\n"
    }
   }
  },
  {
   "cell_type": "code",
   "execution_count": 78,
   "outputs": [
    {
     "data": {
      "text/plain": "array([6.31650159e-13, 4.57183901e-13, 1.47385062e-12, 7.73907665e-13,\n       4.00243529e-13, 3.20573807e-12, 2.93296431e-13, 2.97422542e-13,\n       2.46891557e-12, 1.25401503e-12, 1.54409957e-12, 1.78067518e-12,\n       6.25271915e-01, 2.80894621e-12, 6.60013407e-13, 6.24704514e-13,\n       2.86895944e-13, 6.17257019e-13, 7.14709998e-12, 3.74728085e-01,\n       1.38310567e-12, 1.18043427e-12, 4.01980089e-12])"
     },
     "execution_count": 78,
     "metadata": {},
     "output_type": "execute_result"
    }
   ],
   "source": [
    "weights.value"
   ],
   "metadata": {
    "collapsed": false,
    "pycharm": {
     "name": "#%%\n"
    }
   }
  },
  {
   "cell_type": "code",
   "execution_count": 79,
   "outputs": [
    {
     "data": {
      "text/plain": "1.7713792432740847"
     },
     "execution_count": 79,
     "metadata": {},
     "output_type": "execute_result"
    }
   ],
   "source": [
    "np.exp(problem.value)"
   ],
   "metadata": {
    "collapsed": false,
    "pycharm": {
     "name": "#%%\n"
    }
   }
  },
  {
   "cell_type": "code",
   "execution_count": null,
   "outputs": [],
   "source": [
    "\n"
   ],
   "metadata": {
    "collapsed": false,
    "pycharm": {
     "name": "#%%\n"
    }
   }
  }
 ],
 "metadata": {
  "kernelspec": {
   "display_name": "Python 3",
   "language": "python",
   "name": "python3"
  },
  "language_info": {
   "codemirror_mode": {
    "name": "ipython",
    "version": 2
   },
   "file_extension": ".py",
   "mimetype": "text/x-python",
   "name": "python",
   "nbconvert_exporter": "python",
   "pygments_lexer": "ipython2",
   "version": "2.7.6"
  }
 },
 "nbformat": 4,
 "nbformat_minor": 0
}