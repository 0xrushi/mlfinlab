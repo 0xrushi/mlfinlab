{
 "cells": [
  {
   "cell_type": "markdown",
   "source": [
    "## Notebook to test for Random Things"
   ],
   "metadata": {
    "collapsed": false,
    "pycharm": {
     "name": "#%% md\n"
    }
   }
  },
  {
   "cell_type": "code",
   "execution_count": 2,
   "metadata": {
    "collapsed": true
   },
   "outputs": [
    {
     "name": "stderr",
     "output_type": "stream",
     "text": [
      "/Users/alexkwon/opt/anaconda3/envs/ht/lib/python3.6/site-packages/sklearn/utils/deprecation.py:144: FutureWarning: The sklearn.ensemble.bagging module is  deprecated in version 0.22 and will be removed in version 0.24. The corresponding classes / functions should instead be imported from sklearn.ensemble. Anything that cannot be imported from sklearn.ensemble is now part of the private API.\n",
      "  warnings.warn(message, FutureWarning)\n",
      "/Users/alexkwon/opt/anaconda3/envs/ht/lib/python3.6/site-packages/sklearn/utils/deprecation.py:144: FutureWarning: The sklearn.ensemble.base module is  deprecated in version 0.22 and will be removed in version 0.24. The corresponding classes / functions should instead be imported from sklearn.ensemble. Anything that cannot be imported from sklearn.ensemble is now part of the private API.\n",
      "  warnings.warn(message, FutureWarning)\n"
     ]
    },
    {
     "name": "stdout",
     "output_type": "stream",
     "text": [
      "\n",
      "\n",
      "Support us on Patreon: https://www.patreon.com/HudsonThames\n",
      "\n",
      "MlFinLab needs you! We need your help for us to keep on maintaining and implementing academic research based on \n",
      "financial machine learning (for open-source). In order for us to continue we need to raise $4000 of monthly donations\n",
      "via Patreon - by December 2020. If we can't reach our goal, we will need to adopt more of a paid for service. We thought\n",
      "that the best and least impactful course of action (should we not reach our goal) is to leave the package as open-source\n",
      "but to make the documentation (ReadTheDocs) a paid for service. This is the ultimate litmus test, if the package is a \n",
      "value add, then we need the community to help us keep it going.\n",
      "\n",
      "Our road map for 2020 is to implement the text book: Machine Learning for Asset Managers by Marcos Lopez de Prado, \n",
      "as well as a few papers from the Journal of Financial Data Science. We are hiring a full time developer for 3 months \n",
      "to help us reach our goals. The money that you, our sponsors, contribute will go directly to paying salaries and other \n",
      "expenses such as journal subscriptions and data. \n",
      "\n",
      "We need your help to continue maintaining and developing this community. Thank you for using our package and we \n",
      "invite you to join our slack channel using the following link:\n",
      "https://join.slack.com/t/mlfinlab/shared_invite/zt-c62u9gpz-VFc13j6da~UVg3DkV7~RjQ\n",
      "\n",
      "\n",
      "\n"
     ]
    }
   ],
   "source": [
    "import numpy as np\n",
    "import pandas as pd\n",
    "from mlfinlab.online_portfolio_selection import *\n",
    "#from mlfinlab.online_portfolio_selection.BAH import BAH\n"
   ]
  },
  {
   "cell_type": "code",
   "execution_count": 3,
   "outputs": [],
   "source": [
    "stock_prices = pd.read_csv('../tests/test_data/stock_prices.csv', parse_dates=True, index_col='Date')\n",
    "stock_prices = stock_prices.dropna(axis=1)\n",
    "asset_name = list(stock_prices.columns)"
   ],
   "metadata": {
    "collapsed": false,
    "pycharm": {
     "name": "#%%\n"
    }
   }
  },
  {
   "cell_type": "code",
   "execution_count": 63,
   "outputs": [],
   "source": [
    "random_asset = np.array([[1,1],[2,1],[1,2],[4,1]])"
   ],
   "metadata": {
    "collapsed": false,
    "pycharm": {
     "name": "#%%\n"
    }
   }
  },
  {
   "cell_type": "code",
   "execution_count": 64,
   "outputs": [
    {
     "data": {
      "text/plain": "array([[1, 1],\n       [2, 1],\n       [1, 2],\n       [4, 1]])"
     },
     "execution_count": 64,
     "metadata": {},
     "output_type": "execute_result"
    }
   ],
   "source": [
    "random_asset\n",
    "\n"
   ],
   "metadata": {
    "collapsed": false,
    "pycharm": {
     "name": "#%%\n"
    }
   }
  },
  {
   "cell_type": "code",
   "execution_count": 66,
   "outputs": [
    {
     "data": {
      "text/plain": "array([[1, 1],\n       [2, 1],\n       [1, 2]])"
     },
     "execution_count": 66,
     "metadata": {},
     "output_type": "execute_result"
    }
   ],
   "source": [
    "random_asset[:-1]"
   ],
   "metadata": {
    "collapsed": false,
    "pycharm": {
     "name": "#%%\n"
    }
   }
  },
  {
   "cell_type": "code",
   "execution_count": null,
   "outputs": [],
   "source": [
    "\n"
   ],
   "metadata": {
    "collapsed": false,
    "pycharm": {
     "name": "#%%\n"
    }
   }
  }
 ],
 "metadata": {
  "kernelspec": {
   "display_name": "Python 3",
   "language": "python",
   "name": "python3"
  },
  "language_info": {
   "codemirror_mode": {
    "name": "ipython",
    "version": 2
   },
   "file_extension": ".py",
   "mimetype": "text/x-python",
   "name": "python",
   "nbconvert_exporter": "python",
   "pygments_lexer": "ipython2",
   "version": "2.7.6"
  }
 },
 "nbformat": 4,
 "nbformat_minor": 0
}