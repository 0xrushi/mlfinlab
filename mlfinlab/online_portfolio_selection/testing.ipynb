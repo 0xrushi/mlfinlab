{
 "cells": [
  {
   "cell_type": "markdown",
   "source": [
    "## Notebook to test for Random Things"
   ],
   "metadata": {
    "collapsed": false,
    "pycharm": {
     "name": "#%% md\n"
    }
   }
  },
  {
   "cell_type": "code",
   "execution_count": 7,
   "metadata": {
    "collapsed": true
   },
   "outputs": [
    {
     "name": "stderr",
     "output_type": "stream",
     "text": [
      "/Users/alexkwon/opt/anaconda3/envs/ht/lib/python3.6/site-packages/sklearn/utils/deprecation.py:144: FutureWarning: The sklearn.ensemble.bagging module is  deprecated in version 0.22 and will be removed in version 0.24. The corresponding classes / functions should instead be imported from sklearn.ensemble. Anything that cannot be imported from sklearn.ensemble is now part of the private API.\n",
      "  warnings.warn(message, FutureWarning)\n",
      "/Users/alexkwon/opt/anaconda3/envs/ht/lib/python3.6/site-packages/sklearn/utils/deprecation.py:144: FutureWarning: The sklearn.ensemble.base module is  deprecated in version 0.22 and will be removed in version 0.24. The corresponding classes / functions should instead be imported from sklearn.ensemble. Anything that cannot be imported from sklearn.ensemble is now part of the private API.\n",
      "  warnings.warn(message, FutureWarning)\n"
     ]
    },
    {
     "name": "stdout",
     "output_type": "stream",
     "text": [
      "\n",
      "\n",
      "Support us on Patreon: https://www.patreon.com/HudsonThames\n",
      "\n",
      "MlFinLab needs you! We need your help for us to keep on maintaining and implementing academic research based on \n",
      "financial machine learning (for open-source). In order for us to continue we need to raise $4000 of monthly donations\n",
      "via Patreon - by December 2020. If we can't reach our goal, we will need to adopt more of a paid for service. We thought\n",
      "that the best and least impactful course of action (should we not reach our goal) is to leave the package as open-source\n",
      "but to make the documentation (ReadTheDocs) a paid for service. This is the ultimate litmus test, if the package is a \n",
      "value add, then we need the community to help us keep it going.\n",
      "\n",
      "Our road map for 2020 is to implement the text book: Machine Learning for Asset Managers by Marcos Lopez de Prado, \n",
      "as well as a few papers from the Journal of Financial Data Science. We are hiring a full time developer for 3 months \n",
      "to help us reach our goals. The money that you, our sponsors, contribute will go directly to paying salaries and other \n",
      "expenses such as journal subscriptions and data. \n",
      "\n",
      "We need your help to continue maintaining and developing this community. Thank you for using our package and we \n",
      "invite you to join our slack channel using the following link:\n",
      "https://join.slack.com/t/mlfinlab/shared_invite/zt-c62u9gpz-VFc13j6da~UVg3DkV7~RjQ\n",
      "\n",
      "\n",
      "\n"
     ]
    }
   ],
   "source": [
    "import numpy as np\n",
    "import pandas as pd\n",
    "from mlfinlab.online_portfolio_selection import *\n",
    "#from mlfinlab.online_portfolio_selection.BAH import BAH\n"
   ]
  },
  {
   "cell_type": "code",
   "execution_count": 8,
   "outputs": [],
   "source": [
    "stock_prices = pd.read_csv('../tests/test_data/stock_prices.csv', parse_dates=True, index_col='Date')\n",
    "stock_prices = stock_prices.dropna(axis=1)\n",
    "asset_name = list(stock_prices.columns)"
   ],
   "metadata": {
    "collapsed": false,
    "pycharm": {
     "name": "#%%\n"
    }
   }
  },
  {
   "cell_type": "code",
   "execution_count": 13,
   "outputs": [
    {
     "data": {
      "text/plain": "                 EEM       EWG       TIP       EWJ       EFA       IEF  \\\nDate                                                                     \n2008-01-02  1.000000  1.000000  1.000000  1.000000  1.000000  1.000000   \n2008-01-03  1.008997  0.997174  1.003376  1.003779  1.001662  1.002054   \n2008-01-04  0.969963  0.980448  0.999720  0.974398  0.977281  1.002619   \n2008-01-07  1.007327  1.000867  0.999813  0.993818  1.001045  1.001817   \n2008-01-08  0.992246  0.993070  1.000748  0.997667  0.994390  1.002154   \n...              ...       ...       ...       ...       ...       ...   \n2016-06-27  0.987136  0.975734  1.002937  0.994709  0.980805  1.008645   \n2016-06-28  1.029476  1.020506  1.003445  1.015071  1.026221  0.999823   \n2016-06-29  1.025316  1.013681  0.999399  1.013100  1.018330  0.995935   \n2016-06-30  1.009994  1.014340  1.001889  0.991379  1.014909  1.002218   \n2016-07-01  1.009604  1.002911  1.003343  0.998261  1.000000  1.001239   \n\n                 EWQ       EWU       XLB       XLE  ...       XLU       EPP  \\\nDate                                                ...                       \n2008-01-02  1.000000  1.000000  1.000000  1.000000  ...  1.000000  1.000000   \n2008-01-03  0.999473  1.006281  1.018160  1.011824  ...  0.998574  1.002345   \n2008-01-04  0.975475  0.976280  0.969798  0.963451  ...  1.007614  0.971861   \n2008-01-07  1.007299  1.002984  0.986268  0.996129  ...  1.020779  1.011368   \n2008-01-08  0.992217  0.985975  0.984585  0.982513  ...  1.000231  0.983140   \n...              ...       ...       ...       ...  ...       ...       ...   \n2016-06-27  0.976712  0.960192  0.966319  0.967954  ...  1.012299  0.979095   \n2016-06-28  1.030388  1.042888  1.008545  1.027847  ...  1.003723  1.025676   \n2016-06-29  1.017695  1.026045  1.016945  1.018964  ...  1.002733  1.015547   \n2016-06-30  1.019617  1.026720  1.016005  1.007976  ...  1.021612  1.017125   \n2016-07-01  1.000874  1.000000  1.000432  1.005276  ...  1.000191  1.002806   \n\n                 FXI       VGK       VPL       SPY       TLT       BND  \\\nDate                                                                     \n2008-01-02  1.000000  1.000000  1.000000  1.000000  1.000000  1.000000   \n2008-01-03  0.993153  1.003623  1.002823  0.999517  0.998623  1.001293   \n2008-01-04  0.980875  0.975668  0.974370  0.975494  1.000212  1.001162   \n2008-01-07  1.028971  0.999589  0.998176  0.999151  1.004349  1.000258   \n2008-01-08  0.985922  0.992461  0.995583  0.983852  0.998838  1.001031   \n...              ...       ...       ...       ...       ...       ...   \n2016-06-27  0.996614  0.973921  0.990431  0.982090  1.024967  1.005018   \n2016-06-28  1.024089  1.032779  1.020624  1.018036  1.002084  1.001189   \n2016-06-29  1.018094  1.020340  1.013472  1.017028  0.992327  0.999644   \n2016-06-30  1.013626  1.022125  1.001078  1.013646  1.003685  1.001307   \n2016-07-01  1.007598  1.001286  1.001077  1.002100  1.012023  1.000830   \n\n                 CSJ       DIA  \nDate                            \n2008-01-02  1.000000  1.000000  \n2008-01-03  1.001183  1.000842  \n2008-01-04  1.001281  0.980343  \n2008-01-07  1.000689  0.999142  \n2008-01-08  1.000197  0.982742  \n...              ...       ...  \n2016-06-27  0.999339  0.986062  \n2016-06-28  1.000945  1.015304  \n2016-06-29  1.000472  1.016224  \n2016-06-30  1.001416  1.013361  \n2016-07-01  0.999152  1.001732  \n\n[2141 rows x 23 columns]",
      "text/html": "<div>\n<style scoped>\n    .dataframe tbody tr th:only-of-type {\n        vertical-align: middle;\n    }\n\n    .dataframe tbody tr th {\n        vertical-align: top;\n    }\n\n    .dataframe thead th {\n        text-align: right;\n    }\n</style>\n<table border=\"1\" class=\"dataframe\">\n  <thead>\n    <tr style=\"text-align: right;\">\n      <th></th>\n      <th>EEM</th>\n      <th>EWG</th>\n      <th>TIP</th>\n      <th>EWJ</th>\n      <th>EFA</th>\n      <th>IEF</th>\n      <th>EWQ</th>\n      <th>EWU</th>\n      <th>XLB</th>\n      <th>XLE</th>\n      <th>...</th>\n      <th>XLU</th>\n      <th>EPP</th>\n      <th>FXI</th>\n      <th>VGK</th>\n      <th>VPL</th>\n      <th>SPY</th>\n      <th>TLT</th>\n      <th>BND</th>\n      <th>CSJ</th>\n      <th>DIA</th>\n    </tr>\n    <tr>\n      <th>Date</th>\n      <th></th>\n      <th></th>\n      <th></th>\n      <th></th>\n      <th></th>\n      <th></th>\n      <th></th>\n      <th></th>\n      <th></th>\n      <th></th>\n      <th></th>\n      <th></th>\n      <th></th>\n      <th></th>\n      <th></th>\n      <th></th>\n      <th></th>\n      <th></th>\n      <th></th>\n      <th></th>\n      <th></th>\n    </tr>\n  </thead>\n  <tbody>\n    <tr>\n      <th>2008-01-02</th>\n      <td>1.000000</td>\n      <td>1.000000</td>\n      <td>1.000000</td>\n      <td>1.000000</td>\n      <td>1.000000</td>\n      <td>1.000000</td>\n      <td>1.000000</td>\n      <td>1.000000</td>\n      <td>1.000000</td>\n      <td>1.000000</td>\n      <td>...</td>\n      <td>1.000000</td>\n      <td>1.000000</td>\n      <td>1.000000</td>\n      <td>1.000000</td>\n      <td>1.000000</td>\n      <td>1.000000</td>\n      <td>1.000000</td>\n      <td>1.000000</td>\n      <td>1.000000</td>\n      <td>1.000000</td>\n    </tr>\n    <tr>\n      <th>2008-01-03</th>\n      <td>1.008997</td>\n      <td>0.997174</td>\n      <td>1.003376</td>\n      <td>1.003779</td>\n      <td>1.001662</td>\n      <td>1.002054</td>\n      <td>0.999473</td>\n      <td>1.006281</td>\n      <td>1.018160</td>\n      <td>1.011824</td>\n      <td>...</td>\n      <td>0.998574</td>\n      <td>1.002345</td>\n      <td>0.993153</td>\n      <td>1.003623</td>\n      <td>1.002823</td>\n      <td>0.999517</td>\n      <td>0.998623</td>\n      <td>1.001293</td>\n      <td>1.001183</td>\n      <td>1.000842</td>\n    </tr>\n    <tr>\n      <th>2008-01-04</th>\n      <td>0.969963</td>\n      <td>0.980448</td>\n      <td>0.999720</td>\n      <td>0.974398</td>\n      <td>0.977281</td>\n      <td>1.002619</td>\n      <td>0.975475</td>\n      <td>0.976280</td>\n      <td>0.969798</td>\n      <td>0.963451</td>\n      <td>...</td>\n      <td>1.007614</td>\n      <td>0.971861</td>\n      <td>0.980875</td>\n      <td>0.975668</td>\n      <td>0.974370</td>\n      <td>0.975494</td>\n      <td>1.000212</td>\n      <td>1.001162</td>\n      <td>1.001281</td>\n      <td>0.980343</td>\n    </tr>\n    <tr>\n      <th>2008-01-07</th>\n      <td>1.007327</td>\n      <td>1.000867</td>\n      <td>0.999813</td>\n      <td>0.993818</td>\n      <td>1.001045</td>\n      <td>1.001817</td>\n      <td>1.007299</td>\n      <td>1.002984</td>\n      <td>0.986268</td>\n      <td>0.996129</td>\n      <td>...</td>\n      <td>1.020779</td>\n      <td>1.011368</td>\n      <td>1.028971</td>\n      <td>0.999589</td>\n      <td>0.998176</td>\n      <td>0.999151</td>\n      <td>1.004349</td>\n      <td>1.000258</td>\n      <td>1.000689</td>\n      <td>0.999142</td>\n    </tr>\n    <tr>\n      <th>2008-01-08</th>\n      <td>0.992246</td>\n      <td>0.993070</td>\n      <td>1.000748</td>\n      <td>0.997667</td>\n      <td>0.994390</td>\n      <td>1.002154</td>\n      <td>0.992217</td>\n      <td>0.985975</td>\n      <td>0.984585</td>\n      <td>0.982513</td>\n      <td>...</td>\n      <td>1.000231</td>\n      <td>0.983140</td>\n      <td>0.985922</td>\n      <td>0.992461</td>\n      <td>0.995583</td>\n      <td>0.983852</td>\n      <td>0.998838</td>\n      <td>1.001031</td>\n      <td>1.000197</td>\n      <td>0.982742</td>\n    </tr>\n    <tr>\n      <th>...</th>\n      <td>...</td>\n      <td>...</td>\n      <td>...</td>\n      <td>...</td>\n      <td>...</td>\n      <td>...</td>\n      <td>...</td>\n      <td>...</td>\n      <td>...</td>\n      <td>...</td>\n      <td>...</td>\n      <td>...</td>\n      <td>...</td>\n      <td>...</td>\n      <td>...</td>\n      <td>...</td>\n      <td>...</td>\n      <td>...</td>\n      <td>...</td>\n      <td>...</td>\n      <td>...</td>\n    </tr>\n    <tr>\n      <th>2016-06-27</th>\n      <td>0.987136</td>\n      <td>0.975734</td>\n      <td>1.002937</td>\n      <td>0.994709</td>\n      <td>0.980805</td>\n      <td>1.008645</td>\n      <td>0.976712</td>\n      <td>0.960192</td>\n      <td>0.966319</td>\n      <td>0.967954</td>\n      <td>...</td>\n      <td>1.012299</td>\n      <td>0.979095</td>\n      <td>0.996614</td>\n      <td>0.973921</td>\n      <td>0.990431</td>\n      <td>0.982090</td>\n      <td>1.024967</td>\n      <td>1.005018</td>\n      <td>0.999339</td>\n      <td>0.986062</td>\n    </tr>\n    <tr>\n      <th>2016-06-28</th>\n      <td>1.029476</td>\n      <td>1.020506</td>\n      <td>1.003445</td>\n      <td>1.015071</td>\n      <td>1.026221</td>\n      <td>0.999823</td>\n      <td>1.030388</td>\n      <td>1.042888</td>\n      <td>1.008545</td>\n      <td>1.027847</td>\n      <td>...</td>\n      <td>1.003723</td>\n      <td>1.025676</td>\n      <td>1.024089</td>\n      <td>1.032779</td>\n      <td>1.020624</td>\n      <td>1.018036</td>\n      <td>1.002084</td>\n      <td>1.001189</td>\n      <td>1.000945</td>\n      <td>1.015304</td>\n    </tr>\n    <tr>\n      <th>2016-06-29</th>\n      <td>1.025316</td>\n      <td>1.013681</td>\n      <td>0.999399</td>\n      <td>1.013100</td>\n      <td>1.018330</td>\n      <td>0.995935</td>\n      <td>1.017695</td>\n      <td>1.026045</td>\n      <td>1.016945</td>\n      <td>1.018964</td>\n      <td>...</td>\n      <td>1.002733</td>\n      <td>1.015547</td>\n      <td>1.018094</td>\n      <td>1.020340</td>\n      <td>1.013472</td>\n      <td>1.017028</td>\n      <td>0.992327</td>\n      <td>0.999644</td>\n      <td>1.000472</td>\n      <td>1.016224</td>\n    </tr>\n    <tr>\n      <th>2016-06-30</th>\n      <td>1.009994</td>\n      <td>1.014340</td>\n      <td>1.001889</td>\n      <td>0.991379</td>\n      <td>1.014909</td>\n      <td>1.002218</td>\n      <td>1.019617</td>\n      <td>1.026720</td>\n      <td>1.016005</td>\n      <td>1.007976</td>\n      <td>...</td>\n      <td>1.021612</td>\n      <td>1.017125</td>\n      <td>1.013626</td>\n      <td>1.022125</td>\n      <td>1.001078</td>\n      <td>1.013646</td>\n      <td>1.003685</td>\n      <td>1.001307</td>\n      <td>1.001416</td>\n      <td>1.013361</td>\n    </tr>\n    <tr>\n      <th>2016-07-01</th>\n      <td>1.009604</td>\n      <td>1.002911</td>\n      <td>1.003343</td>\n      <td>0.998261</td>\n      <td>1.000000</td>\n      <td>1.001239</td>\n      <td>1.000874</td>\n      <td>1.000000</td>\n      <td>1.000432</td>\n      <td>1.005276</td>\n      <td>...</td>\n      <td>1.000191</td>\n      <td>1.002806</td>\n      <td>1.007598</td>\n      <td>1.001286</td>\n      <td>1.001077</td>\n      <td>1.002100</td>\n      <td>1.012023</td>\n      <td>1.000830</td>\n      <td>0.999152</td>\n      <td>1.001732</td>\n    </tr>\n  </tbody>\n</table>\n<p>2141 rows × 23 columns</p>\n</div>"
     },
     "execution_count": 13,
     "metadata": {},
     "output_type": "execute_result"
    }
   ],
   "source": [
    "stock_prices.pct_change().fillna(0) + 1"
   ],
   "metadata": {
    "collapsed": false,
    "pycharm": {
     "name": "#%%\n"
    }
   }
  }
 ],
 "metadata": {
  "kernelspec": {
   "display_name": "Python 3",
   "language": "python",
   "name": "python3"
  },
  "language_info": {
   "codemirror_mode": {
    "name": "ipython",
    "version": 2
   },
   "file_extension": ".py",
   "mimetype": "text/x-python",
   "name": "python",
   "nbconvert_exporter": "python",
   "pygments_lexer": "ipython2",
   "version": "2.7.6"
  }
 },
 "nbformat": 4,
 "nbformat_minor": 0
}