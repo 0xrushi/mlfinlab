{
 "cells": [
  {
   "cell_type": "code",
   "execution_count": 1,
   "metadata": {
    "collapsed": true,
    "pycharm": {
     "is_executing": false
    }
   },
   "outputs": [
    {
     "name": "stderr",
     "text": [
      "/Users/alexkwon/opt/anaconda3/envs/ht/lib/python3.6/site-packages/sklearn/utils/deprecation.py:144: FutureWarning: The sklearn.ensemble.bagging module is  deprecated in version 0.22 and will be removed in version 0.24. The corresponding classes / functions should instead be imported from sklearn.ensemble. Anything that cannot be imported from sklearn.ensemble is now part of the private API.\n",
      "  warnings.warn(message, FutureWarning)\n",
      "/Users/alexkwon/opt/anaconda3/envs/ht/lib/python3.6/site-packages/sklearn/utils/deprecation.py:144: FutureWarning: The sklearn.ensemble.base module is  deprecated in version 0.22 and will be removed in version 0.24. The corresponding classes / functions should instead be imported from sklearn.ensemble. Anything that cannot be imported from sklearn.ensemble is now part of the private API.\n",
      "  warnings.warn(message, FutureWarning)\n"
     ],
     "output_type": "stream"
    },
    {
     "name": "stdout",
     "text": [
      "\n",
      "\n",
      "Support us on Patreon: https://www.patreon.com/HudsonThames\n",
      "\n",
      "MlFinLab needs you! We need your help for us to keep on maintaining and implementing academic research based on \n",
      "financial machine learning (for open-source). In order for us to continue we need to raise $4000 of monthly donations\n",
      "via Patreon - by December 2020. If we can't reach our goal, we will need to adopt more of a paid for service. We thought\n",
      "that the best and least impactful course of action (should we not reach our goal) is to leave the package as open-source\n",
      "but to make the documentation (ReadTheDocs) a paid for service. This is the ultimate litmus test, if the package is a \n",
      "value add, then we need the community to help us keep it going.\n",
      "\n",
      "Our road map for 2020 is to implement the text book: Machine Learning for Asset Managers by Marcos Lopez de Prado, \n",
      "as well as a few papers from the Journal of Financial Data Science. We are hiring a full time developer for 3 months \n",
      "to help us reach our goals. The money that you, our sponsors, contribute will go directly to paying salaries and other \n",
      "expenses such as journal subscriptions and data. \n",
      "\n",
      "We need your help to continue maintaining and developing this community. Thank you for using our package and we \n",
      "invite you to join our slack channel using the following link:\n",
      "https://join.slack.com/t/mlfinlab/shared_invite/zt-c62u9gpz-VFc13j6da~UVg3DkV7~RjQ\n",
      "\n",
      "\n",
      "\n"
     ],
     "output_type": "stream"
    }
   ],
   "source": [
    "import numpy as np\n",
    "import pandas as pd\n",
    "from mlfinlab.online_portfolio_selection import *\n",
    "#from mlfinlab.online_portfolio_selection.BAH import BAH\n"
   ]
  },
  {
   "cell_type": "code",
   "execution_count": 2,
   "outputs": [],
   "source": [
    "stock_prices = pd.read_csv('../tests/test_data/stock_prices.csv', parse_dates=True, index_col='Date')\n",
    "stock_prices = stock_prices.dropna(axis=1)\n",
    "asset_name = list(stock_prices.columns)"
   ],
   "metadata": {
    "collapsed": false,
    "pycharm": {
     "name": "#%%\n",
     "is_executing": false
    }
   }
  },
  {
   "cell_type": "code",
   "execution_count": 3,
   "outputs": [
    {
     "data": {
      "text/plain": "array([[ 49.2733345 ,  35.38999939, 106.63999939, ...,  77.36000061,\n        101.40000153, 130.63000488],\n       [ 49.71666718,  35.29000092, 107.        , ...,  77.45999908,\n        101.51999664, 130.74000549],\n       [ 48.22333145,  34.59999847, 106.97000122, ...,  77.55000305,\n        101.65000153, 128.16999817],\n       ...,\n       [ 34.02000046,  23.70999908, 116.44999695, ...,  84.19000244,\n        105.94000244, 176.63999939],\n       [ 34.36000061,  24.04999924, 116.66999817, ...,  84.30000305,\n        106.08999634, 179.        ],\n       [ 34.68999863,  24.12000084, 117.05999756, ...,  84.37000275,\n        106.        , 179.30999756]])"
     },
     "metadata": {},
     "output_type": "execute_result",
     "execution_count": 3
    }
   ],
   "source": [
    "idx = stock_prices.index\n",
    "make_array = np.array(stock_prices)\n",
    "make_array"
   ],
   "metadata": {
    "collapsed": false,
    "pycharm": {
     "name": "#%%\n",
     "is_executing": false
    }
   }
  },
  {
   "cell_type": "code",
   "execution_count": 4,
   "outputs": [],
   "source": [
    "temp = pd.DataFrame(make_array, index=idx)"
   ],
   "metadata": {
    "collapsed": false,
    "pycharm": {
     "name": "#%%\n",
     "is_executing": false
    }
   }
  },
  {
   "cell_type": "code",
   "execution_count": 5,
   "outputs": [],
   "source": [
    "temp = pd.DataFrame(0, index=np.arange(1), columns=asset_name)"
   ],
   "metadata": {
    "collapsed": false,
    "pycharm": {
     "name": "#%%\n",
     "is_executing": false
    }
   }
  },
  {
   "cell_type": "code",
   "execution_count": 6,
   "outputs": [
    {
     "data": {
      "text/plain": "                 EEM       EWG       TIP       EWJ       EFA       IEF  \\\nDate                                                                     \n2008-01-02       NaN       NaN       NaN       NaN       NaN       NaN   \n2008-01-03  0.008997 -0.002826  0.003376  0.003779  0.001662  0.002054   \n2008-01-04 -0.030037 -0.019552 -0.000280 -0.025602 -0.022719  0.002619   \n2008-01-07  0.007327  0.000867 -0.000187 -0.006182  0.001045  0.001817   \n2008-01-08 -0.007754 -0.006930  0.000748 -0.002333 -0.005610  0.002154   \n...              ...       ...       ...       ...       ...       ...   \n2016-06-27 -0.012864 -0.024266  0.002937 -0.005291 -0.019195  0.008645   \n2016-06-28  0.029476  0.020506  0.003445  0.015071  0.026221 -0.000177   \n2016-06-29  0.025316  0.013681 -0.000601  0.013100  0.018330 -0.004065   \n2016-06-30  0.009994  0.014340  0.001889 -0.008621  0.014909  0.002218   \n2016-07-01  0.009604  0.002911  0.003343 -0.001739  0.000000  0.001239   \n\n                 EWQ       EWU       XLB       XLE  ...       XLU       EPP  \\\nDate                                                ...                       \n2008-01-02       NaN       NaN       NaN       NaN  ...       NaN       NaN   \n2008-01-03 -0.000527  0.006281  0.018160  0.011824  ... -0.001426  0.002345   \n2008-01-04 -0.024525 -0.023720 -0.030202 -0.036549  ...  0.007614 -0.028139   \n2008-01-07  0.007299  0.002984 -0.013732 -0.003871  ...  0.020779  0.011368   \n2008-01-08 -0.007783 -0.014025 -0.015415 -0.017487  ...  0.000231 -0.016860   \n...              ...       ...       ...       ...  ...       ...       ...   \n2016-06-27 -0.023288 -0.039808 -0.033681 -0.032046  ...  0.012299 -0.020905   \n2016-06-28  0.030388  0.042888  0.008545  0.027847  ...  0.003723  0.025676   \n2016-06-29  0.017695  0.026045  0.016945  0.018964  ...  0.002733  0.015547   \n2016-06-30  0.019617  0.026720  0.016005  0.007976  ...  0.021612  0.017125   \n2016-07-01  0.000874  0.000000  0.000432  0.005276  ...  0.000191  0.002806   \n\n                 FXI       VGK       VPL       SPY       TLT       BND  \\\nDate                                                                     \n2008-01-02       NaN       NaN       NaN       NaN       NaN       NaN   \n2008-01-03 -0.006847  0.003623  0.002823 -0.000483 -0.001377  0.001293   \n2008-01-04 -0.019125 -0.024332 -0.025630 -0.024506  0.000212  0.001162   \n2008-01-07  0.028971 -0.000411 -0.001824 -0.000849  0.004349  0.000258   \n2008-01-08 -0.014078 -0.007539 -0.004417 -0.016148 -0.001162  0.001031   \n...              ...       ...       ...       ...       ...       ...   \n2016-06-27 -0.003386 -0.026079 -0.009569 -0.017910  0.024967  0.005018   \n2016-06-28  0.024089  0.032779  0.020624  0.018036  0.002084  0.001189   \n2016-06-29  0.018094  0.020340  0.013472  0.017028 -0.007673 -0.000356   \n2016-06-30  0.013626  0.022125  0.001078  0.013646  0.003685  0.001307   \n2016-07-01  0.007598  0.001286  0.001077  0.002100  0.012023  0.000830   \n\n                 CSJ       DIA  \nDate                            \n2008-01-02       NaN       NaN  \n2008-01-03  0.001183  0.000842  \n2008-01-04  0.001281 -0.019657  \n2008-01-07  0.000689 -0.000858  \n2008-01-08  0.000197 -0.017258  \n...              ...       ...  \n2016-06-27 -0.000661 -0.013938  \n2016-06-28  0.000945  0.015304  \n2016-06-29  0.000472  0.016224  \n2016-06-30  0.001416  0.013361  \n2016-07-01 -0.000848  0.001732  \n\n[2141 rows x 23 columns]",
      "text/html": "<div>\n<style scoped>\n    .dataframe tbody tr th:only-of-type {\n        vertical-align: middle;\n    }\n\n    .dataframe tbody tr th {\n        vertical-align: top;\n    }\n\n    .dataframe thead th {\n        text-align: right;\n    }\n</style>\n<table border=\"1\" class=\"dataframe\">\n  <thead>\n    <tr style=\"text-align: right;\">\n      <th></th>\n      <th>EEM</th>\n      <th>EWG</th>\n      <th>TIP</th>\n      <th>EWJ</th>\n      <th>EFA</th>\n      <th>IEF</th>\n      <th>EWQ</th>\n      <th>EWU</th>\n      <th>XLB</th>\n      <th>XLE</th>\n      <th>...</th>\n      <th>XLU</th>\n      <th>EPP</th>\n      <th>FXI</th>\n      <th>VGK</th>\n      <th>VPL</th>\n      <th>SPY</th>\n      <th>TLT</th>\n      <th>BND</th>\n      <th>CSJ</th>\n      <th>DIA</th>\n    </tr>\n    <tr>\n      <th>Date</th>\n      <th></th>\n      <th></th>\n      <th></th>\n      <th></th>\n      <th></th>\n      <th></th>\n      <th></th>\n      <th></th>\n      <th></th>\n      <th></th>\n      <th></th>\n      <th></th>\n      <th></th>\n      <th></th>\n      <th></th>\n      <th></th>\n      <th></th>\n      <th></th>\n      <th></th>\n      <th></th>\n      <th></th>\n    </tr>\n  </thead>\n  <tbody>\n    <tr>\n      <th>2008-01-02</th>\n      <td>NaN</td>\n      <td>NaN</td>\n      <td>NaN</td>\n      <td>NaN</td>\n      <td>NaN</td>\n      <td>NaN</td>\n      <td>NaN</td>\n      <td>NaN</td>\n      <td>NaN</td>\n      <td>NaN</td>\n      <td>...</td>\n      <td>NaN</td>\n      <td>NaN</td>\n      <td>NaN</td>\n      <td>NaN</td>\n      <td>NaN</td>\n      <td>NaN</td>\n      <td>NaN</td>\n      <td>NaN</td>\n      <td>NaN</td>\n      <td>NaN</td>\n    </tr>\n    <tr>\n      <th>2008-01-03</th>\n      <td>0.008997</td>\n      <td>-0.002826</td>\n      <td>0.003376</td>\n      <td>0.003779</td>\n      <td>0.001662</td>\n      <td>0.002054</td>\n      <td>-0.000527</td>\n      <td>0.006281</td>\n      <td>0.018160</td>\n      <td>0.011824</td>\n      <td>...</td>\n      <td>-0.001426</td>\n      <td>0.002345</td>\n      <td>-0.006847</td>\n      <td>0.003623</td>\n      <td>0.002823</td>\n      <td>-0.000483</td>\n      <td>-0.001377</td>\n      <td>0.001293</td>\n      <td>0.001183</td>\n      <td>0.000842</td>\n    </tr>\n    <tr>\n      <th>2008-01-04</th>\n      <td>-0.030037</td>\n      <td>-0.019552</td>\n      <td>-0.000280</td>\n      <td>-0.025602</td>\n      <td>-0.022719</td>\n      <td>0.002619</td>\n      <td>-0.024525</td>\n      <td>-0.023720</td>\n      <td>-0.030202</td>\n      <td>-0.036549</td>\n      <td>...</td>\n      <td>0.007614</td>\n      <td>-0.028139</td>\n      <td>-0.019125</td>\n      <td>-0.024332</td>\n      <td>-0.025630</td>\n      <td>-0.024506</td>\n      <td>0.000212</td>\n      <td>0.001162</td>\n      <td>0.001281</td>\n      <td>-0.019657</td>\n    </tr>\n    <tr>\n      <th>2008-01-07</th>\n      <td>0.007327</td>\n      <td>0.000867</td>\n      <td>-0.000187</td>\n      <td>-0.006182</td>\n      <td>0.001045</td>\n      <td>0.001817</td>\n      <td>0.007299</td>\n      <td>0.002984</td>\n      <td>-0.013732</td>\n      <td>-0.003871</td>\n      <td>...</td>\n      <td>0.020779</td>\n      <td>0.011368</td>\n      <td>0.028971</td>\n      <td>-0.000411</td>\n      <td>-0.001824</td>\n      <td>-0.000849</td>\n      <td>0.004349</td>\n      <td>0.000258</td>\n      <td>0.000689</td>\n      <td>-0.000858</td>\n    </tr>\n    <tr>\n      <th>2008-01-08</th>\n      <td>-0.007754</td>\n      <td>-0.006930</td>\n      <td>0.000748</td>\n      <td>-0.002333</td>\n      <td>-0.005610</td>\n      <td>0.002154</td>\n      <td>-0.007783</td>\n      <td>-0.014025</td>\n      <td>-0.015415</td>\n      <td>-0.017487</td>\n      <td>...</td>\n      <td>0.000231</td>\n      <td>-0.016860</td>\n      <td>-0.014078</td>\n      <td>-0.007539</td>\n      <td>-0.004417</td>\n      <td>-0.016148</td>\n      <td>-0.001162</td>\n      <td>0.001031</td>\n      <td>0.000197</td>\n      <td>-0.017258</td>\n    </tr>\n    <tr>\n      <th>...</th>\n      <td>...</td>\n      <td>...</td>\n      <td>...</td>\n      <td>...</td>\n      <td>...</td>\n      <td>...</td>\n      <td>...</td>\n      <td>...</td>\n      <td>...</td>\n      <td>...</td>\n      <td>...</td>\n      <td>...</td>\n      <td>...</td>\n      <td>...</td>\n      <td>...</td>\n      <td>...</td>\n      <td>...</td>\n      <td>...</td>\n      <td>...</td>\n      <td>...</td>\n      <td>...</td>\n    </tr>\n    <tr>\n      <th>2016-06-27</th>\n      <td>-0.012864</td>\n      <td>-0.024266</td>\n      <td>0.002937</td>\n      <td>-0.005291</td>\n      <td>-0.019195</td>\n      <td>0.008645</td>\n      <td>-0.023288</td>\n      <td>-0.039808</td>\n      <td>-0.033681</td>\n      <td>-0.032046</td>\n      <td>...</td>\n      <td>0.012299</td>\n      <td>-0.020905</td>\n      <td>-0.003386</td>\n      <td>-0.026079</td>\n      <td>-0.009569</td>\n      <td>-0.017910</td>\n      <td>0.024967</td>\n      <td>0.005018</td>\n      <td>-0.000661</td>\n      <td>-0.013938</td>\n    </tr>\n    <tr>\n      <th>2016-06-28</th>\n      <td>0.029476</td>\n      <td>0.020506</td>\n      <td>0.003445</td>\n      <td>0.015071</td>\n      <td>0.026221</td>\n      <td>-0.000177</td>\n      <td>0.030388</td>\n      <td>0.042888</td>\n      <td>0.008545</td>\n      <td>0.027847</td>\n      <td>...</td>\n      <td>0.003723</td>\n      <td>0.025676</td>\n      <td>0.024089</td>\n      <td>0.032779</td>\n      <td>0.020624</td>\n      <td>0.018036</td>\n      <td>0.002084</td>\n      <td>0.001189</td>\n      <td>0.000945</td>\n      <td>0.015304</td>\n    </tr>\n    <tr>\n      <th>2016-06-29</th>\n      <td>0.025316</td>\n      <td>0.013681</td>\n      <td>-0.000601</td>\n      <td>0.013100</td>\n      <td>0.018330</td>\n      <td>-0.004065</td>\n      <td>0.017695</td>\n      <td>0.026045</td>\n      <td>0.016945</td>\n      <td>0.018964</td>\n      <td>...</td>\n      <td>0.002733</td>\n      <td>0.015547</td>\n      <td>0.018094</td>\n      <td>0.020340</td>\n      <td>0.013472</td>\n      <td>0.017028</td>\n      <td>-0.007673</td>\n      <td>-0.000356</td>\n      <td>0.000472</td>\n      <td>0.016224</td>\n    </tr>\n    <tr>\n      <th>2016-06-30</th>\n      <td>0.009994</td>\n      <td>0.014340</td>\n      <td>0.001889</td>\n      <td>-0.008621</td>\n      <td>0.014909</td>\n      <td>0.002218</td>\n      <td>0.019617</td>\n      <td>0.026720</td>\n      <td>0.016005</td>\n      <td>0.007976</td>\n      <td>...</td>\n      <td>0.021612</td>\n      <td>0.017125</td>\n      <td>0.013626</td>\n      <td>0.022125</td>\n      <td>0.001078</td>\n      <td>0.013646</td>\n      <td>0.003685</td>\n      <td>0.001307</td>\n      <td>0.001416</td>\n      <td>0.013361</td>\n    </tr>\n    <tr>\n      <th>2016-07-01</th>\n      <td>0.009604</td>\n      <td>0.002911</td>\n      <td>0.003343</td>\n      <td>-0.001739</td>\n      <td>0.000000</td>\n      <td>0.001239</td>\n      <td>0.000874</td>\n      <td>0.000000</td>\n      <td>0.000432</td>\n      <td>0.005276</td>\n      <td>...</td>\n      <td>0.000191</td>\n      <td>0.002806</td>\n      <td>0.007598</td>\n      <td>0.001286</td>\n      <td>0.001077</td>\n      <td>0.002100</td>\n      <td>0.012023</td>\n      <td>0.000830</td>\n      <td>-0.000848</td>\n      <td>0.001732</td>\n    </tr>\n  </tbody>\n</table>\n<p>2141 rows × 23 columns</p>\n</div>"
     },
     "metadata": {},
     "output_type": "execute_result",
     "execution_count": 6
    }
   ],
   "source": [
    "rp = stock_prices.pct_change()\n",
    "rp"
   ],
   "metadata": {
    "collapsed": false,
    "pycharm": {
     "name": "#%%\n",
     "is_executing": false
    }
   }
  },
  {
   "cell_type": "code",
   "execution_count": 7,
   "outputs": [],
   "source": [
    "name = stock_prices.columns.values"
   ],
   "metadata": {
    "collapsed": false,
    "pycharm": {
     "name": "#%%\n",
     "is_executing": false
    }
   }
  },
  {
   "cell_type": "code",
   "execution_count": 8,
   "outputs": [
    {
     "data": {
      "text/plain": "                 EEM       EWG       TIP       EWJ       EFA       IEF  \\\nDate                                                                     \n2008-01-02  1.000000  1.000000  1.000000  1.000000  1.000000  1.000000   \n2008-01-03  1.008997  0.997174  1.003376  1.003779  1.001662  1.002054   \n2008-01-04  0.969963  0.980448  0.999720  0.974398  0.977281  1.002619   \n2008-01-07  1.007327  1.000867  0.999813  0.993818  1.001045  1.001817   \n2008-01-08  0.992246  0.993070  1.000748  0.997667  0.994390  1.002154   \n...              ...       ...       ...       ...       ...       ...   \n2016-06-27  0.987136  0.975734  1.002937  0.994709  0.980805  1.008645   \n2016-06-28  1.029476  1.020506  1.003445  1.015071  1.026221  0.999823   \n2016-06-29  1.025316  1.013681  0.999399  1.013100  1.018330  0.995935   \n2016-06-30  1.009994  1.014340  1.001889  0.991379  1.014909  1.002218   \n2016-07-01  1.009604  1.002911  1.003343  0.998261  1.000000  1.001239   \n\n                 EWQ       EWU       XLB       XLE  ...       XLU       EPP  \\\nDate                                                ...                       \n2008-01-02  1.000000  1.000000  1.000000  1.000000  ...  1.000000  1.000000   \n2008-01-03  0.999473  1.006281  1.018160  1.011824  ...  0.998574  1.002345   \n2008-01-04  0.975475  0.976280  0.969798  0.963451  ...  1.007614  0.971861   \n2008-01-07  1.007299  1.002984  0.986268  0.996129  ...  1.020779  1.011368   \n2008-01-08  0.992217  0.985975  0.984585  0.982513  ...  1.000231  0.983140   \n...              ...       ...       ...       ...  ...       ...       ...   \n2016-06-27  0.976712  0.960192  0.966319  0.967954  ...  1.012299  0.979095   \n2016-06-28  1.030388  1.042888  1.008545  1.027847  ...  1.003723  1.025676   \n2016-06-29  1.017695  1.026045  1.016945  1.018964  ...  1.002733  1.015547   \n2016-06-30  1.019617  1.026720  1.016005  1.007976  ...  1.021612  1.017125   \n2016-07-01  1.000874  1.000000  1.000432  1.005276  ...  1.000191  1.002806   \n\n                 FXI       VGK       VPL       SPY       TLT       BND  \\\nDate                                                                     \n2008-01-02  1.000000  1.000000  1.000000  1.000000  1.000000  1.000000   \n2008-01-03  0.993153  1.003623  1.002823  0.999517  0.998623  1.001293   \n2008-01-04  0.980875  0.975668  0.974370  0.975494  1.000212  1.001162   \n2008-01-07  1.028971  0.999589  0.998176  0.999151  1.004349  1.000258   \n2008-01-08  0.985922  0.992461  0.995583  0.983852  0.998838  1.001031   \n...              ...       ...       ...       ...       ...       ...   \n2016-06-27  0.996614  0.973921  0.990431  0.982090  1.024967  1.005018   \n2016-06-28  1.024089  1.032779  1.020624  1.018036  1.002084  1.001189   \n2016-06-29  1.018094  1.020340  1.013472  1.017028  0.992327  0.999644   \n2016-06-30  1.013626  1.022125  1.001078  1.013646  1.003685  1.001307   \n2016-07-01  1.007598  1.001286  1.001077  1.002100  1.012023  1.000830   \n\n                 CSJ       DIA  \nDate                            \n2008-01-02  1.000000  1.000000  \n2008-01-03  1.001183  1.000842  \n2008-01-04  1.001281  0.980343  \n2008-01-07  1.000689  0.999142  \n2008-01-08  1.000197  0.982742  \n...              ...       ...  \n2016-06-27  0.999339  0.986062  \n2016-06-28  1.000945  1.015304  \n2016-06-29  1.000472  1.016224  \n2016-06-30  1.001416  1.013361  \n2016-07-01  0.999152  1.001732  \n\n[2141 rows x 23 columns]",
      "text/html": "<div>\n<style scoped>\n    .dataframe tbody tr th:only-of-type {\n        vertical-align: middle;\n    }\n\n    .dataframe tbody tr th {\n        vertical-align: top;\n    }\n\n    .dataframe thead th {\n        text-align: right;\n    }\n</style>\n<table border=\"1\" class=\"dataframe\">\n  <thead>\n    <tr style=\"text-align: right;\">\n      <th></th>\n      <th>EEM</th>\n      <th>EWG</th>\n      <th>TIP</th>\n      <th>EWJ</th>\n      <th>EFA</th>\n      <th>IEF</th>\n      <th>EWQ</th>\n      <th>EWU</th>\n      <th>XLB</th>\n      <th>XLE</th>\n      <th>...</th>\n      <th>XLU</th>\n      <th>EPP</th>\n      <th>FXI</th>\n      <th>VGK</th>\n      <th>VPL</th>\n      <th>SPY</th>\n      <th>TLT</th>\n      <th>BND</th>\n      <th>CSJ</th>\n      <th>DIA</th>\n    </tr>\n    <tr>\n      <th>Date</th>\n      <th></th>\n      <th></th>\n      <th></th>\n      <th></th>\n      <th></th>\n      <th></th>\n      <th></th>\n      <th></th>\n      <th></th>\n      <th></th>\n      <th></th>\n      <th></th>\n      <th></th>\n      <th></th>\n      <th></th>\n      <th></th>\n      <th></th>\n      <th></th>\n      <th></th>\n      <th></th>\n      <th></th>\n    </tr>\n  </thead>\n  <tbody>\n    <tr>\n      <th>2008-01-02</th>\n      <td>1.000000</td>\n      <td>1.000000</td>\n      <td>1.000000</td>\n      <td>1.000000</td>\n      <td>1.000000</td>\n      <td>1.000000</td>\n      <td>1.000000</td>\n      <td>1.000000</td>\n      <td>1.000000</td>\n      <td>1.000000</td>\n      <td>...</td>\n      <td>1.000000</td>\n      <td>1.000000</td>\n      <td>1.000000</td>\n      <td>1.000000</td>\n      <td>1.000000</td>\n      <td>1.000000</td>\n      <td>1.000000</td>\n      <td>1.000000</td>\n      <td>1.000000</td>\n      <td>1.000000</td>\n    </tr>\n    <tr>\n      <th>2008-01-03</th>\n      <td>1.008997</td>\n      <td>0.997174</td>\n      <td>1.003376</td>\n      <td>1.003779</td>\n      <td>1.001662</td>\n      <td>1.002054</td>\n      <td>0.999473</td>\n      <td>1.006281</td>\n      <td>1.018160</td>\n      <td>1.011824</td>\n      <td>...</td>\n      <td>0.998574</td>\n      <td>1.002345</td>\n      <td>0.993153</td>\n      <td>1.003623</td>\n      <td>1.002823</td>\n      <td>0.999517</td>\n      <td>0.998623</td>\n      <td>1.001293</td>\n      <td>1.001183</td>\n      <td>1.000842</td>\n    </tr>\n    <tr>\n      <th>2008-01-04</th>\n      <td>0.969963</td>\n      <td>0.980448</td>\n      <td>0.999720</td>\n      <td>0.974398</td>\n      <td>0.977281</td>\n      <td>1.002619</td>\n      <td>0.975475</td>\n      <td>0.976280</td>\n      <td>0.969798</td>\n      <td>0.963451</td>\n      <td>...</td>\n      <td>1.007614</td>\n      <td>0.971861</td>\n      <td>0.980875</td>\n      <td>0.975668</td>\n      <td>0.974370</td>\n      <td>0.975494</td>\n      <td>1.000212</td>\n      <td>1.001162</td>\n      <td>1.001281</td>\n      <td>0.980343</td>\n    </tr>\n    <tr>\n      <th>2008-01-07</th>\n      <td>1.007327</td>\n      <td>1.000867</td>\n      <td>0.999813</td>\n      <td>0.993818</td>\n      <td>1.001045</td>\n      <td>1.001817</td>\n      <td>1.007299</td>\n      <td>1.002984</td>\n      <td>0.986268</td>\n      <td>0.996129</td>\n      <td>...</td>\n      <td>1.020779</td>\n      <td>1.011368</td>\n      <td>1.028971</td>\n      <td>0.999589</td>\n      <td>0.998176</td>\n      <td>0.999151</td>\n      <td>1.004349</td>\n      <td>1.000258</td>\n      <td>1.000689</td>\n      <td>0.999142</td>\n    </tr>\n    <tr>\n      <th>2008-01-08</th>\n      <td>0.992246</td>\n      <td>0.993070</td>\n      <td>1.000748</td>\n      <td>0.997667</td>\n      <td>0.994390</td>\n      <td>1.002154</td>\n      <td>0.992217</td>\n      <td>0.985975</td>\n      <td>0.984585</td>\n      <td>0.982513</td>\n      <td>...</td>\n      <td>1.000231</td>\n      <td>0.983140</td>\n      <td>0.985922</td>\n      <td>0.992461</td>\n      <td>0.995583</td>\n      <td>0.983852</td>\n      <td>0.998838</td>\n      <td>1.001031</td>\n      <td>1.000197</td>\n      <td>0.982742</td>\n    </tr>\n    <tr>\n      <th>...</th>\n      <td>...</td>\n      <td>...</td>\n      <td>...</td>\n      <td>...</td>\n      <td>...</td>\n      <td>...</td>\n      <td>...</td>\n      <td>...</td>\n      <td>...</td>\n      <td>...</td>\n      <td>...</td>\n      <td>...</td>\n      <td>...</td>\n      <td>...</td>\n      <td>...</td>\n      <td>...</td>\n      <td>...</td>\n      <td>...</td>\n      <td>...</td>\n      <td>...</td>\n      <td>...</td>\n    </tr>\n    <tr>\n      <th>2016-06-27</th>\n      <td>0.987136</td>\n      <td>0.975734</td>\n      <td>1.002937</td>\n      <td>0.994709</td>\n      <td>0.980805</td>\n      <td>1.008645</td>\n      <td>0.976712</td>\n      <td>0.960192</td>\n      <td>0.966319</td>\n      <td>0.967954</td>\n      <td>...</td>\n      <td>1.012299</td>\n      <td>0.979095</td>\n      <td>0.996614</td>\n      <td>0.973921</td>\n      <td>0.990431</td>\n      <td>0.982090</td>\n      <td>1.024967</td>\n      <td>1.005018</td>\n      <td>0.999339</td>\n      <td>0.986062</td>\n    </tr>\n    <tr>\n      <th>2016-06-28</th>\n      <td>1.029476</td>\n      <td>1.020506</td>\n      <td>1.003445</td>\n      <td>1.015071</td>\n      <td>1.026221</td>\n      <td>0.999823</td>\n      <td>1.030388</td>\n      <td>1.042888</td>\n      <td>1.008545</td>\n      <td>1.027847</td>\n      <td>...</td>\n      <td>1.003723</td>\n      <td>1.025676</td>\n      <td>1.024089</td>\n      <td>1.032779</td>\n      <td>1.020624</td>\n      <td>1.018036</td>\n      <td>1.002084</td>\n      <td>1.001189</td>\n      <td>1.000945</td>\n      <td>1.015304</td>\n    </tr>\n    <tr>\n      <th>2016-06-29</th>\n      <td>1.025316</td>\n      <td>1.013681</td>\n      <td>0.999399</td>\n      <td>1.013100</td>\n      <td>1.018330</td>\n      <td>0.995935</td>\n      <td>1.017695</td>\n      <td>1.026045</td>\n      <td>1.016945</td>\n      <td>1.018964</td>\n      <td>...</td>\n      <td>1.002733</td>\n      <td>1.015547</td>\n      <td>1.018094</td>\n      <td>1.020340</td>\n      <td>1.013472</td>\n      <td>1.017028</td>\n      <td>0.992327</td>\n      <td>0.999644</td>\n      <td>1.000472</td>\n      <td>1.016224</td>\n    </tr>\n    <tr>\n      <th>2016-06-30</th>\n      <td>1.009994</td>\n      <td>1.014340</td>\n      <td>1.001889</td>\n      <td>0.991379</td>\n      <td>1.014909</td>\n      <td>1.002218</td>\n      <td>1.019617</td>\n      <td>1.026720</td>\n      <td>1.016005</td>\n      <td>1.007976</td>\n      <td>...</td>\n      <td>1.021612</td>\n      <td>1.017125</td>\n      <td>1.013626</td>\n      <td>1.022125</td>\n      <td>1.001078</td>\n      <td>1.013646</td>\n      <td>1.003685</td>\n      <td>1.001307</td>\n      <td>1.001416</td>\n      <td>1.013361</td>\n    </tr>\n    <tr>\n      <th>2016-07-01</th>\n      <td>1.009604</td>\n      <td>1.002911</td>\n      <td>1.003343</td>\n      <td>0.998261</td>\n      <td>1.000000</td>\n      <td>1.001239</td>\n      <td>1.000874</td>\n      <td>1.000000</td>\n      <td>1.000432</td>\n      <td>1.005276</td>\n      <td>...</td>\n      <td>1.000191</td>\n      <td>1.002806</td>\n      <td>1.007598</td>\n      <td>1.001286</td>\n      <td>1.001077</td>\n      <td>1.002100</td>\n      <td>1.012023</td>\n      <td>1.000830</td>\n      <td>0.999152</td>\n      <td>1.001732</td>\n    </tr>\n  </tbody>\n</table>\n<p>2141 rows × 23 columns</p>\n</div>"
     },
     "metadata": {},
     "output_type": "execute_result",
     "execution_count": 8
    }
   ],
   "source": [
    "diff = stock_prices.pct_change()\n",
    "diff = diff.fillna(0)\n",
    "diff += 1\n",
    "diff"
   ],
   "metadata": {
    "collapsed": false,
    "pycharm": {
     "name": "#%%\n",
     "is_executing": false
    }
   }
  },
  {
   "cell_type": "code",
   "execution_count": 11,
   "outputs": [
    {
     "data": {
      "text/plain": "8"
     },
     "metadata": {},
     "output_type": "execute_result",
     "execution_count": 11
    }
   ],
   "source": [
    "n_diff = np.array(diff)\n",
    "np.argmax(n_diff[1])"
   ],
   "metadata": {
    "collapsed": false,
    "pycharm": {
     "name": "#%%\n",
     "is_executing": false
    }
   }
  },
  {
   "cell_type": "code",
   "execution_count": 52,
   "outputs": [
    {
     "data": {
      "text/plain": "array([0.70403189, 0.6815485 , 1.09771191, 0.86772486, 0.71362821,\n       1.29053977, 0.60332104, 0.64363486, 1.1225182 , 0.86289306,\n       0.80183358, 1.15997361, 1.66424195, 1.24685197, 0.76817363,\n       0.61589762, 0.62686169, 0.82885163, 1.44842344, 1.48940466,\n       1.09061533, 1.04536488, 1.37265552])"
     },
     "metadata": {},
     "output_type": "execute_result",
     "execution_count": 52
    }
   ],
   "source": [
    "what = n_diff.cumprod(axis = 0)\n",
    "what[-1]\n",
    "# np.argmax(what[-1])\n"
   ],
   "metadata": {
    "collapsed": false,
    "pycharm": {
     "name": "#%%\n",
     "is_executing": false
    }
   }
  },
  {
   "cell_type": "code",
   "execution_count": 29,
   "outputs": [
    {
     "data": {
      "text/plain": "array([1.        , 1.00153136, 0.9624808 , ..., 1.64241961, 1.66041338,\n       1.66424195])"
     },
     "metadata": {},
     "output_type": "execute_result",
     "execution_count": 29
    }
   ],
   "source": [
    "n_diff.cumprod(axis=0)[:,12]"
   ],
   "metadata": {
    "collapsed": false,
    "pycharm": {
     "name": "#%%\n",
     "is_executing": false
    }
   }
  },
  {
   "cell_type": "code",
   "execution_count": 45,
   "outputs": [
    {
     "data": {
      "text/plain": "EEM    0.704032\nEWG    0.681548\nTIP    1.097712\nEWJ    0.867725\nEFA    0.713628\nIEF    1.290540\nEWQ    0.603321\nEWU    0.643635\nXLB    1.122518\nXLE    0.862893\nXLF    0.801834\nLQD    1.159974\nXLK    1.664242\nXLU    1.246852\nEPP    0.768174\nFXI    0.615898\nVGK    0.626862\nVPL    0.828852\nSPY    1.448423\nTLT    1.489405\nBND    1.090615\nCSJ    1.045365\nDIA    1.372656\nName: 2016-07-01 00:00:00, dtype: float64"
     },
     "metadata": {},
     "output_type": "execute_result",
     "execution_count": 45
    }
   ],
   "source": [
    "diff.cumprod().iloc[(2140,)]\n",
    "\n"
   ],
   "metadata": {
    "collapsed": false,
    "pycharm": {
     "name": "#%%\n",
     "is_executing": false
    }
   }
  },
  {
   "cell_type": "code",
   "execution_count": 46,
   "outputs": [
    {
     "data": {
      "text/plain": "                 EEM       EWG       TIP       EWJ       EFA       IEF  \\\nDate                                                                     \n2008-01-02  1.000000  1.000000  1.000000  1.000000  1.000000  1.000000   \n2008-01-03  1.008997  0.997174  1.003376  1.003779  1.001662  1.002054   \n2008-01-04  0.978690  0.977677  1.003095  0.978080  0.978906  1.004679   \n2008-01-07  0.985861  0.978525  1.002907  0.972033  0.979928  1.006505   \n2008-01-08  0.978217  0.971743  1.003657  0.969766  0.974431  1.008673   \n...              ...       ...       ...       ...       ...       ...   \n2016-06-27  0.654106  0.647641  1.088897  0.852608  0.672846  1.291567   \n2016-06-28  0.673387  0.660921  1.092648  0.865457  0.690488  1.291339   \n2016-06-29  0.690434  0.669963  1.091992  0.876795  0.703145  1.286089   \n2016-06-30  0.697335  0.679570  1.094055  0.869237  0.713628  1.288942   \n2016-07-01  0.704032  0.681548  1.097712  0.867725  0.713628  1.290540   \n\n                 EWQ       EWU       XLB       XLE  ...       XLU       EPP  \\\nDate                                                ...                       \n2008-01-02  1.000000  1.000000  1.000000  1.000000  ...  1.000000  1.000000   \n2008-01-03  0.999473  1.006281  1.018160  1.011824  ...  0.998574  1.002345   \n2008-01-04  0.974961  0.982412  0.987409  0.974843  ...  1.006177  0.974140   \n2008-01-07  0.982077  0.985343  0.973850  0.971069  ...  1.027085  0.985214   \n2008-01-08  0.974433  0.971524  0.958838  0.954088  ...  1.027322  0.968604   \n...              ...       ...       ...       ...  ...       ...       ...   \n2016-06-27  0.563785  0.585846  1.076755  0.813082  ...  1.212402  0.723033   \n2016-06-28  0.580917  0.610972  1.085956  0.835723  ...  1.216916  0.741597   \n2016-06-29  0.591197  0.626884  1.104358  0.851572  ...  1.220242  0.753127   \n2016-06-30  0.602794  0.643635  1.122034  0.858365  ...  1.246614  0.766024   \n2016-07-01  0.603321  0.643635  1.122518  0.862893  ...  1.246852  0.768174   \n\n                 FXI       VGK       VPL       SPY       TLT       BND  \\\nDate                                                                     \n2008-01-02  1.000000  1.000000  1.000000  1.000000  1.000000  1.000000   \n2008-01-03  0.993153  1.003623  1.002823  0.999517  0.998623  1.001293   \n2008-01-04  0.974159  0.979203  0.977121  0.975022  0.998834  1.002456   \n2008-01-07  1.002382  0.978800  0.975338  0.974195  1.003179  1.002715   \n2008-01-08  0.988270  0.971421  0.971030  0.958463  1.002013  1.003749   \n...              ...       ...       ...       ...       ...       ...   \n2016-06-27  0.578386  0.581242  0.799584  1.377217  1.474571  1.087384   \n2016-06-28  0.592319  0.600295  0.816075  1.402056  1.477644  1.088676   \n2016-06-29  0.603037  0.612505  0.827069  1.425930  1.466306  1.088289   \n2016-06-30  0.611253  0.626057  0.827960  1.445387  1.471710  1.089710   \n2016-07-01  0.615898  0.626862  0.828852  1.448423  1.489405  1.090615   \n\n                 CSJ       DIA  \nDate                            \n2008-01-02  1.000000  1.000000  \n2008-01-03  1.001183  1.000842  \n2008-01-04  1.002465  0.981168  \n2008-01-07  1.003156  0.980326  \n2008-01-08  1.003353  0.963408  \n...              ...       ...  \n2016-06-27  1.043294  1.310572  \n2016-06-28  1.044280  1.330628  \n2016-06-29  1.044773  1.352216  \n2016-06-30  1.046252  1.370282  \n2016-07-01  1.045365  1.372656  \n\n[2141 rows x 23 columns]",
      "text/html": "<div>\n<style scoped>\n    .dataframe tbody tr th:only-of-type {\n        vertical-align: middle;\n    }\n\n    .dataframe tbody tr th {\n        vertical-align: top;\n    }\n\n    .dataframe thead th {\n        text-align: right;\n    }\n</style>\n<table border=\"1\" class=\"dataframe\">\n  <thead>\n    <tr style=\"text-align: right;\">\n      <th></th>\n      <th>EEM</th>\n      <th>EWG</th>\n      <th>TIP</th>\n      <th>EWJ</th>\n      <th>EFA</th>\n      <th>IEF</th>\n      <th>EWQ</th>\n      <th>EWU</th>\n      <th>XLB</th>\n      <th>XLE</th>\n      <th>...</th>\n      <th>XLU</th>\n      <th>EPP</th>\n      <th>FXI</th>\n      <th>VGK</th>\n      <th>VPL</th>\n      <th>SPY</th>\n      <th>TLT</th>\n      <th>BND</th>\n      <th>CSJ</th>\n      <th>DIA</th>\n    </tr>\n    <tr>\n      <th>Date</th>\n      <th></th>\n      <th></th>\n      <th></th>\n      <th></th>\n      <th></th>\n      <th></th>\n      <th></th>\n      <th></th>\n      <th></th>\n      <th></th>\n      <th></th>\n      <th></th>\n      <th></th>\n      <th></th>\n      <th></th>\n      <th></th>\n      <th></th>\n      <th></th>\n      <th></th>\n      <th></th>\n      <th></th>\n    </tr>\n  </thead>\n  <tbody>\n    <tr>\n      <th>2008-01-02</th>\n      <td>1.000000</td>\n      <td>1.000000</td>\n      <td>1.000000</td>\n      <td>1.000000</td>\n      <td>1.000000</td>\n      <td>1.000000</td>\n      <td>1.000000</td>\n      <td>1.000000</td>\n      <td>1.000000</td>\n      <td>1.000000</td>\n      <td>...</td>\n      <td>1.000000</td>\n      <td>1.000000</td>\n      <td>1.000000</td>\n      <td>1.000000</td>\n      <td>1.000000</td>\n      <td>1.000000</td>\n      <td>1.000000</td>\n      <td>1.000000</td>\n      <td>1.000000</td>\n      <td>1.000000</td>\n    </tr>\n    <tr>\n      <th>2008-01-03</th>\n      <td>1.008997</td>\n      <td>0.997174</td>\n      <td>1.003376</td>\n      <td>1.003779</td>\n      <td>1.001662</td>\n      <td>1.002054</td>\n      <td>0.999473</td>\n      <td>1.006281</td>\n      <td>1.018160</td>\n      <td>1.011824</td>\n      <td>...</td>\n      <td>0.998574</td>\n      <td>1.002345</td>\n      <td>0.993153</td>\n      <td>1.003623</td>\n      <td>1.002823</td>\n      <td>0.999517</td>\n      <td>0.998623</td>\n      <td>1.001293</td>\n      <td>1.001183</td>\n      <td>1.000842</td>\n    </tr>\n    <tr>\n      <th>2008-01-04</th>\n      <td>0.978690</td>\n      <td>0.977677</td>\n      <td>1.003095</td>\n      <td>0.978080</td>\n      <td>0.978906</td>\n      <td>1.004679</td>\n      <td>0.974961</td>\n      <td>0.982412</td>\n      <td>0.987409</td>\n      <td>0.974843</td>\n      <td>...</td>\n      <td>1.006177</td>\n      <td>0.974140</td>\n      <td>0.974159</td>\n      <td>0.979203</td>\n      <td>0.977121</td>\n      <td>0.975022</td>\n      <td>0.998834</td>\n      <td>1.002456</td>\n      <td>1.002465</td>\n      <td>0.981168</td>\n    </tr>\n    <tr>\n      <th>2008-01-07</th>\n      <td>0.985861</td>\n      <td>0.978525</td>\n      <td>1.002907</td>\n      <td>0.972033</td>\n      <td>0.979928</td>\n      <td>1.006505</td>\n      <td>0.982077</td>\n      <td>0.985343</td>\n      <td>0.973850</td>\n      <td>0.971069</td>\n      <td>...</td>\n      <td>1.027085</td>\n      <td>0.985214</td>\n      <td>1.002382</td>\n      <td>0.978800</td>\n      <td>0.975338</td>\n      <td>0.974195</td>\n      <td>1.003179</td>\n      <td>1.002715</td>\n      <td>1.003156</td>\n      <td>0.980326</td>\n    </tr>\n    <tr>\n      <th>2008-01-08</th>\n      <td>0.978217</td>\n      <td>0.971743</td>\n      <td>1.003657</td>\n      <td>0.969766</td>\n      <td>0.974431</td>\n      <td>1.008673</td>\n      <td>0.974433</td>\n      <td>0.971524</td>\n      <td>0.958838</td>\n      <td>0.954088</td>\n      <td>...</td>\n      <td>1.027322</td>\n      <td>0.968604</td>\n      <td>0.988270</td>\n      <td>0.971421</td>\n      <td>0.971030</td>\n      <td>0.958463</td>\n      <td>1.002013</td>\n      <td>1.003749</td>\n      <td>1.003353</td>\n      <td>0.963408</td>\n    </tr>\n    <tr>\n      <th>...</th>\n      <td>...</td>\n      <td>...</td>\n      <td>...</td>\n      <td>...</td>\n      <td>...</td>\n      <td>...</td>\n      <td>...</td>\n      <td>...</td>\n      <td>...</td>\n      <td>...</td>\n      <td>...</td>\n      <td>...</td>\n      <td>...</td>\n      <td>...</td>\n      <td>...</td>\n      <td>...</td>\n      <td>...</td>\n      <td>...</td>\n      <td>...</td>\n      <td>...</td>\n      <td>...</td>\n    </tr>\n    <tr>\n      <th>2016-06-27</th>\n      <td>0.654106</td>\n      <td>0.647641</td>\n      <td>1.088897</td>\n      <td>0.852608</td>\n      <td>0.672846</td>\n      <td>1.291567</td>\n      <td>0.563785</td>\n      <td>0.585846</td>\n      <td>1.076755</td>\n      <td>0.813082</td>\n      <td>...</td>\n      <td>1.212402</td>\n      <td>0.723033</td>\n      <td>0.578386</td>\n      <td>0.581242</td>\n      <td>0.799584</td>\n      <td>1.377217</td>\n      <td>1.474571</td>\n      <td>1.087384</td>\n      <td>1.043294</td>\n      <td>1.310572</td>\n    </tr>\n    <tr>\n      <th>2016-06-28</th>\n      <td>0.673387</td>\n      <td>0.660921</td>\n      <td>1.092648</td>\n      <td>0.865457</td>\n      <td>0.690488</td>\n      <td>1.291339</td>\n      <td>0.580917</td>\n      <td>0.610972</td>\n      <td>1.085956</td>\n      <td>0.835723</td>\n      <td>...</td>\n      <td>1.216916</td>\n      <td>0.741597</td>\n      <td>0.592319</td>\n      <td>0.600295</td>\n      <td>0.816075</td>\n      <td>1.402056</td>\n      <td>1.477644</td>\n      <td>1.088676</td>\n      <td>1.044280</td>\n      <td>1.330628</td>\n    </tr>\n    <tr>\n      <th>2016-06-29</th>\n      <td>0.690434</td>\n      <td>0.669963</td>\n      <td>1.091992</td>\n      <td>0.876795</td>\n      <td>0.703145</td>\n      <td>1.286089</td>\n      <td>0.591197</td>\n      <td>0.626884</td>\n      <td>1.104358</td>\n      <td>0.851572</td>\n      <td>...</td>\n      <td>1.220242</td>\n      <td>0.753127</td>\n      <td>0.603037</td>\n      <td>0.612505</td>\n      <td>0.827069</td>\n      <td>1.425930</td>\n      <td>1.466306</td>\n      <td>1.088289</td>\n      <td>1.044773</td>\n      <td>1.352216</td>\n    </tr>\n    <tr>\n      <th>2016-06-30</th>\n      <td>0.697335</td>\n      <td>0.679570</td>\n      <td>1.094055</td>\n      <td>0.869237</td>\n      <td>0.713628</td>\n      <td>1.288942</td>\n      <td>0.602794</td>\n      <td>0.643635</td>\n      <td>1.122034</td>\n      <td>0.858365</td>\n      <td>...</td>\n      <td>1.246614</td>\n      <td>0.766024</td>\n      <td>0.611253</td>\n      <td>0.626057</td>\n      <td>0.827960</td>\n      <td>1.445387</td>\n      <td>1.471710</td>\n      <td>1.089710</td>\n      <td>1.046252</td>\n      <td>1.370282</td>\n    </tr>\n    <tr>\n      <th>2016-07-01</th>\n      <td>0.704032</td>\n      <td>0.681548</td>\n      <td>1.097712</td>\n      <td>0.867725</td>\n      <td>0.713628</td>\n      <td>1.290540</td>\n      <td>0.603321</td>\n      <td>0.643635</td>\n      <td>1.122518</td>\n      <td>0.862893</td>\n      <td>...</td>\n      <td>1.246852</td>\n      <td>0.768174</td>\n      <td>0.615898</td>\n      <td>0.626862</td>\n      <td>0.828852</td>\n      <td>1.448423</td>\n      <td>1.489405</td>\n      <td>1.090615</td>\n      <td>1.045365</td>\n      <td>1.372656</td>\n    </tr>\n  </tbody>\n</table>\n<p>2141 rows × 23 columns</p>\n</div>"
     },
     "metadata": {},
     "output_type": "execute_result",
     "execution_count": 46
    }
   ],
   "source": [
    "diff.cumprod()\n",
    "\n"
   ],
   "metadata": {
    "collapsed": false,
    "pycharm": {
     "name": "#%%\n",
     "is_executing": false
    }
   }
  },
  {
   "cell_type": "code",
   "execution_count": null,
   "outputs": [],
   "source": [
    "\n"
   ],
   "metadata": {
    "collapsed": false,
    "pycharm": {
     "name": "#%%\n"
    }
   }
  }
 ],
 "metadata": {
  "kernelspec": {
   "display_name": "Python 3",
   "language": "python",
   "name": "python3"
  },
  "language_info": {
   "codemirror_mode": {
    "name": "ipython",
    "version": 2
   },
   "file_extension": ".py",
   "mimetype": "text/x-python",
   "name": "python",
   "nbconvert_exporter": "python",
   "pygments_lexer": "ipython2",
   "version": "2.7.6"
  },
  "pycharm": {
   "stem_cell": {
    "cell_type": "raw",
    "source": [],
    "metadata": {
     "collapsed": false
    }
   }
  }
 },
 "nbformat": 4,
 "nbformat_minor": 0
}