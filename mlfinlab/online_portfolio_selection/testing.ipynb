{
 "cells": [
  {
   "cell_type": "markdown",
   "source": [
    "## Notebook to test for Random Things"
   ],
   "metadata": {
    "collapsed": false,
    "pycharm": {
     "name": "#%% md\n"
    }
   }
  },
  {
   "cell_type": "code",
   "execution_count": 14,
   "metadata": {
    "collapsed": true
   },
   "outputs": [],
   "source": [
    "import numpy as np\n",
    "import pandas as pd\n",
    "from mlfinlab.online_portfolio_selection import *\n",
    "#from mlfinlab.online_portfolio_selection.BAH import BAH\n"
   ]
  },
  {
   "cell_type": "code",
   "execution_count": 15,
   "outputs": [],
   "source": [
    "stock_prices = pd.read_csv('../tests/test_data/stock_prices.csv', parse_dates=True, index_col='Date')\n",
    "stock_prices = stock_prices.dropna(axis=1)\n",
    "asset_name = list(stock_prices.columns)"
   ],
   "metadata": {
    "collapsed": false,
    "pycharm": {
     "name": "#%%\n"
    }
   }
  },
  {
   "cell_type": "code",
   "execution_count": 24,
   "outputs": [],
   "source": [
    "corrs = np.log(stock_prices.pct_change().fillna(0) + 1).rolling(30).corr(pairwise=True)"
   ],
   "metadata": {
    "collapsed": false,
    "pycharm": {
     "name": "#%%\n"
    }
   }
  },
  {
   "cell_type": "code",
   "execution_count": 29,
   "outputs": [
    {
     "data": {
      "text/plain": "                     EEM       EWG       TIP       EWJ       EFA       IEF  \\\nDate                                                                         \n2008-01-02 EEM       NaN       NaN       NaN       NaN       NaN       NaN   \n           EWG       NaN       NaN       NaN       NaN       NaN       NaN   \n           TIP       NaN       NaN       NaN       NaN       NaN       NaN   \n           EWJ       NaN       NaN       NaN       NaN       NaN       NaN   \n           EFA       NaN       NaN       NaN       NaN       NaN       NaN   \n...                  ...       ...       ...       ...       ...       ...   \n2016-07-01 SPY  0.887533  0.874043 -0.285007  0.748397  0.884234 -0.734890   \n           TLT -0.633093 -0.700104  0.655311 -0.664188 -0.697854  0.935636   \n           BND -0.429964 -0.551775  0.773226 -0.481631 -0.529269  0.942547   \n           CSJ  0.003149 -0.112210  0.550104 -0.077881 -0.074172  0.462834   \n           DIA  0.888516  0.885373 -0.275257  0.749922  0.901419 -0.733267   \n\n                     EWQ       EWU       XLB       XLE  ...       XLU  \\\nDate                                                    ...             \n2008-01-02 EEM       NaN       NaN       NaN       NaN  ...       NaN   \n           EWG       NaN       NaN       NaN       NaN  ...       NaN   \n           TIP       NaN       NaN       NaN       NaN  ...       NaN   \n           EWJ       NaN       NaN       NaN       NaN  ...       NaN   \n           EFA       NaN       NaN       NaN       NaN  ...       NaN   \n...                  ...       ...       ...       ...  ...       ...   \n2016-07-01 SPY  0.873752  0.887190  0.878980  0.825917  ...  0.122981   \n           TLT -0.681747 -0.705674 -0.718935 -0.748328  ...  0.321664   \n           BND -0.526687 -0.536360 -0.527794 -0.633902  ...  0.426310   \n           CSJ -0.088364 -0.055749  0.025536  0.000526  ...  0.251750   \n           DIA  0.888960  0.912277  0.894340  0.807096  ...  0.117010   \n\n                     EPP       FXI       VGK       VPL       SPY       TLT  \\\nDate                                                                         \n2008-01-02 EEM       NaN       NaN       NaN       NaN       NaN       NaN   \n           EWG       NaN       NaN       NaN       NaN       NaN       NaN   \n           TIP       NaN       NaN       NaN       NaN       NaN       NaN   \n           EWJ       NaN       NaN       NaN       NaN       NaN       NaN   \n           EFA       NaN       NaN       NaN       NaN       NaN       NaN   \n...                  ...       ...       ...       ...       ...       ...   \n2016-07-01 SPY  0.878263  0.855277  0.870153  0.831217  1.000000 -0.709302   \n           TLT -0.686737 -0.624556 -0.676954 -0.670492 -0.709302  1.000000   \n           BND -0.481389 -0.469663 -0.521927 -0.474602 -0.564949  0.892612   \n           CSJ  0.059068 -0.078677 -0.063969  0.000218 -0.079371  0.226076   \n           DIA  0.885873  0.838206  0.888726  0.835594  0.983328 -0.708094   \n\n                     BND       CSJ       DIA  \nDate                                          \n2008-01-02 EEM       NaN       NaN       NaN  \n           EWG       NaN       NaN       NaN  \n           TIP       NaN       NaN       NaN  \n           EWJ       NaN       NaN       NaN  \n           EFA       NaN       NaN       NaN  \n...                  ...       ...       ...  \n2016-07-01 SPY -0.564949 -0.079371  0.983328  \n           TLT  0.892612  0.226076 -0.708094  \n           BND  1.000000  0.521717 -0.549913  \n           CSJ  0.521717  1.000000 -0.083520  \n           DIA -0.549913 -0.083520  1.000000  \n\n[49243 rows x 23 columns]",
      "text/html": "<div>\n<style scoped>\n    .dataframe tbody tr th:only-of-type {\n        vertical-align: middle;\n    }\n\n    .dataframe tbody tr th {\n        vertical-align: top;\n    }\n\n    .dataframe thead th {\n        text-align: right;\n    }\n</style>\n<table border=\"1\" class=\"dataframe\">\n  <thead>\n    <tr style=\"text-align: right;\">\n      <th></th>\n      <th></th>\n      <th>EEM</th>\n      <th>EWG</th>\n      <th>TIP</th>\n      <th>EWJ</th>\n      <th>EFA</th>\n      <th>IEF</th>\n      <th>EWQ</th>\n      <th>EWU</th>\n      <th>XLB</th>\n      <th>XLE</th>\n      <th>...</th>\n      <th>XLU</th>\n      <th>EPP</th>\n      <th>FXI</th>\n      <th>VGK</th>\n      <th>VPL</th>\n      <th>SPY</th>\n      <th>TLT</th>\n      <th>BND</th>\n      <th>CSJ</th>\n      <th>DIA</th>\n    </tr>\n    <tr>\n      <th>Date</th>\n      <th></th>\n      <th></th>\n      <th></th>\n      <th></th>\n      <th></th>\n      <th></th>\n      <th></th>\n      <th></th>\n      <th></th>\n      <th></th>\n      <th></th>\n      <th></th>\n      <th></th>\n      <th></th>\n      <th></th>\n      <th></th>\n      <th></th>\n      <th></th>\n      <th></th>\n      <th></th>\n      <th></th>\n      <th></th>\n    </tr>\n  </thead>\n  <tbody>\n    <tr>\n      <th rowspan=\"5\" valign=\"top\">2008-01-02</th>\n      <th>EEM</th>\n      <td>NaN</td>\n      <td>NaN</td>\n      <td>NaN</td>\n      <td>NaN</td>\n      <td>NaN</td>\n      <td>NaN</td>\n      <td>NaN</td>\n      <td>NaN</td>\n      <td>NaN</td>\n      <td>NaN</td>\n      <td>...</td>\n      <td>NaN</td>\n      <td>NaN</td>\n      <td>NaN</td>\n      <td>NaN</td>\n      <td>NaN</td>\n      <td>NaN</td>\n      <td>NaN</td>\n      <td>NaN</td>\n      <td>NaN</td>\n      <td>NaN</td>\n    </tr>\n    <tr>\n      <th>EWG</th>\n      <td>NaN</td>\n      <td>NaN</td>\n      <td>NaN</td>\n      <td>NaN</td>\n      <td>NaN</td>\n      <td>NaN</td>\n      <td>NaN</td>\n      <td>NaN</td>\n      <td>NaN</td>\n      <td>NaN</td>\n      <td>...</td>\n      <td>NaN</td>\n      <td>NaN</td>\n      <td>NaN</td>\n      <td>NaN</td>\n      <td>NaN</td>\n      <td>NaN</td>\n      <td>NaN</td>\n      <td>NaN</td>\n      <td>NaN</td>\n      <td>NaN</td>\n    </tr>\n    <tr>\n      <th>TIP</th>\n      <td>NaN</td>\n      <td>NaN</td>\n      <td>NaN</td>\n      <td>NaN</td>\n      <td>NaN</td>\n      <td>NaN</td>\n      <td>NaN</td>\n      <td>NaN</td>\n      <td>NaN</td>\n      <td>NaN</td>\n      <td>...</td>\n      <td>NaN</td>\n      <td>NaN</td>\n      <td>NaN</td>\n      <td>NaN</td>\n      <td>NaN</td>\n      <td>NaN</td>\n      <td>NaN</td>\n      <td>NaN</td>\n      <td>NaN</td>\n      <td>NaN</td>\n    </tr>\n    <tr>\n      <th>EWJ</th>\n      <td>NaN</td>\n      <td>NaN</td>\n      <td>NaN</td>\n      <td>NaN</td>\n      <td>NaN</td>\n      <td>NaN</td>\n      <td>NaN</td>\n      <td>NaN</td>\n      <td>NaN</td>\n      <td>NaN</td>\n      <td>...</td>\n      <td>NaN</td>\n      <td>NaN</td>\n      <td>NaN</td>\n      <td>NaN</td>\n      <td>NaN</td>\n      <td>NaN</td>\n      <td>NaN</td>\n      <td>NaN</td>\n      <td>NaN</td>\n      <td>NaN</td>\n    </tr>\n    <tr>\n      <th>EFA</th>\n      <td>NaN</td>\n      <td>NaN</td>\n      <td>NaN</td>\n      <td>NaN</td>\n      <td>NaN</td>\n      <td>NaN</td>\n      <td>NaN</td>\n      <td>NaN</td>\n      <td>NaN</td>\n      <td>NaN</td>\n      <td>...</td>\n      <td>NaN</td>\n      <td>NaN</td>\n      <td>NaN</td>\n      <td>NaN</td>\n      <td>NaN</td>\n      <td>NaN</td>\n      <td>NaN</td>\n      <td>NaN</td>\n      <td>NaN</td>\n      <td>NaN</td>\n    </tr>\n    <tr>\n      <th>...</th>\n      <th>...</th>\n      <td>...</td>\n      <td>...</td>\n      <td>...</td>\n      <td>...</td>\n      <td>...</td>\n      <td>...</td>\n      <td>...</td>\n      <td>...</td>\n      <td>...</td>\n      <td>...</td>\n      <td>...</td>\n      <td>...</td>\n      <td>...</td>\n      <td>...</td>\n      <td>...</td>\n      <td>...</td>\n      <td>...</td>\n      <td>...</td>\n      <td>...</td>\n      <td>...</td>\n      <td>...</td>\n    </tr>\n    <tr>\n      <th rowspan=\"5\" valign=\"top\">2016-07-01</th>\n      <th>SPY</th>\n      <td>0.887533</td>\n      <td>0.874043</td>\n      <td>-0.285007</td>\n      <td>0.748397</td>\n      <td>0.884234</td>\n      <td>-0.734890</td>\n      <td>0.873752</td>\n      <td>0.887190</td>\n      <td>0.878980</td>\n      <td>0.825917</td>\n      <td>...</td>\n      <td>0.122981</td>\n      <td>0.878263</td>\n      <td>0.855277</td>\n      <td>0.870153</td>\n      <td>0.831217</td>\n      <td>1.000000</td>\n      <td>-0.709302</td>\n      <td>-0.564949</td>\n      <td>-0.079371</td>\n      <td>0.983328</td>\n    </tr>\n    <tr>\n      <th>TLT</th>\n      <td>-0.633093</td>\n      <td>-0.700104</td>\n      <td>0.655311</td>\n      <td>-0.664188</td>\n      <td>-0.697854</td>\n      <td>0.935636</td>\n      <td>-0.681747</td>\n      <td>-0.705674</td>\n      <td>-0.718935</td>\n      <td>-0.748328</td>\n      <td>...</td>\n      <td>0.321664</td>\n      <td>-0.686737</td>\n      <td>-0.624556</td>\n      <td>-0.676954</td>\n      <td>-0.670492</td>\n      <td>-0.709302</td>\n      <td>1.000000</td>\n      <td>0.892612</td>\n      <td>0.226076</td>\n      <td>-0.708094</td>\n    </tr>\n    <tr>\n      <th>BND</th>\n      <td>-0.429964</td>\n      <td>-0.551775</td>\n      <td>0.773226</td>\n      <td>-0.481631</td>\n      <td>-0.529269</td>\n      <td>0.942547</td>\n      <td>-0.526687</td>\n      <td>-0.536360</td>\n      <td>-0.527794</td>\n      <td>-0.633902</td>\n      <td>...</td>\n      <td>0.426310</td>\n      <td>-0.481389</td>\n      <td>-0.469663</td>\n      <td>-0.521927</td>\n      <td>-0.474602</td>\n      <td>-0.564949</td>\n      <td>0.892612</td>\n      <td>1.000000</td>\n      <td>0.521717</td>\n      <td>-0.549913</td>\n    </tr>\n    <tr>\n      <th>CSJ</th>\n      <td>0.003149</td>\n      <td>-0.112210</td>\n      <td>0.550104</td>\n      <td>-0.077881</td>\n      <td>-0.074172</td>\n      <td>0.462834</td>\n      <td>-0.088364</td>\n      <td>-0.055749</td>\n      <td>0.025536</td>\n      <td>0.000526</td>\n      <td>...</td>\n      <td>0.251750</td>\n      <td>0.059068</td>\n      <td>-0.078677</td>\n      <td>-0.063969</td>\n      <td>0.000218</td>\n      <td>-0.079371</td>\n      <td>0.226076</td>\n      <td>0.521717</td>\n      <td>1.000000</td>\n      <td>-0.083520</td>\n    </tr>\n    <tr>\n      <th>DIA</th>\n      <td>0.888516</td>\n      <td>0.885373</td>\n      <td>-0.275257</td>\n      <td>0.749922</td>\n      <td>0.901419</td>\n      <td>-0.733267</td>\n      <td>0.888960</td>\n      <td>0.912277</td>\n      <td>0.894340</td>\n      <td>0.807096</td>\n      <td>...</td>\n      <td>0.117010</td>\n      <td>0.885873</td>\n      <td>0.838206</td>\n      <td>0.888726</td>\n      <td>0.835594</td>\n      <td>0.983328</td>\n      <td>-0.708094</td>\n      <td>-0.549913</td>\n      <td>-0.083520</td>\n      <td>1.000000</td>\n    </tr>\n  </tbody>\n</table>\n<p>49243 rows × 23 columns</p>\n</div>"
     },
     "execution_count": 29,
     "metadata": {},
     "output_type": "execute_result"
    }
   ],
   "source": [
    "corrs"
   ],
   "metadata": {
    "collapsed": false,
    "pycharm": {
     "name": "#%%\n"
    }
   }
  },
  {
   "cell_type": "code",
   "execution_count": 33,
   "outputs": [
    {
     "data": {
      "text/plain": "                     EEM       EWG\nDate                              \n2008-01-02 EEM       NaN       NaN\n           EWG       NaN       NaN\n2008-01-03 EEM       NaN       NaN\n           EWG       NaN       NaN\n2008-01-04 EEM       NaN       NaN\n...                  ...       ...\n2016-06-29 EWG  0.432210  1.000000\n2016-06-30 EEM  1.000000  0.374915\n           EWG  0.374915  1.000000\n2016-07-01 EEM  1.000000  0.306130\n           EWG  0.306130  1.000000\n\n[4282 rows x 2 columns]",
      "text/html": "<div>\n<style scoped>\n    .dataframe tbody tr th:only-of-type {\n        vertical-align: middle;\n    }\n\n    .dataframe tbody tr th {\n        vertical-align: top;\n    }\n\n    .dataframe thead th {\n        text-align: right;\n    }\n</style>\n<table border=\"1\" class=\"dataframe\">\n  <thead>\n    <tr style=\"text-align: right;\">\n      <th></th>\n      <th></th>\n      <th>EEM</th>\n      <th>EWG</th>\n    </tr>\n    <tr>\n      <th>Date</th>\n      <th></th>\n      <th></th>\n      <th></th>\n    </tr>\n  </thead>\n  <tbody>\n    <tr>\n      <th rowspan=\"2\" valign=\"top\">2008-01-02</th>\n      <th>EEM</th>\n      <td>NaN</td>\n      <td>NaN</td>\n    </tr>\n    <tr>\n      <th>EWG</th>\n      <td>NaN</td>\n      <td>NaN</td>\n    </tr>\n    <tr>\n      <th rowspan=\"2\" valign=\"top\">2008-01-03</th>\n      <th>EEM</th>\n      <td>NaN</td>\n      <td>NaN</td>\n    </tr>\n    <tr>\n      <th>EWG</th>\n      <td>NaN</td>\n      <td>NaN</td>\n    </tr>\n    <tr>\n      <th>2008-01-04</th>\n      <th>EEM</th>\n      <td>NaN</td>\n      <td>NaN</td>\n    </tr>\n    <tr>\n      <th>...</th>\n      <th>...</th>\n      <td>...</td>\n      <td>...</td>\n    </tr>\n    <tr>\n      <th>2016-06-29</th>\n      <th>EWG</th>\n      <td>0.432210</td>\n      <td>1.000000</td>\n    </tr>\n    <tr>\n      <th rowspan=\"2\" valign=\"top\">2016-06-30</th>\n      <th>EEM</th>\n      <td>1.000000</td>\n      <td>0.374915</td>\n    </tr>\n    <tr>\n      <th>EWG</th>\n      <td>0.374915</td>\n      <td>1.000000</td>\n    </tr>\n    <tr>\n      <th rowspan=\"2\" valign=\"top\">2016-07-01</th>\n      <th>EEM</th>\n      <td>1.000000</td>\n      <td>0.306130</td>\n    </tr>\n    <tr>\n      <th>EWG</th>\n      <td>0.306130</td>\n      <td>1.000000</td>\n    </tr>\n  </tbody>\n</table>\n<p>4282 rows × 2 columns</p>\n</div>"
     },
     "execution_count": 33,
     "metadata": {},
     "output_type": "execute_result"
    }
   ],
   "source": [
    "stock_prices[['EEM','EWG']].rolling(30).corr()\n"
   ],
   "metadata": {
    "collapsed": false,
    "pycharm": {
     "name": "#%%\n"
    }
   }
  },
  {
   "cell_type": "code",
   "execution_count": null,
   "outputs": [],
   "source": [
    "|\n"
   ],
   "metadata": {
    "collapsed": false,
    "pycharm": {
     "name": "#%%\n"
    }
   }
  }
 ],
 "metadata": {
  "kernelspec": {
   "display_name": "Python 3",
   "language": "python",
   "name": "python3"
  },
  "language_info": {
   "codemirror_mode": {
    "name": "ipython",
    "version": 2
   },
   "file_extension": ".py",
   "mimetype": "text/x-python",
   "name": "python",
   "nbconvert_exporter": "python",
   "pygments_lexer": "ipython2",
   "version": "2.7.6"
  }
 },
 "nbformat": 4,
 "nbformat_minor": 0
}