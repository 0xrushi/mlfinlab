{
 "cells": [
  {
   "cell_type": "markdown",
   "source": [
    "Online Moving Average Reversion"
   ],
   "metadata": {
    "collapsed": false,
    "pycharm": {
     "name": "#%% md\n"
    }
   }
  },
  {
   "cell_type": "code",
   "execution_count": 2,
   "metadata": {
    "collapsed": true
   },
   "outputs": [
    {
     "name": "stdout",
     "output_type": "stream",
     "text": [
      "\n",
      "\n",
      "Support us on Patreon: https://www.patreon.com/HudsonThames\n",
      "\n",
      "MlFinLab needs you! We need your help for us to keep on maintaining and implementing academic research based on \n",
      "financial machine learning (for open-source). In order for us to continue we need to raise $4000 of monthly donations\n",
      "via Patreon - by December 2020. If we can't reach our goal, we will need to adopt more of a paid for service. We thought\n",
      "that the best and least impactful course of action (should we not reach our goal) is to leave the package as open-source\n",
      "but to make the documentation (ReadTheDocs) a paid for service. This is the ultimate litmus test, if the package is a \n",
      "value add, then we need the community to help us keep it going.\n",
      "\n",
      "Our road map for 2020 is to implement the text book: Machine Learning for Asset Managers by Marcos Lopez de Prado, \n",
      "as well as a few papers from the Journal of Financial Data Science. We are hiring a full time developer for 3 months \n",
      "to help us reach our goals. The money that you, our sponsors, contribute will go directly to paying salaries and other \n",
      "expenses such as journal subscriptions and data. \n",
      "\n",
      "We need your help to continue maintaining and developing this community. Thank you for using our package and we \n",
      "invite you to join our slack channel using the following link:\n",
      "https://join.slack.com/t/mlfinlab/shared_invite/zt-c62u9gpz-VFc13j6da~UVg3DkV7~RjQ\n",
      "\n",
      "\n",
      "\n"
     ]
    }
   ],
   "source": [
    "import numpy as np\n",
    "import pandas as pd\n",
    "import matplotlib.pyplot as plt\n",
    "from mlfinlab.online_portfolio_selection import *\n",
    "\n"
   ]
  },
  {
   "cell_type": "code",
   "execution_count": 3,
   "outputs": [],
   "source": [
    "stock_prices = pd.read_csv('../../../tests/test_data/stock_prices.csv', parse_dates=True, index_col='Date')\n",
    "stock_prices = stock_prices.dropna(axis=1)"
   ],
   "metadata": {
    "collapsed": false,
    "pycharm": {
     "name": "#%%\n"
    }
   }
  },
  {
   "cell_type": "code",
   "execution_count": 4,
   "outputs": [
    {
     "data": {
      "text/plain": "<Figure size 1296x576 with 0 Axes>"
     },
     "metadata": {},
     "output_type": "display_data"
    }
   ],
   "source": [
    "plt.figure(figsize=(18, 8));\n",
    "epsilon_values = [0.01, 1, 100]\n",
    "window_values = [5, 10, 20, 50]\n",
    "olmar_list = []\n",
    "for e in epsilon_values:\n",
    "    for w in window_values:\n",
    "        olmar_list.append(OLMAR(reversion_method=1, epsilon=e, window=w))"
   ],
   "metadata": {
    "collapsed": false,
    "pycharm": {
     "name": "#%%\n"
    }
   }
  },
  {
   "cell_type": "code",
   "execution_count": 5,
   "outputs": [],
   "source": [
    "for o in olmar_list:\n",
    "    o.allocate(stock_prices)"
   ],
   "metadata": {
    "collapsed": false,
    "pycharm": {
     "name": "#%%\n"
    }
   }
  },
  {
   "cell_type": "code",
   "execution_count": 17,
   "outputs": [
    {
     "data": {
      "text/plain": "12"
     },
     "execution_count": 17,
     "metadata": {},
     "output_type": "execute_result"
    }
   ],
   "source": [
    "len(olmar_list)"
   ],
   "metadata": {
    "collapsed": false,
    "pycharm": {
     "name": "#%%\n"
    }
   }
  },
  {
   "cell_type": "code",
   "execution_count": 20,
   "outputs": [
    {
     "data": {
      "text/plain": "<matplotlib.axes._subplots.AxesSubplot at 0x13931c240>"
     },
     "execution_count": 20,
     "metadata": {},
     "output_type": "execute_result"
    },
    {
     "data": {
      "text/plain": "<Figure size 432x288 with 1 Axes>",
      "image/png": "[encoded data removed]"
     },
     "metadata": {
      "needs_background": "light"
     },
     "output_type": "display_data"
    }
   ],
   "source": [
    "olmar_list[8].portfolio_return.plot()"
   ],
   "metadata": {
    "collapsed": false,
    "pycharm": {
     "name": "#%%\n"
    }
   }
  },
  {
   "cell_type": "code",
   "execution_count": 19,
   "outputs": [
    {
     "data": {
      "text/plain": "                 EEM       EWG       TIP       EWJ       EFA       IEF  \\\nDate                                                                     \n2008-01-02  0.043478  0.043478  0.043478  0.043478  0.043478  0.043478   \n2008-01-03  0.043478  0.043478  0.043478  0.043478  0.043478  0.043478   \n2008-01-04  0.043478  0.043478  0.043478  0.043478  0.043478  0.043478   \n2008-01-07  0.043478  0.043478  0.043478  0.043478  0.043478  0.043478   \n2008-01-08  0.043478  0.043478  0.043478  0.043478  0.043478  0.043478   \n...              ...       ...       ...       ...       ...       ...   \n2016-06-27  0.000000  0.000000  0.000000  0.000000  0.000000  0.000000   \n2016-06-28  0.000000  0.000000  0.000000  0.000000  0.000000  0.000000   \n2016-06-29  0.000000  0.000000  0.000000  0.000000  0.000000  0.000000   \n2016-06-30  0.000000  0.000000  0.000000  0.000000  0.000000  0.000000   \n2016-07-01  0.000000  0.000000  0.000000  0.000000  0.000000  0.000000   \n\n                 EWQ       EWU       XLB       XLE  ...       XLU       EPP  \\\nDate                                                ...                       \n2008-01-02  0.043478  0.043478  0.043478  0.043478  ...  0.043478  0.043478   \n2008-01-03  0.043478  0.043478  0.043478  0.043478  ...  0.043478  0.043478   \n2008-01-04  0.043478  0.043478  0.043478  0.043478  ...  0.043478  0.043478   \n2008-01-07  0.043478  0.043478  0.043478  0.043478  ...  0.043478  0.043478   \n2008-01-08  0.043478  0.043478  0.043478  0.043478  ...  0.043478  0.043478   \n...              ...       ...       ...       ...  ...       ...       ...   \n2016-06-27  0.000000  0.000000  0.000000  0.000000  ...  0.000000  0.000000   \n2016-06-28  0.000000  0.000000  0.000000  0.000000  ...  0.000000  0.000000   \n2016-06-29  0.000000  0.000000  0.000000  0.000000  ...  0.000000  0.000000   \n2016-06-30  0.000000  0.000000  0.000000  0.000000  ...  0.000000  0.000000   \n2016-07-01  0.000000  1.000000  0.000000  0.000000  ...  0.000000  0.000000   \n\n                 FXI       VGK       VPL       SPY       TLT       BND  \\\nDate                                                                     \n2008-01-02  0.043478  0.043478  0.043478  0.043478  0.043478  0.043478   \n2008-01-03  0.043478  0.043478  0.043478  0.043478  0.043478  0.043478   \n2008-01-04  0.043478  0.043478  0.043478  0.043478  0.043478  0.043478   \n2008-01-07  0.043478  0.043478  0.043478  0.043478  0.043478  0.043478   \n2008-01-08  0.043478  0.043478  0.043478  0.043478  0.043478  0.043478   \n...              ...       ...       ...       ...       ...       ...   \n2016-06-27  0.000000  0.000000  0.000000  0.000000  1.000000  0.000000   \n2016-06-28  0.000000  0.000000  0.000000  0.000000  1.000000  0.000000   \n2016-06-29  0.000000  0.000000  0.000000  0.000000  1.000000  0.000000   \n2016-06-30  1.000000  0.000000  0.000000  0.000000  0.000000  0.000000   \n2016-07-01  0.000000  0.000000  0.000000  0.000000  0.000000  0.000000   \n\n                 CSJ       DIA  \nDate                            \n2008-01-02  0.043478  0.043478  \n2008-01-03  0.043478  0.043478  \n2008-01-04  0.043478  0.043478  \n2008-01-07  0.043478  0.043478  \n2008-01-08  0.043478  0.043478  \n...              ...       ...  \n2016-06-27  0.000000  0.000000  \n2016-06-28  0.000000  0.000000  \n2016-06-29  0.000000  0.000000  \n2016-06-30  0.000000  0.000000  \n2016-07-01  0.000000  0.000000  \n\n[2141 rows x 23 columns]",
      "text/html": "<div>\n<style scoped>\n    .dataframe tbody tr th:only-of-type {\n        vertical-align: middle;\n    }\n\n    .dataframe tbody tr th {\n        vertical-align: top;\n    }\n\n    .dataframe thead th {\n        text-align: right;\n    }\n</style>\n<table border=\"1\" class=\"dataframe\">\n  <thead>\n    <tr style=\"text-align: right;\">\n      <th></th>\n      <th>EEM</th>\n      <th>EWG</th>\n      <th>TIP</th>\n      <th>EWJ</th>\n      <th>EFA</th>\n      <th>IEF</th>\n      <th>EWQ</th>\n      <th>EWU</th>\n      <th>XLB</th>\n      <th>XLE</th>\n      <th>...</th>\n      <th>XLU</th>\n      <th>EPP</th>\n      <th>FXI</th>\n      <th>VGK</th>\n      <th>VPL</th>\n      <th>SPY</th>\n      <th>TLT</th>\n      <th>BND</th>\n      <th>CSJ</th>\n      <th>DIA</th>\n    </tr>\n    <tr>\n      <th>Date</th>\n      <th></th>\n      <th></th>\n      <th></th>\n      <th></th>\n      <th></th>\n      <th></th>\n      <th></th>\n      <th></th>\n      <th></th>\n      <th></th>\n      <th></th>\n      <th></th>\n      <th></th>\n      <th></th>\n      <th></th>\n      <th></th>\n      <th></th>\n      <th></th>\n      <th></th>\n      <th></th>\n      <th></th>\n    </tr>\n  </thead>\n  <tbody>\n    <tr>\n      <th>2008-01-02</th>\n      <td>0.043478</td>\n      <td>0.043478</td>\n      <td>0.043478</td>\n      <td>0.043478</td>\n      <td>0.043478</td>\n      <td>0.043478</td>\n      <td>0.043478</td>\n      <td>0.043478</td>\n      <td>0.043478</td>\n      <td>0.043478</td>\n      <td>...</td>\n      <td>0.043478</td>\n      <td>0.043478</td>\n      <td>0.043478</td>\n      <td>0.043478</td>\n      <td>0.043478</td>\n      <td>0.043478</td>\n      <td>0.043478</td>\n      <td>0.043478</td>\n      <td>0.043478</td>\n      <td>0.043478</td>\n    </tr>\n    <tr>\n      <th>2008-01-03</th>\n      <td>0.043478</td>\n      <td>0.043478</td>\n      <td>0.043478</td>\n      <td>0.043478</td>\n      <td>0.043478</td>\n      <td>0.043478</td>\n      <td>0.043478</td>\n      <td>0.043478</td>\n      <td>0.043478</td>\n      <td>0.043478</td>\n      <td>...</td>\n      <td>0.043478</td>\n      <td>0.043478</td>\n      <td>0.043478</td>\n      <td>0.043478</td>\n      <td>0.043478</td>\n      <td>0.043478</td>\n      <td>0.043478</td>\n      <td>0.043478</td>\n      <td>0.043478</td>\n      <td>0.043478</td>\n    </tr>\n    <tr>\n      <th>2008-01-04</th>\n      <td>0.043478</td>\n      <td>0.043478</td>\n      <td>0.043478</td>\n      <td>0.043478</td>\n      <td>0.043478</td>\n      <td>0.043478</td>\n      <td>0.043478</td>\n      <td>0.043478</td>\n      <td>0.043478</td>\n      <td>0.043478</td>\n      <td>...</td>\n      <td>0.043478</td>\n      <td>0.043478</td>\n      <td>0.043478</td>\n      <td>0.043478</td>\n      <td>0.043478</td>\n      <td>0.043478</td>\n      <td>0.043478</td>\n      <td>0.043478</td>\n      <td>0.043478</td>\n      <td>0.043478</td>\n    </tr>\n    <tr>\n      <th>2008-01-07</th>\n      <td>0.043478</td>\n      <td>0.043478</td>\n      <td>0.043478</td>\n      <td>0.043478</td>\n      <td>0.043478</td>\n      <td>0.043478</td>\n      <td>0.043478</td>\n      <td>0.043478</td>\n      <td>0.043478</td>\n      <td>0.043478</td>\n      <td>...</td>\n      <td>0.043478</td>\n      <td>0.043478</td>\n      <td>0.043478</td>\n      <td>0.043478</td>\n      <td>0.043478</td>\n      <td>0.043478</td>\n      <td>0.043478</td>\n      <td>0.043478</td>\n      <td>0.043478</td>\n      <td>0.043478</td>\n    </tr>\n    <tr>\n      <th>2008-01-08</th>\n      <td>0.043478</td>\n      <td>0.043478</td>\n      <td>0.043478</td>\n      <td>0.043478</td>\n      <td>0.043478</td>\n      <td>0.043478</td>\n      <td>0.043478</td>\n      <td>0.043478</td>\n      <td>0.043478</td>\n      <td>0.043478</td>\n      <td>...</td>\n      <td>0.043478</td>\n      <td>0.043478</td>\n      <td>0.043478</td>\n      <td>0.043478</td>\n      <td>0.043478</td>\n      <td>0.043478</td>\n      <td>0.043478</td>\n      <td>0.043478</td>\n      <td>0.043478</td>\n      <td>0.043478</td>\n    </tr>\n    <tr>\n      <th>...</th>\n      <td>...</td>\n      <td>...</td>\n      <td>...</td>\n      <td>...</td>\n      <td>...</td>\n      <td>...</td>\n      <td>...</td>\n      <td>...</td>\n      <td>...</td>\n      <td>...</td>\n      <td>...</td>\n      <td>...</td>\n      <td>...</td>\n      <td>...</td>\n      <td>...</td>\n      <td>...</td>\n      <td>...</td>\n      <td>...</td>\n      <td>...</td>\n      <td>...</td>\n      <td>...</td>\n    </tr>\n    <tr>\n      <th>2016-06-27</th>\n      <td>0.000000</td>\n      <td>0.000000</td>\n      <td>0.000000</td>\n      <td>0.000000</td>\n      <td>0.000000</td>\n      <td>0.000000</td>\n      <td>0.000000</td>\n      <td>0.000000</td>\n      <td>0.000000</td>\n      <td>0.000000</td>\n      <td>...</td>\n      <td>0.000000</td>\n      <td>0.000000</td>\n      <td>0.000000</td>\n      <td>0.000000</td>\n      <td>0.000000</td>\n      <td>0.000000</td>\n      <td>1.000000</td>\n      <td>0.000000</td>\n      <td>0.000000</td>\n      <td>0.000000</td>\n    </tr>\n    <tr>\n      <th>2016-06-28</th>\n      <td>0.000000</td>\n      <td>0.000000</td>\n      <td>0.000000</td>\n      <td>0.000000</td>\n      <td>0.000000</td>\n      <td>0.000000</td>\n      <td>0.000000</td>\n      <td>0.000000</td>\n      <td>0.000000</td>\n      <td>0.000000</td>\n      <td>...</td>\n      <td>0.000000</td>\n      <td>0.000000</td>\n      <td>0.000000</td>\n      <td>0.000000</td>\n      <td>0.000000</td>\n      <td>0.000000</td>\n      <td>1.000000</td>\n      <td>0.000000</td>\n      <td>0.000000</td>\n      <td>0.000000</td>\n    </tr>\n    <tr>\n      <th>2016-06-29</th>\n      <td>0.000000</td>\n      <td>0.000000</td>\n      <td>0.000000</td>\n      <td>0.000000</td>\n      <td>0.000000</td>\n      <td>0.000000</td>\n      <td>0.000000</td>\n      <td>0.000000</td>\n      <td>0.000000</td>\n      <td>0.000000</td>\n      <td>...</td>\n      <td>0.000000</td>\n      <td>0.000000</td>\n      <td>0.000000</td>\n      <td>0.000000</td>\n      <td>0.000000</td>\n      <td>0.000000</td>\n      <td>1.000000</td>\n      <td>0.000000</td>\n      <td>0.000000</td>\n      <td>0.000000</td>\n    </tr>\n    <tr>\n      <th>2016-06-30</th>\n      <td>0.000000</td>\n      <td>0.000000</td>\n      <td>0.000000</td>\n      <td>0.000000</td>\n      <td>0.000000</td>\n      <td>0.000000</td>\n      <td>0.000000</td>\n      <td>0.000000</td>\n      <td>0.000000</td>\n      <td>0.000000</td>\n      <td>...</td>\n      <td>0.000000</td>\n      <td>0.000000</td>\n      <td>1.000000</td>\n      <td>0.000000</td>\n      <td>0.000000</td>\n      <td>0.000000</td>\n      <td>0.000000</td>\n      <td>0.000000</td>\n      <td>0.000000</td>\n      <td>0.000000</td>\n    </tr>\n    <tr>\n      <th>2016-07-01</th>\n      <td>0.000000</td>\n      <td>0.000000</td>\n      <td>0.000000</td>\n      <td>0.000000</td>\n      <td>0.000000</td>\n      <td>0.000000</td>\n      <td>0.000000</td>\n      <td>1.000000</td>\n      <td>0.000000</td>\n      <td>0.000000</td>\n      <td>...</td>\n      <td>0.000000</td>\n      <td>0.000000</td>\n      <td>0.000000</td>\n      <td>0.000000</td>\n      <td>0.000000</td>\n      <td>0.000000</td>\n      <td>0.000000</td>\n      <td>0.000000</td>\n      <td>0.000000</td>\n      <td>0.000000</td>\n    </tr>\n  </tbody>\n</table>\n<p>2141 rows × 23 columns</p>\n</div>"
     },
     "execution_count": 19,
     "metadata": {},
     "output_type": "execute_result"
    }
   ],
   "source": [
    "olmar_list[8].all_weights"
   ],
   "metadata": {
    "collapsed": false,
    "pycharm": {
     "name": "#%%\n"
    }
   }
  },
  {
   "cell_type": "code",
   "execution_count": null,
   "outputs": [],
   "source": [
    "strat = OLMAR(reversion_method=1, epsilon=e, window=w)\n",
    "strat.allocate(stock_prices)\n",
    "plt.plot(strat.portfolio_return, label='e=' + str(e) + ' w=' + str(w));\n",
    "plt.title('Comparison of OLMAR-1 Strategy with Different Epsilon and Window values')\n",
    "plt.ylabel('Returns')\n",
    "plt.legend();"
   ],
   "metadata": {
    "collapsed": false,
    "pycharm": {
     "name": "#%%\n"
    }
   }
  }
 ],
 "metadata": {
  "kernelspec": {
   "display_name": "Python 3",
   "language": "python",
   "name": "python3"
  },
  "language_info": {
   "codemirror_mode": {
    "name": "ipython",
    "version": 2
   },
   "file_extension": ".py",
   "mimetype": "text/x-python",
   "name": "python",
   "nbconvert_exporter": "python",
   "pygments_lexer": "ipython2",
   "version": "2.7.6"
  }
 },
 "nbformat": 4,
 "nbformat_minor": 0
}