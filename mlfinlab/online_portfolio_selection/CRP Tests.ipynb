{
 "cells": [
  {
   "cell_type": "markdown",
   "source": [
    "testing jupyter notebook for CRP class"
   ],
   "metadata": {
    "collapsed": false,
    "pycharm": {
     "name": "#%% md\n"
    }
   }
  },
  {
   "cell_type": "code",
   "execution_count": 7,
   "metadata": {
    "collapsed": true
   },
   "outputs": [],
   "source": [
    "import numpy as np\n",
    "import pandas as pd\n",
    "from mlfinlab.online_portfolio_selection import *\n",
    "\n"
   ]
  },
  {
   "cell_type": "code",
   "execution_count": 8,
   "outputs": [],
   "source": [
    "stock_prices = pd.read_csv('../tests/test_data/stock_prices.csv', parse_dates=True, index_col='Date')\n",
    "stock_prices = stock_prices.dropna(axis=1)\n",
    "asset_name = list(stock_prices.columns)"
   ],
   "metadata": {
    "collapsed": false,
    "pycharm": {
     "name": "#%%\n"
    }
   }
  },
  {
   "cell_type": "code",
   "execution_count": 9,
   "outputs": [],
   "source": [
    "idx = stock_prices.index\n",
    "name = stock_prices.columns"
   ],
   "metadata": {
    "collapsed": false,
    "pycharm": {
     "name": "#%%\n"
    }
   }
  },
  {
   "cell_type": "code",
   "execution_count": 10,
   "outputs": [],
   "source": [
    "crp = CRP()\n",
    "crp.allocate(name,stock_prices)"
   ],
   "metadata": {
    "collapsed": false,
    "pycharm": {
     "name": "#%%\n"
    }
   }
  },
  {
   "cell_type": "code",
   "execution_count": 11,
   "outputs": [
    {
     "data": {
      "text/plain": "                 EEM       EWG       TIP       EWJ       EFA       IEF  \\\nDate                                                                     \n2008-01-02  0.043478  0.043478  0.043478  0.043478  0.043478  0.043478   \n2008-01-03  0.043478  0.043478  0.043478  0.043478  0.043478  0.043478   \n2008-01-04  0.043478  0.043478  0.043478  0.043478  0.043478  0.043478   \n2008-01-07  0.043478  0.043478  0.043478  0.043478  0.043478  0.043478   \n2008-01-08  0.043478  0.043478  0.043478  0.043478  0.043478  0.043478   \n...              ...       ...       ...       ...       ...       ...   \n2016-06-27  0.043478  0.043478  0.043478  0.043478  0.043478  0.043478   \n2016-06-28  0.043478  0.043478  0.043478  0.043478  0.043478  0.043478   \n2016-06-29  0.043478  0.043478  0.043478  0.043478  0.043478  0.043478   \n2016-06-30  0.043478  0.043478  0.043478  0.043478  0.043478  0.043478   \n2016-07-01  0.043478  0.043478  0.043478  0.043478  0.043478  0.043478   \n\n                 EWQ       EWU       XLB       XLE  ...       XLU       EPP  \\\nDate                                                ...                       \n2008-01-02  0.043478  0.043478  0.043478  0.043478  ...  0.043478  0.043478   \n2008-01-03  0.043478  0.043478  0.043478  0.043478  ...  0.043478  0.043478   \n2008-01-04  0.043478  0.043478  0.043478  0.043478  ...  0.043478  0.043478   \n2008-01-07  0.043478  0.043478  0.043478  0.043478  ...  0.043478  0.043478   \n2008-01-08  0.043478  0.043478  0.043478  0.043478  ...  0.043478  0.043478   \n...              ...       ...       ...       ...  ...       ...       ...   \n2016-06-27  0.043478  0.043478  0.043478  0.043478  ...  0.043478  0.043478   \n2016-06-28  0.043478  0.043478  0.043478  0.043478  ...  0.043478  0.043478   \n2016-06-29  0.043478  0.043478  0.043478  0.043478  ...  0.043478  0.043478   \n2016-06-30  0.043478  0.043478  0.043478  0.043478  ...  0.043478  0.043478   \n2016-07-01  0.043478  0.043478  0.043478  0.043478  ...  0.043478  0.043478   \n\n                 FXI       VGK       VPL       SPY       TLT       BND  \\\nDate                                                                     \n2008-01-02  0.043478  0.043478  0.043478  0.043478  0.043478  0.043478   \n2008-01-03  0.043478  0.043478  0.043478  0.043478  0.043478  0.043478   \n2008-01-04  0.043478  0.043478  0.043478  0.043478  0.043478  0.043478   \n2008-01-07  0.043478  0.043478  0.043478  0.043478  0.043478  0.043478   \n2008-01-08  0.043478  0.043478  0.043478  0.043478  0.043478  0.043478   \n...              ...       ...       ...       ...       ...       ...   \n2016-06-27  0.043478  0.043478  0.043478  0.043478  0.043478  0.043478   \n2016-06-28  0.043478  0.043478  0.043478  0.043478  0.043478  0.043478   \n2016-06-29  0.043478  0.043478  0.043478  0.043478  0.043478  0.043478   \n2016-06-30  0.043478  0.043478  0.043478  0.043478  0.043478  0.043478   \n2016-07-01  0.043478  0.043478  0.043478  0.043478  0.043478  0.043478   \n\n                 CSJ       DIA  \nDate                            \n2008-01-02  0.043478  0.043478  \n2008-01-03  0.043478  0.043478  \n2008-01-04  0.043478  0.043478  \n2008-01-07  0.043478  0.043478  \n2008-01-08  0.043478  0.043478  \n...              ...       ...  \n2016-06-27  0.043478  0.043478  \n2016-06-28  0.043478  0.043478  \n2016-06-29  0.043478  0.043478  \n2016-06-30  0.043478  0.043478  \n2016-07-01  0.043478  0.043478  \n\n[2141 rows x 23 columns]",
      "text/html": "<div>\n<style scoped>\n    .dataframe tbody tr th:only-of-type {\n        vertical-align: middle;\n    }\n\n    .dataframe tbody tr th {\n        vertical-align: top;\n    }\n\n    .dataframe thead th {\n        text-align: right;\n    }\n</style>\n<table border=\"1\" class=\"dataframe\">\n  <thead>\n    <tr style=\"text-align: right;\">\n      <th></th>\n      <th>EEM</th>\n      <th>EWG</th>\n      <th>TIP</th>\n      <th>EWJ</th>\n      <th>EFA</th>\n      <th>IEF</th>\n      <th>EWQ</th>\n      <th>EWU</th>\n      <th>XLB</th>\n      <th>XLE</th>\n      <th>...</th>\n      <th>XLU</th>\n      <th>EPP</th>\n      <th>FXI</th>\n      <th>VGK</th>\n      <th>VPL</th>\n      <th>SPY</th>\n      <th>TLT</th>\n      <th>BND</th>\n      <th>CSJ</th>\n      <th>DIA</th>\n    </tr>\n    <tr>\n      <th>Date</th>\n      <th></th>\n      <th></th>\n      <th></th>\n      <th></th>\n      <th></th>\n      <th></th>\n      <th></th>\n      <th></th>\n      <th></th>\n      <th></th>\n      <th></th>\n      <th></th>\n      <th></th>\n      <th></th>\n      <th></th>\n      <th></th>\n      <th></th>\n      <th></th>\n      <th></th>\n      <th></th>\n      <th></th>\n    </tr>\n  </thead>\n  <tbody>\n    <tr>\n      <th>2008-01-02</th>\n      <td>0.043478</td>\n      <td>0.043478</td>\n      <td>0.043478</td>\n      <td>0.043478</td>\n      <td>0.043478</td>\n      <td>0.043478</td>\n      <td>0.043478</td>\n      <td>0.043478</td>\n      <td>0.043478</td>\n      <td>0.043478</td>\n      <td>...</td>\n      <td>0.043478</td>\n      <td>0.043478</td>\n      <td>0.043478</td>\n      <td>0.043478</td>\n      <td>0.043478</td>\n      <td>0.043478</td>\n      <td>0.043478</td>\n      <td>0.043478</td>\n      <td>0.043478</td>\n      <td>0.043478</td>\n    </tr>\n    <tr>\n      <th>2008-01-03</th>\n      <td>0.043478</td>\n      <td>0.043478</td>\n      <td>0.043478</td>\n      <td>0.043478</td>\n      <td>0.043478</td>\n      <td>0.043478</td>\n      <td>0.043478</td>\n      <td>0.043478</td>\n      <td>0.043478</td>\n      <td>0.043478</td>\n      <td>...</td>\n      <td>0.043478</td>\n      <td>0.043478</td>\n      <td>0.043478</td>\n      <td>0.043478</td>\n      <td>0.043478</td>\n      <td>0.043478</td>\n      <td>0.043478</td>\n      <td>0.043478</td>\n      <td>0.043478</td>\n      <td>0.043478</td>\n    </tr>\n    <tr>\n      <th>2008-01-04</th>\n      <td>0.043478</td>\n      <td>0.043478</td>\n      <td>0.043478</td>\n      <td>0.043478</td>\n      <td>0.043478</td>\n      <td>0.043478</td>\n      <td>0.043478</td>\n      <td>0.043478</td>\n      <td>0.043478</td>\n      <td>0.043478</td>\n      <td>...</td>\n      <td>0.043478</td>\n      <td>0.043478</td>\n      <td>0.043478</td>\n      <td>0.043478</td>\n      <td>0.043478</td>\n      <td>0.043478</td>\n      <td>0.043478</td>\n      <td>0.043478</td>\n      <td>0.043478</td>\n      <td>0.043478</td>\n    </tr>\n    <tr>\n      <th>2008-01-07</th>\n      <td>0.043478</td>\n      <td>0.043478</td>\n      <td>0.043478</td>\n      <td>0.043478</td>\n      <td>0.043478</td>\n      <td>0.043478</td>\n      <td>0.043478</td>\n      <td>0.043478</td>\n      <td>0.043478</td>\n      <td>0.043478</td>\n      <td>...</td>\n      <td>0.043478</td>\n      <td>0.043478</td>\n      <td>0.043478</td>\n      <td>0.043478</td>\n      <td>0.043478</td>\n      <td>0.043478</td>\n      <td>0.043478</td>\n      <td>0.043478</td>\n      <td>0.043478</td>\n      <td>0.043478</td>\n    </tr>\n    <tr>\n      <th>2008-01-08</th>\n      <td>0.043478</td>\n      <td>0.043478</td>\n      <td>0.043478</td>\n      <td>0.043478</td>\n      <td>0.043478</td>\n      <td>0.043478</td>\n      <td>0.043478</td>\n      <td>0.043478</td>\n      <td>0.043478</td>\n      <td>0.043478</td>\n      <td>...</td>\n      <td>0.043478</td>\n      <td>0.043478</td>\n      <td>0.043478</td>\n      <td>0.043478</td>\n      <td>0.043478</td>\n      <td>0.043478</td>\n      <td>0.043478</td>\n      <td>0.043478</td>\n      <td>0.043478</td>\n      <td>0.043478</td>\n    </tr>\n    <tr>\n      <th>...</th>\n      <td>...</td>\n      <td>...</td>\n      <td>...</td>\n      <td>...</td>\n      <td>...</td>\n      <td>...</td>\n      <td>...</td>\n      <td>...</td>\n      <td>...</td>\n      <td>...</td>\n      <td>...</td>\n      <td>...</td>\n      <td>...</td>\n      <td>...</td>\n      <td>...</td>\n      <td>...</td>\n      <td>...</td>\n      <td>...</td>\n      <td>...</td>\n      <td>...</td>\n      <td>...</td>\n    </tr>\n    <tr>\n      <th>2016-06-27</th>\n      <td>0.043478</td>\n      <td>0.043478</td>\n      <td>0.043478</td>\n      <td>0.043478</td>\n      <td>0.043478</td>\n      <td>0.043478</td>\n      <td>0.043478</td>\n      <td>0.043478</td>\n      <td>0.043478</td>\n      <td>0.043478</td>\n      <td>...</td>\n      <td>0.043478</td>\n      <td>0.043478</td>\n      <td>0.043478</td>\n      <td>0.043478</td>\n      <td>0.043478</td>\n      <td>0.043478</td>\n      <td>0.043478</td>\n      <td>0.043478</td>\n      <td>0.043478</td>\n      <td>0.043478</td>\n    </tr>\n    <tr>\n      <th>2016-06-28</th>\n      <td>0.043478</td>\n      <td>0.043478</td>\n      <td>0.043478</td>\n      <td>0.043478</td>\n      <td>0.043478</td>\n      <td>0.043478</td>\n      <td>0.043478</td>\n      <td>0.043478</td>\n      <td>0.043478</td>\n      <td>0.043478</td>\n      <td>...</td>\n      <td>0.043478</td>\n      <td>0.043478</td>\n      <td>0.043478</td>\n      <td>0.043478</td>\n      <td>0.043478</td>\n      <td>0.043478</td>\n      <td>0.043478</td>\n      <td>0.043478</td>\n      <td>0.043478</td>\n      <td>0.043478</td>\n    </tr>\n    <tr>\n      <th>2016-06-29</th>\n      <td>0.043478</td>\n      <td>0.043478</td>\n      <td>0.043478</td>\n      <td>0.043478</td>\n      <td>0.043478</td>\n      <td>0.043478</td>\n      <td>0.043478</td>\n      <td>0.043478</td>\n      <td>0.043478</td>\n      <td>0.043478</td>\n      <td>...</td>\n      <td>0.043478</td>\n      <td>0.043478</td>\n      <td>0.043478</td>\n      <td>0.043478</td>\n      <td>0.043478</td>\n      <td>0.043478</td>\n      <td>0.043478</td>\n      <td>0.043478</td>\n      <td>0.043478</td>\n      <td>0.043478</td>\n    </tr>\n    <tr>\n      <th>2016-06-30</th>\n      <td>0.043478</td>\n      <td>0.043478</td>\n      <td>0.043478</td>\n      <td>0.043478</td>\n      <td>0.043478</td>\n      <td>0.043478</td>\n      <td>0.043478</td>\n      <td>0.043478</td>\n      <td>0.043478</td>\n      <td>0.043478</td>\n      <td>...</td>\n      <td>0.043478</td>\n      <td>0.043478</td>\n      <td>0.043478</td>\n      <td>0.043478</td>\n      <td>0.043478</td>\n      <td>0.043478</td>\n      <td>0.043478</td>\n      <td>0.043478</td>\n      <td>0.043478</td>\n      <td>0.043478</td>\n    </tr>\n    <tr>\n      <th>2016-07-01</th>\n      <td>0.043478</td>\n      <td>0.043478</td>\n      <td>0.043478</td>\n      <td>0.043478</td>\n      <td>0.043478</td>\n      <td>0.043478</td>\n      <td>0.043478</td>\n      <td>0.043478</td>\n      <td>0.043478</td>\n      <td>0.043478</td>\n      <td>...</td>\n      <td>0.043478</td>\n      <td>0.043478</td>\n      <td>0.043478</td>\n      <td>0.043478</td>\n      <td>0.043478</td>\n      <td>0.043478</td>\n      <td>0.043478</td>\n      <td>0.043478</td>\n      <td>0.043478</td>\n      <td>0.043478</td>\n    </tr>\n  </tbody>\n</table>\n<p>2141 rows × 23 columns</p>\n</div>"
     },
     "execution_count": 11,
     "metadata": {},
     "output_type": "execute_result"
    }
   ],
   "source": [
    "crp.all_weights"
   ],
   "metadata": {
    "collapsed": false,
    "pycharm": {
     "name": "#%%\n"
    }
   }
  },
  {
   "cell_type": "code",
   "source": [
    "crp.portfolio_return"
   ],
   "metadata": {
    "collapsed": false,
    "pycharm": {
     "name": "#%%\n"
    }
   },
   "execution_count": 12,
   "outputs": [
    {
     "data": {
      "text/plain": "            Relative Returns\nDate                        \n2008-01-02          1.000000\n2008-01-03          1.002028\n2008-01-04          0.984565\n2008-01-07          0.986809\n2008-01-08          0.977574\n...                      ...\n2016-06-27          1.020853\n2016-06-28          1.038589\n2016-06-29          1.051191\n2016-06-30          1.062366\n2016-07-01          1.064690\n\n[2141 rows x 1 columns]",
      "text/html": "<div>\n<style scoped>\n    .dataframe tbody tr th:only-of-type {\n        vertical-align: middle;\n    }\n\n    .dataframe tbody tr th {\n        vertical-align: top;\n    }\n\n    .dataframe thead th {\n        text-align: right;\n    }\n</style>\n<table border=\"1\" class=\"dataframe\">\n  <thead>\n    <tr style=\"text-align: right;\">\n      <th></th>\n      <th>Relative Returns</th>\n    </tr>\n    <tr>\n      <th>Date</th>\n      <th></th>\n    </tr>\n  </thead>\n  <tbody>\n    <tr>\n      <th>2008-01-02</th>\n      <td>1.000000</td>\n    </tr>\n    <tr>\n      <th>2008-01-03</th>\n      <td>1.002028</td>\n    </tr>\n    <tr>\n      <th>2008-01-04</th>\n      <td>0.984565</td>\n    </tr>\n    <tr>\n      <th>2008-01-07</th>\n      <td>0.986809</td>\n    </tr>\n    <tr>\n      <th>2008-01-08</th>\n      <td>0.977574</td>\n    </tr>\n    <tr>\n      <th>...</th>\n      <td>...</td>\n    </tr>\n    <tr>\n      <th>2016-06-27</th>\n      <td>1.020853</td>\n    </tr>\n    <tr>\n      <th>2016-06-28</th>\n      <td>1.038589</td>\n    </tr>\n    <tr>\n      <th>2016-06-29</th>\n      <td>1.051191</td>\n    </tr>\n    <tr>\n      <th>2016-06-30</th>\n      <td>1.062366</td>\n    </tr>\n    <tr>\n      <th>2016-07-01</th>\n      <td>1.064690</td>\n    </tr>\n  </tbody>\n</table>\n<p>2141 rows × 1 columns</p>\n</div>"
     },
     "execution_count": 12,
     "metadata": {},
     "output_type": "execute_result"
    }
   ]
  }
 ],
 "metadata": {
  "kernelspec": {
   "display_name": "Python 3",
   "language": "python",
   "name": "python3"
  },
  "language_info": {
   "codemirror_mode": {
    "name": "ipython",
    "version": 2
   },
   "file_extension": ".py",
   "mimetype": "text/x-python",
   "name": "python",
   "nbconvert_exporter": "python",
   "pygments_lexer": "ipython2",
   "version": "2.7.6"
  }
 },
 "nbformat": 4,
 "nbformat_minor": 0
}