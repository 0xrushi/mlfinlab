{
 "cells": [
  {
   "cell_type": "markdown",
   "source": [
    "testing jupyter notebook for BCRP class"
   ],
   "metadata": {
    "collapsed": false,
    "pycharm": {
     "name": "#%% md\n"
    }
   }
  },
  {
   "cell_type": "code",
   "execution_count": 1,
   "metadata": {
    "collapsed": true
   },
   "outputs": [
    {
     "name": "stdout",
     "output_type": "stream",
     "text": [
      "\n",
      "\n",
      "Support us on Patreon: https://www.patreon.com/HudsonThames\n",
      "\n",
      "MlFinLab needs you! We need your help for us to keep on maintaining and implementing academic research based on \n",
      "financial machine learning (for open-source). In order for us to continue we need to raise $4000 of monthly donations\n",
      "via Patreon - by December 2020. If we can't reach our goal, we will need to adopt more of a paid for service. We thought\n",
      "that the best and least impactful course of action (should we not reach our goal) is to leave the package as open-source\n",
      "but to make the documentation (ReadTheDocs) a paid for service. This is the ultimate litmus test, if the package is a \n",
      "value add, then we need the community to help us keep it going.\n",
      "\n",
      "Our road map for 2020 is to implement the text book: Machine Learning for Asset Managers by Marcos Lopez de Prado, \n",
      "as well as a few papers from the Journal of Financial Data Science. We are hiring a full time developer for 3 months \n",
      "to help us reach our goals. The money that you, our sponsors, contribute will go directly to paying salaries and other \n",
      "expenses such as journal subscriptions and data. \n",
      "\n",
      "We need your help to continue maintaining and developing this community. Thank you for using our package and we \n",
      "invite you to join our slack channel using the following link:\n",
      "https://join.slack.com/t/mlfinlab/shared_invite/zt-c62u9gpz-VFc13j6da~UVg3DkV7~RjQ\n",
      "\n",
      "\n",
      "\n"
     ]
    },
    {
     "name": "stderr",
     "output_type": "stream",
     "text": [
      "/Users/alexkwon/opt/anaconda3/envs/ht/lib/python3.6/site-packages/sklearn/utils/deprecation.py:144: FutureWarning: The sklearn.ensemble.bagging module is  deprecated in version 0.22 and will be removed in version 0.24. The corresponding classes / functions should instead be imported from sklearn.ensemble. Anything that cannot be imported from sklearn.ensemble is now part of the private API.\n",
      "  warnings.warn(message, FutureWarning)\n",
      "/Users/alexkwon/opt/anaconda3/envs/ht/lib/python3.6/site-packages/sklearn/utils/deprecation.py:144: FutureWarning: The sklearn.ensemble.base module is  deprecated in version 0.22 and will be removed in version 0.24. The corresponding classes / functions should instead be imported from sklearn.ensemble. Anything that cannot be imported from sklearn.ensemble is now part of the private API.\n",
      "  warnings.warn(message, FutureWarning)\n"
     ]
    }
   ],
   "source": [
    "import numpy as np\n",
    "import pandas as pd\n",
    "from mlfinlab.online_portfolio_selection import *\n",
    "\n"
   ]
  },
  {
   "cell_type": "code",
   "execution_count": 2,
   "outputs": [],
   "source": [
    "stock_prices = pd.read_csv('../tests/test_data/stock_prices.csv', parse_dates=True, index_col='Date')\n",
    "stock_prices = stock_prices.dropna(axis=1)\n",
    "asset_name = list(stock_prices.columns)"
   ],
   "metadata": {
    "collapsed": false,
    "pycharm": {
     "name": "#%%\n"
    }
   }
  },
  {
   "cell_type": "code",
   "execution_count": 3,
   "outputs": [],
   "source": [
    "idx = stock_prices.index\n",
    "name = stock_prices.columns"
   ],
   "metadata": {
    "collapsed": false,
    "pycharm": {
     "name": "#%%\n"
    }
   }
  },
  {
   "cell_type": "code",
   "execution_count": 4,
   "outputs": [],
   "source": [
    "bcrp = BCRP()\n",
    "bcrp.allocate(name,stock_prices)"
   ],
   "metadata": {
    "collapsed": false,
    "pycharm": {
     "name": "#%%\n"
    }
   }
  },
  {
   "cell_type": "code",
   "execution_count": 5,
   "outputs": [
    {
     "data": {
      "text/plain": "                     EEM           EWG           TIP           EWJ  \\\nDate                                                                 \n2008-01-02  6.316502e-13  4.571839e-13  1.473851e-12  7.739077e-13   \n2008-01-03  6.316502e-13  4.571839e-13  1.473851e-12  7.739077e-13   \n2008-01-04  6.316502e-13  4.571839e-13  1.473851e-12  7.739077e-13   \n2008-01-07  6.316502e-13  4.571839e-13  1.473851e-12  7.739077e-13   \n2008-01-08  6.316502e-13  4.571839e-13  1.473851e-12  7.739077e-13   \n...                  ...           ...           ...           ...   \n2016-06-27  6.316502e-13  4.571839e-13  1.473851e-12  7.739077e-13   \n2016-06-28  6.316502e-13  4.571839e-13  1.473851e-12  7.739077e-13   \n2016-06-29  6.316502e-13  4.571839e-13  1.473851e-12  7.739077e-13   \n2016-06-30  6.316502e-13  4.571839e-13  1.473851e-12  7.739077e-13   \n2016-07-01  6.316502e-13  4.571839e-13  1.473851e-12  7.739077e-13   \n\n                     EFA           IEF           EWQ           EWU  \\\nDate                                                                 \n2008-01-02  4.002435e-13  3.205738e-12  2.932964e-13  2.974225e-13   \n2008-01-03  4.002435e-13  3.205738e-12  2.932964e-13  2.974225e-13   \n2008-01-04  4.002435e-13  3.205738e-12  2.932964e-13  2.974225e-13   \n2008-01-07  4.002435e-13  3.205738e-12  2.932964e-13  2.974225e-13   \n2008-01-08  4.002435e-13  3.205738e-12  2.932964e-13  2.974225e-13   \n...                  ...           ...           ...           ...   \n2016-06-27  4.002435e-13  3.205738e-12  2.932964e-13  2.974225e-13   \n2016-06-28  4.002435e-13  3.205738e-12  2.932964e-13  2.974225e-13   \n2016-06-29  4.002435e-13  3.205738e-12  2.932964e-13  2.974225e-13   \n2016-06-30  4.002435e-13  3.205738e-12  2.932964e-13  2.974225e-13   \n2016-07-01  4.002435e-13  3.205738e-12  2.932964e-13  2.974225e-13   \n\n                     XLB           XLE  ...           XLU           EPP  \\\nDate                                    ...                               \n2008-01-02  2.468916e-12  1.254015e-12  ...  2.808946e-12  6.600134e-13   \n2008-01-03  2.468916e-12  1.254015e-12  ...  2.808946e-12  6.600134e-13   \n2008-01-04  2.468916e-12  1.254015e-12  ...  2.808946e-12  6.600134e-13   \n2008-01-07  2.468916e-12  1.254015e-12  ...  2.808946e-12  6.600134e-13   \n2008-01-08  2.468916e-12  1.254015e-12  ...  2.808946e-12  6.600134e-13   \n...                  ...           ...  ...           ...           ...   \n2016-06-27  2.468916e-12  1.254015e-12  ...  2.808946e-12  6.600134e-13   \n2016-06-28  2.468916e-12  1.254015e-12  ...  2.808946e-12  6.600134e-13   \n2016-06-29  2.468916e-12  1.254015e-12  ...  2.808946e-12  6.600134e-13   \n2016-06-30  2.468916e-12  1.254015e-12  ...  2.808946e-12  6.600134e-13   \n2016-07-01  2.468916e-12  1.254015e-12  ...  2.808946e-12  6.600134e-13   \n\n                     FXI           VGK           VPL           SPY       TLT  \\\nDate                                                                           \n2008-01-02  6.247045e-13  2.868959e-13  6.172570e-13  7.147100e-12  0.374728   \n2008-01-03  6.247045e-13  2.868959e-13  6.172570e-13  7.147100e-12  0.374728   \n2008-01-04  6.247045e-13  2.868959e-13  6.172570e-13  7.147100e-12  0.374728   \n2008-01-07  6.247045e-13  2.868959e-13  6.172570e-13  7.147100e-12  0.374728   \n2008-01-08  6.247045e-13  2.868959e-13  6.172570e-13  7.147100e-12  0.374728   \n...                  ...           ...           ...           ...       ...   \n2016-06-27  6.247045e-13  2.868959e-13  6.172570e-13  7.147100e-12  0.374728   \n2016-06-28  6.247045e-13  2.868959e-13  6.172570e-13  7.147100e-12  0.374728   \n2016-06-29  6.247045e-13  2.868959e-13  6.172570e-13  7.147100e-12  0.374728   \n2016-06-30  6.247045e-13  2.868959e-13  6.172570e-13  7.147100e-12  0.374728   \n2016-07-01  6.247045e-13  2.868959e-13  6.172570e-13  7.147100e-12  0.374728   \n\n                     BND           CSJ           DIA  \nDate                                                  \n2008-01-02  1.383106e-12  1.180434e-12  4.019801e-12  \n2008-01-03  1.383106e-12  1.180434e-12  4.019801e-12  \n2008-01-04  1.383106e-12  1.180434e-12  4.019801e-12  \n2008-01-07  1.383106e-12  1.180434e-12  4.019801e-12  \n2008-01-08  1.383106e-12  1.180434e-12  4.019801e-12  \n...                  ...           ...           ...  \n2016-06-27  1.383106e-12  1.180434e-12  4.019801e-12  \n2016-06-28  1.383106e-12  1.180434e-12  4.019801e-12  \n2016-06-29  1.383106e-12  1.180434e-12  4.019801e-12  \n2016-06-30  1.383106e-12  1.180434e-12  4.019801e-12  \n2016-07-01  1.383106e-12  1.180434e-12  4.019801e-12  \n\n[2141 rows x 23 columns]",
      "text/html": "<div>\n<style scoped>\n    .dataframe tbody tr th:only-of-type {\n        vertical-align: middle;\n    }\n\n    .dataframe tbody tr th {\n        vertical-align: top;\n    }\n\n    .dataframe thead th {\n        text-align: right;\n    }\n</style>\n<table border=\"1\" class=\"dataframe\">\n  <thead>\n    <tr style=\"text-align: right;\">\n      <th></th>\n      <th>EEM</th>\n      <th>EWG</th>\n      <th>TIP</th>\n      <th>EWJ</th>\n      <th>EFA</th>\n      <th>IEF</th>\n      <th>EWQ</th>\n      <th>EWU</th>\n      <th>XLB</th>\n      <th>XLE</th>\n      <th>...</th>\n      <th>XLU</th>\n      <th>EPP</th>\n      <th>FXI</th>\n      <th>VGK</th>\n      <th>VPL</th>\n      <th>SPY</th>\n      <th>TLT</th>\n      <th>BND</th>\n      <th>CSJ</th>\n      <th>DIA</th>\n    </tr>\n    <tr>\n      <th>Date</th>\n      <th></th>\n      <th></th>\n      <th></th>\n      <th></th>\n      <th></th>\n      <th></th>\n      <th></th>\n      <th></th>\n      <th></th>\n      <th></th>\n      <th></th>\n      <th></th>\n      <th></th>\n      <th></th>\n      <th></th>\n      <th></th>\n      <th></th>\n      <th></th>\n      <th></th>\n      <th></th>\n      <th></th>\n    </tr>\n  </thead>\n  <tbody>\n    <tr>\n      <th>2008-01-02</th>\n      <td>6.316502e-13</td>\n      <td>4.571839e-13</td>\n      <td>1.473851e-12</td>\n      <td>7.739077e-13</td>\n      <td>4.002435e-13</td>\n      <td>3.205738e-12</td>\n      <td>2.932964e-13</td>\n      <td>2.974225e-13</td>\n      <td>2.468916e-12</td>\n      <td>1.254015e-12</td>\n      <td>...</td>\n      <td>2.808946e-12</td>\n      <td>6.600134e-13</td>\n      <td>6.247045e-13</td>\n      <td>2.868959e-13</td>\n      <td>6.172570e-13</td>\n      <td>7.147100e-12</td>\n      <td>0.374728</td>\n      <td>1.383106e-12</td>\n      <td>1.180434e-12</td>\n      <td>4.019801e-12</td>\n    </tr>\n    <tr>\n      <th>2008-01-03</th>\n      <td>6.316502e-13</td>\n      <td>4.571839e-13</td>\n      <td>1.473851e-12</td>\n      <td>7.739077e-13</td>\n      <td>4.002435e-13</td>\n      <td>3.205738e-12</td>\n      <td>2.932964e-13</td>\n      <td>2.974225e-13</td>\n      <td>2.468916e-12</td>\n      <td>1.254015e-12</td>\n      <td>...</td>\n      <td>2.808946e-12</td>\n      <td>6.600134e-13</td>\n      <td>6.247045e-13</td>\n      <td>2.868959e-13</td>\n      <td>6.172570e-13</td>\n      <td>7.147100e-12</td>\n      <td>0.374728</td>\n      <td>1.383106e-12</td>\n      <td>1.180434e-12</td>\n      <td>4.019801e-12</td>\n    </tr>\n    <tr>\n      <th>2008-01-04</th>\n      <td>6.316502e-13</td>\n      <td>4.571839e-13</td>\n      <td>1.473851e-12</td>\n      <td>7.739077e-13</td>\n      <td>4.002435e-13</td>\n      <td>3.205738e-12</td>\n      <td>2.932964e-13</td>\n      <td>2.974225e-13</td>\n      <td>2.468916e-12</td>\n      <td>1.254015e-12</td>\n      <td>...</td>\n      <td>2.808946e-12</td>\n      <td>6.600134e-13</td>\n      <td>6.247045e-13</td>\n      <td>2.868959e-13</td>\n      <td>6.172570e-13</td>\n      <td>7.147100e-12</td>\n      <td>0.374728</td>\n      <td>1.383106e-12</td>\n      <td>1.180434e-12</td>\n      <td>4.019801e-12</td>\n    </tr>\n    <tr>\n      <th>2008-01-07</th>\n      <td>6.316502e-13</td>\n      <td>4.571839e-13</td>\n      <td>1.473851e-12</td>\n      <td>7.739077e-13</td>\n      <td>4.002435e-13</td>\n      <td>3.205738e-12</td>\n      <td>2.932964e-13</td>\n      <td>2.974225e-13</td>\n      <td>2.468916e-12</td>\n      <td>1.254015e-12</td>\n      <td>...</td>\n      <td>2.808946e-12</td>\n      <td>6.600134e-13</td>\n      <td>6.247045e-13</td>\n      <td>2.868959e-13</td>\n      <td>6.172570e-13</td>\n      <td>7.147100e-12</td>\n      <td>0.374728</td>\n      <td>1.383106e-12</td>\n      <td>1.180434e-12</td>\n      <td>4.019801e-12</td>\n    </tr>\n    <tr>\n      <th>2008-01-08</th>\n      <td>6.316502e-13</td>\n      <td>4.571839e-13</td>\n      <td>1.473851e-12</td>\n      <td>7.739077e-13</td>\n      <td>4.002435e-13</td>\n      <td>3.205738e-12</td>\n      <td>2.932964e-13</td>\n      <td>2.974225e-13</td>\n      <td>2.468916e-12</td>\n      <td>1.254015e-12</td>\n      <td>...</td>\n      <td>2.808946e-12</td>\n      <td>6.600134e-13</td>\n      <td>6.247045e-13</td>\n      <td>2.868959e-13</td>\n      <td>6.172570e-13</td>\n      <td>7.147100e-12</td>\n      <td>0.374728</td>\n      <td>1.383106e-12</td>\n      <td>1.180434e-12</td>\n      <td>4.019801e-12</td>\n    </tr>\n    <tr>\n      <th>...</th>\n      <td>...</td>\n      <td>...</td>\n      <td>...</td>\n      <td>...</td>\n      <td>...</td>\n      <td>...</td>\n      <td>...</td>\n      <td>...</td>\n      <td>...</td>\n      <td>...</td>\n      <td>...</td>\n      <td>...</td>\n      <td>...</td>\n      <td>...</td>\n      <td>...</td>\n      <td>...</td>\n      <td>...</td>\n      <td>...</td>\n      <td>...</td>\n      <td>...</td>\n      <td>...</td>\n    </tr>\n    <tr>\n      <th>2016-06-27</th>\n      <td>6.316502e-13</td>\n      <td>4.571839e-13</td>\n      <td>1.473851e-12</td>\n      <td>7.739077e-13</td>\n      <td>4.002435e-13</td>\n      <td>3.205738e-12</td>\n      <td>2.932964e-13</td>\n      <td>2.974225e-13</td>\n      <td>2.468916e-12</td>\n      <td>1.254015e-12</td>\n      <td>...</td>\n      <td>2.808946e-12</td>\n      <td>6.600134e-13</td>\n      <td>6.247045e-13</td>\n      <td>2.868959e-13</td>\n      <td>6.172570e-13</td>\n      <td>7.147100e-12</td>\n      <td>0.374728</td>\n      <td>1.383106e-12</td>\n      <td>1.180434e-12</td>\n      <td>4.019801e-12</td>\n    </tr>\n    <tr>\n      <th>2016-06-28</th>\n      <td>6.316502e-13</td>\n      <td>4.571839e-13</td>\n      <td>1.473851e-12</td>\n      <td>7.739077e-13</td>\n      <td>4.002435e-13</td>\n      <td>3.205738e-12</td>\n      <td>2.932964e-13</td>\n      <td>2.974225e-13</td>\n      <td>2.468916e-12</td>\n      <td>1.254015e-12</td>\n      <td>...</td>\n      <td>2.808946e-12</td>\n      <td>6.600134e-13</td>\n      <td>6.247045e-13</td>\n      <td>2.868959e-13</td>\n      <td>6.172570e-13</td>\n      <td>7.147100e-12</td>\n      <td>0.374728</td>\n      <td>1.383106e-12</td>\n      <td>1.180434e-12</td>\n      <td>4.019801e-12</td>\n    </tr>\n    <tr>\n      <th>2016-06-29</th>\n      <td>6.316502e-13</td>\n      <td>4.571839e-13</td>\n      <td>1.473851e-12</td>\n      <td>7.739077e-13</td>\n      <td>4.002435e-13</td>\n      <td>3.205738e-12</td>\n      <td>2.932964e-13</td>\n      <td>2.974225e-13</td>\n      <td>2.468916e-12</td>\n      <td>1.254015e-12</td>\n      <td>...</td>\n      <td>2.808946e-12</td>\n      <td>6.600134e-13</td>\n      <td>6.247045e-13</td>\n      <td>2.868959e-13</td>\n      <td>6.172570e-13</td>\n      <td>7.147100e-12</td>\n      <td>0.374728</td>\n      <td>1.383106e-12</td>\n      <td>1.180434e-12</td>\n      <td>4.019801e-12</td>\n    </tr>\n    <tr>\n      <th>2016-06-30</th>\n      <td>6.316502e-13</td>\n      <td>4.571839e-13</td>\n      <td>1.473851e-12</td>\n      <td>7.739077e-13</td>\n      <td>4.002435e-13</td>\n      <td>3.205738e-12</td>\n      <td>2.932964e-13</td>\n      <td>2.974225e-13</td>\n      <td>2.468916e-12</td>\n      <td>1.254015e-12</td>\n      <td>...</td>\n      <td>2.808946e-12</td>\n      <td>6.600134e-13</td>\n      <td>6.247045e-13</td>\n      <td>2.868959e-13</td>\n      <td>6.172570e-13</td>\n      <td>7.147100e-12</td>\n      <td>0.374728</td>\n      <td>1.383106e-12</td>\n      <td>1.180434e-12</td>\n      <td>4.019801e-12</td>\n    </tr>\n    <tr>\n      <th>2016-07-01</th>\n      <td>6.316502e-13</td>\n      <td>4.571839e-13</td>\n      <td>1.473851e-12</td>\n      <td>7.739077e-13</td>\n      <td>4.002435e-13</td>\n      <td>3.205738e-12</td>\n      <td>2.932964e-13</td>\n      <td>2.974225e-13</td>\n      <td>2.468916e-12</td>\n      <td>1.254015e-12</td>\n      <td>...</td>\n      <td>2.808946e-12</td>\n      <td>6.600134e-13</td>\n      <td>6.247045e-13</td>\n      <td>2.868959e-13</td>\n      <td>6.172570e-13</td>\n      <td>7.147100e-12</td>\n      <td>0.374728</td>\n      <td>1.383106e-12</td>\n      <td>1.180434e-12</td>\n      <td>4.019801e-12</td>\n    </tr>\n  </tbody>\n</table>\n<p>2141 rows × 23 columns</p>\n</div>"
     },
     "execution_count": 5,
     "metadata": {},
     "output_type": "execute_result"
    }
   ],
   "source": [
    "bcrp.all_weights"
   ],
   "metadata": {
    "collapsed": false,
    "pycharm": {
     "name": "#%%\n"
    }
   }
  },
  {
   "cell_type": "code",
   "source": [
    "bcrp.portfolio_return"
   ],
   "metadata": {
    "collapsed": false,
    "pycharm": {
     "name": "#%%\n"
    }
   },
   "execution_count": 6,
   "outputs": [
    {
     "data": {
      "text/plain": "            Relative Returns\nDate                        \n2008-01-02          1.000000\n2008-01-03          1.000441\n2008-01-04          0.976130\n2008-01-07          0.972380\n2008-01-08          0.955854\n...                      ...\n2016-06-27          1.712302\n2016-06-28          1.734830\n2016-06-29          1.746531\n2016-06-30          1.760907\n2016-07-01          1.771379\n\n[2141 rows x 1 columns]",
      "text/html": "<div>\n<style scoped>\n    .dataframe tbody tr th:only-of-type {\n        vertical-align: middle;\n    }\n\n    .dataframe tbody tr th {\n        vertical-align: top;\n    }\n\n    .dataframe thead th {\n        text-align: right;\n    }\n</style>\n<table border=\"1\" class=\"dataframe\">\n  <thead>\n    <tr style=\"text-align: right;\">\n      <th></th>\n      <th>Relative Returns</th>\n    </tr>\n    <tr>\n      <th>Date</th>\n      <th></th>\n    </tr>\n  </thead>\n  <tbody>\n    <tr>\n      <th>2008-01-02</th>\n      <td>1.000000</td>\n    </tr>\n    <tr>\n      <th>2008-01-03</th>\n      <td>1.000441</td>\n    </tr>\n    <tr>\n      <th>2008-01-04</th>\n      <td>0.976130</td>\n    </tr>\n    <tr>\n      <th>2008-01-07</th>\n      <td>0.972380</td>\n    </tr>\n    <tr>\n      <th>2008-01-08</th>\n      <td>0.955854</td>\n    </tr>\n    <tr>\n      <th>...</th>\n      <td>...</td>\n    </tr>\n    <tr>\n      <th>2016-06-27</th>\n      <td>1.712302</td>\n    </tr>\n    <tr>\n      <th>2016-06-28</th>\n      <td>1.734830</td>\n    </tr>\n    <tr>\n      <th>2016-06-29</th>\n      <td>1.746531</td>\n    </tr>\n    <tr>\n      <th>2016-06-30</th>\n      <td>1.760907</td>\n    </tr>\n    <tr>\n      <th>2016-07-01</th>\n      <td>1.771379</td>\n    </tr>\n  </tbody>\n</table>\n<p>2141 rows × 1 columns</p>\n</div>"
     },
     "execution_count": 6,
     "metadata": {},
     "output_type": "execute_result"
    }
   ]
  }
 ],
 "metadata": {
  "kernelspec": {
   "display_name": "Python 3",
   "language": "python",
   "name": "python3"
  },
  "language_info": {
   "codemirror_mode": {
    "name": "ipython",
    "version": 2
   },
   "file_extension": ".py",
   "mimetype": "text/x-python",
   "name": "python",
   "nbconvert_exporter": "python",
   "pygments_lexer": "ipython2",
   "version": "2.7.6"
  }
 },
 "nbformat": 4,
 "nbformat_minor": 0
}